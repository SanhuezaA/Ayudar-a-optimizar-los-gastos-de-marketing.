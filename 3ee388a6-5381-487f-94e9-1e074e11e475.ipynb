{
 "cells": [
  {
   "cell_type": "markdown",
   "metadata": {},
   "source": [
    "# Hola Alejandro! <a class=\"tocSkip\"></a>\n",
    "\n",
    "Mi nombre es Oscar Flores y tengo el gusto de revisar tu proyecto. Si tienes algún comentario que quieras agregar en tus respuestas te puedes referir a mi como Oscar, no hay problema que me trates de tú.\n",
    "\n",
    "Si veo un error en la primera revisión solamente lo señalaré y dejaré que tú encuentres de qué se trata y cómo arreglarlo. Debo prepararte para que te desempeñes como especialista en Data, en un trabajo real, el responsable a cargo tuyo hará lo mismo. Si aún tienes dificultades para resolver esta tarea, te daré indicaciones más precisas en una siguiente iteración.\n",
    "\n",
    "Te dejaré mis comentarios más abajo - **por favor, no los muevas, modifiques o borres**\n",
    "\n",
    "Comenzaré mis comentarios con un resumen de los puntos que están bien, aquellos que debes corregir y aquellos que puedes mejorar. Luego deberás revisar todo el notebook para leer mis comentarios, los cuales estarán en rectángulos de color verde, amarillo o rojo como siguen:\n",
    "\n",
    "<div class=\"alert alert-block alert-success\">\n",
    "<b>Comentario de Reviewer</b> <a class=\"tocSkip\"></a>\n",
    "    \n",
    "Muy bien! Toda la respuesta fue lograda satisfactoriamente.\n",
    "</div>\n",
    "\n",
    "<div class=\"alert alert-block alert-warning\">\n",
    "<b>Comentario de Reviewer</b> <a class=\"tocSkip\"></a>\n",
    "\n",
    "Existen detalles a mejorar. Existen recomendaciones.\n",
    "</div>\n",
    "\n",
    "<div class=\"alert alert-block alert-danger\">\n",
    "\n",
    "<b>Comentario de Reviewer</b> <a class=\"tocSkip\"></a>\n",
    "\n",
    "Se necesitan correcciones en el bloque. El trabajo no puede ser aceptado con comentarios en rojo sin solucionar.\n",
    "</div>\n",
    "\n",
    "Cualquier comentario que quieras agregar entre iteraciones de revisión lo puedes hacer de la siguiente manera:\n",
    "\n",
    "<div class=\"alert alert-block alert-info\">\n",
    "<b>Respuesta estudiante.</b> <a class=\"tocSkip\"></a>\n",
    "</div>\n",
    "\n",
    "Mucho éxito en el proyecto!"
   ]
  },
  {
   "cell_type": "markdown",
   "metadata": {},
   "source": [
    "## Resumen de la revisión 1 <a class=\"tocSkip\"></a>"
   ]
  },
  {
   "cell_type": "markdown",
   "metadata": {},
   "source": [
    "<div class=\"alert alert-block alert-danger\">\n",
    "<b>Comentario de Revisor</b> <a class=\"tocSkip\"></a>\n",
    "\n",
    "Hola Alejandro, hay varios puntos que requieren tu atención en el notebook. Dejé comentarios detallados acerca de las correcciones necesarias, revisa los recuadros rojos y realiza las modificaciones adecuadas. Cualquier consulta o duda me la puedes dejar en un recuadro azul y la responderé en la siguiente revisión.\n",
    "    \n",
    "Saludos!    \n",
    "\n",
    "</div>"
   ]
  },
  {
   "cell_type": "markdown",
   "metadata": {},
   "source": [
    "## Resumen de la revisión 2 <a class=\"tocSkip\"></a>"
   ]
  },
  {
   "cell_type": "markdown",
   "metadata": {},
   "source": [
    "<div class=\"alert alert-block alert-danger\">\n",
    "<b>Comentario de Revisor v2</b> <a class=\"tocSkip\"></a>\n",
    "\n",
    "Bien con varias correcciones, pero aún hay detalles que arreglar. Te dejé comentarios específicos de algunos errores, que en general son pequeños pero causan que la métrica final no esté bien calculada.    \n",
    "    \n",
    "Saludos!    \n",
    "\n",
    "</div>"
   ]
  },
  {
   "cell_type": "markdown",
   "metadata": {},
   "source": [
    "## Resumen de la revisión 3 <a class=\"tocSkip\"></a>"
   ]
  },
  {
   "cell_type": "markdown",
   "metadata": {},
   "source": [
    "<div class=\"alert alert-block alert-danger\">\n",
    "<b>Comentario de Revisor v3</b> <a class=\"tocSkip\"></a>\n",
    "\n",
    "Hola Alejandro, revisa el cálculo del LTV, hay un error en la obtención de las edades de las cohortes. Además, en el cac estás considerando múltiples veces los usuarios, revisa eso también. Dejé comentarios para ambas partes.\n",
    "    \n",
    "Saludos!    \n",
    "\n",
    "</div>"
   ]
  },
  {
   "cell_type": "markdown",
   "metadata": {},
   "source": [
    "## Resumen de la revisión 4 <a class=\"tocSkip\"></a>"
   ]
  },
  {
   "cell_type": "markdown",
   "metadata": {},
   "source": [
    "<div class=\"alert alert-block alert-danger\">\n",
    "<b>Comentario de Revisor v4</b> <a class=\"tocSkip\"></a>\n",
    "\n",
    "Muy bien Alejandro, tu notebook está casi terminado. Tan solo falta que corrijas un pequeño error en el CAC y que calcules el ROMI. El resultado del ROMI deberán ser varias tablas similares al del LTV, te dejé instrucciones detalladas en esa parte.\n",
    "    \n",
    "Saludos!    \n",
    "\n",
    "</div>"
   ]
  },
  {
   "cell_type": "markdown",
   "metadata": {},
   "source": [
    "## Resumen de la revisión 5 <a class=\"tocSkip\"></a>"
   ]
  },
  {
   "cell_type": "markdown",
   "metadata": {},
   "source": [
    "<div class=\"alert alert-block alert-success\">\n",
    "<b>Comentario de Revisor v5</b> <a class=\"tocSkip\"></a>\n",
    "\n",
    "Muy bien Alejandro, has completado correctamente todo lo necesario del notebook. No tengo más comentarios de corrección a realizar, está aprobado.\n",
    "    \n",
    "Saludos!\n",
    "\n",
    "</div>"
   ]
  },
  {
   "cell_type": "markdown",
   "metadata": {},
   "source": [
    "-----"
   ]
  },
  {
   "cell_type": "code",
   "execution_count": 1,
   "metadata": {},
   "outputs": [],
   "source": [
    "import pandas as pd\n",
    "import matplotlib.pyplot as plt\n",
    "\n",
    "visitas = pd.read_csv(\"/datasets/visits_log_us.csv\", \n",
    "                      dtype={'Device': 'category'},\n",
    "                      parse_dates=['Start Ts', 'End Ts'])\n",
    "ordenes = pd.read_csv(\"/datasets/orders_log_us.csv\",\n",
    "                      parse_dates=['Buy Ts'])\n",
    "costos = pd.read_csv(\"/datasets/costs_us.csv\",\n",
    "                    parse_dates=['dt'])"
   ]
  },
  {
   "cell_type": "code",
   "execution_count": 2,
   "metadata": {},
   "outputs": [
    {
     "name": "stdout",
     "output_type": "stream",
     "text": [
      "<class 'pandas.core.frame.DataFrame'>\n",
      "RangeIndex: 359400 entries, 0 to 359399\n",
      "Data columns (total 5 columns):\n",
      " #   Column     Non-Null Count   Dtype         \n",
      "---  ------     --------------   -----         \n",
      " 0   Device     359400 non-null  category      \n",
      " 1   End Ts     359400 non-null  datetime64[ns]\n",
      " 2   Source Id  359400 non-null  int64         \n",
      " 3   Start Ts   359400 non-null  datetime64[ns]\n",
      " 4   Uid        359400 non-null  uint64        \n",
      "dtypes: category(1), datetime64[ns](2), int64(1), uint64(1)\n",
      "memory usage: 11.3 MB\n",
      "\n",
      "<class 'pandas.core.frame.DataFrame'>\n",
      "RangeIndex: 50415 entries, 0 to 50414\n",
      "Data columns (total 3 columns):\n",
      " #   Column   Non-Null Count  Dtype         \n",
      "---  ------   --------------  -----         \n",
      " 0   Buy Ts   50415 non-null  datetime64[ns]\n",
      " 1   Revenue  50415 non-null  float64       \n",
      " 2   Uid      50415 non-null  uint64        \n",
      "dtypes: datetime64[ns](1), float64(1), uint64(1)\n",
      "memory usage: 1.2 MB\n",
      "\n",
      "<class 'pandas.core.frame.DataFrame'>\n",
      "RangeIndex: 2542 entries, 0 to 2541\n",
      "Data columns (total 3 columns):\n",
      " #   Column     Non-Null Count  Dtype         \n",
      "---  ------     --------------  -----         \n",
      " 0   source_id  2542 non-null   int64         \n",
      " 1   dt         2542 non-null   datetime64[ns]\n",
      " 2   costs      2542 non-null   float64       \n",
      "dtypes: datetime64[ns](1), float64(1), int64(1)\n",
      "memory usage: 59.7 KB\n"
     ]
    }
   ],
   "source": [
    "visitas.info(memory_usage='deep')\n",
    "print()\n",
    "ordenes.info(memory_usage='deep')\n",
    "print()\n",
    "costos.info(memory_usage='deep')"
   ]
  },
  {
   "cell_type": "code",
   "execution_count": 3,
   "metadata": {},
   "outputs": [
    {
     "data": {
      "text/html": [
       "<div>\n",
       "<style scoped>\n",
       "    .dataframe tbody tr th:only-of-type {\n",
       "        vertical-align: middle;\n",
       "    }\n",
       "\n",
       "    .dataframe tbody tr th {\n",
       "        vertical-align: top;\n",
       "    }\n",
       "\n",
       "    .dataframe thead th {\n",
       "        text-align: right;\n",
       "    }\n",
       "</style>\n",
       "<table border=\"1\" class=\"dataframe\">\n",
       "  <thead>\n",
       "    <tr style=\"text-align: right;\">\n",
       "      <th></th>\n",
       "      <th>Device</th>\n",
       "      <th>End Ts</th>\n",
       "      <th>Source Id</th>\n",
       "      <th>Start Ts</th>\n",
       "      <th>Uid</th>\n",
       "    </tr>\n",
       "  </thead>\n",
       "  <tbody>\n",
       "    <tr>\n",
       "      <th>0</th>\n",
       "      <td>touch</td>\n",
       "      <td>2017-12-20 17:38:00</td>\n",
       "      <td>4</td>\n",
       "      <td>2017-12-20 17:20:00</td>\n",
       "      <td>16879256277535980062</td>\n",
       "    </tr>\n",
       "    <tr>\n",
       "      <th>1</th>\n",
       "      <td>desktop</td>\n",
       "      <td>2018-02-19 17:21:00</td>\n",
       "      <td>2</td>\n",
       "      <td>2018-02-19 16:53:00</td>\n",
       "      <td>104060357244891740</td>\n",
       "    </tr>\n",
       "    <tr>\n",
       "      <th>2</th>\n",
       "      <td>touch</td>\n",
       "      <td>2017-07-01 01:54:00</td>\n",
       "      <td>5</td>\n",
       "      <td>2017-07-01 01:54:00</td>\n",
       "      <td>7459035603376831527</td>\n",
       "    </tr>\n",
       "    <tr>\n",
       "      <th>3</th>\n",
       "      <td>desktop</td>\n",
       "      <td>2018-05-20 11:23:00</td>\n",
       "      <td>9</td>\n",
       "      <td>2018-05-20 10:59:00</td>\n",
       "      <td>16174680259334210214</td>\n",
       "    </tr>\n",
       "    <tr>\n",
       "      <th>4</th>\n",
       "      <td>desktop</td>\n",
       "      <td>2017-12-27 14:06:00</td>\n",
       "      <td>3</td>\n",
       "      <td>2017-12-27 14:06:00</td>\n",
       "      <td>9969694820036681168</td>\n",
       "    </tr>\n",
       "  </tbody>\n",
       "</table>\n",
       "</div>"
      ],
      "text/plain": [
       "    Device              End Ts  Source Id            Start Ts  \\\n",
       "0    touch 2017-12-20 17:38:00          4 2017-12-20 17:20:00   \n",
       "1  desktop 2018-02-19 17:21:00          2 2018-02-19 16:53:00   \n",
       "2    touch 2017-07-01 01:54:00          5 2017-07-01 01:54:00   \n",
       "3  desktop 2018-05-20 11:23:00          9 2018-05-20 10:59:00   \n",
       "4  desktop 2017-12-27 14:06:00          3 2017-12-27 14:06:00   \n",
       "\n",
       "                    Uid  \n",
       "0  16879256277535980062  \n",
       "1    104060357244891740  \n",
       "2   7459035603376831527  \n",
       "3  16174680259334210214  \n",
       "4   9969694820036681168  "
      ]
     },
     "execution_count": 3,
     "metadata": {},
     "output_type": "execute_result"
    }
   ],
   "source": [
    "visitas.head()"
   ]
  },
  {
   "cell_type": "code",
   "execution_count": 4,
   "metadata": {},
   "outputs": [
    {
     "data": {
      "text/html": [
       "<div>\n",
       "<style scoped>\n",
       "    .dataframe tbody tr th:only-of-type {\n",
       "        vertical-align: middle;\n",
       "    }\n",
       "\n",
       "    .dataframe tbody tr th {\n",
       "        vertical-align: top;\n",
       "    }\n",
       "\n",
       "    .dataframe thead th {\n",
       "        text-align: right;\n",
       "    }\n",
       "</style>\n",
       "<table border=\"1\" class=\"dataframe\">\n",
       "  <thead>\n",
       "    <tr style=\"text-align: right;\">\n",
       "      <th></th>\n",
       "      <th>Buy Ts</th>\n",
       "      <th>Revenue</th>\n",
       "      <th>Uid</th>\n",
       "    </tr>\n",
       "  </thead>\n",
       "  <tbody>\n",
       "    <tr>\n",
       "      <th>0</th>\n",
       "      <td>2017-06-01 00:10:00</td>\n",
       "      <td>17.00</td>\n",
       "      <td>10329302124590727494</td>\n",
       "    </tr>\n",
       "    <tr>\n",
       "      <th>1</th>\n",
       "      <td>2017-06-01 00:25:00</td>\n",
       "      <td>0.55</td>\n",
       "      <td>11627257723692907447</td>\n",
       "    </tr>\n",
       "    <tr>\n",
       "      <th>2</th>\n",
       "      <td>2017-06-01 00:27:00</td>\n",
       "      <td>0.37</td>\n",
       "      <td>17903680561304213844</td>\n",
       "    </tr>\n",
       "    <tr>\n",
       "      <th>3</th>\n",
       "      <td>2017-06-01 00:29:00</td>\n",
       "      <td>0.55</td>\n",
       "      <td>16109239769442553005</td>\n",
       "    </tr>\n",
       "    <tr>\n",
       "      <th>4</th>\n",
       "      <td>2017-06-01 07:58:00</td>\n",
       "      <td>0.37</td>\n",
       "      <td>14200605875248379450</td>\n",
       "    </tr>\n",
       "  </tbody>\n",
       "</table>\n",
       "</div>"
      ],
      "text/plain": [
       "               Buy Ts  Revenue                   Uid\n",
       "0 2017-06-01 00:10:00    17.00  10329302124590727494\n",
       "1 2017-06-01 00:25:00     0.55  11627257723692907447\n",
       "2 2017-06-01 00:27:00     0.37  17903680561304213844\n",
       "3 2017-06-01 00:29:00     0.55  16109239769442553005\n",
       "4 2017-06-01 07:58:00     0.37  14200605875248379450"
      ]
     },
     "execution_count": 4,
     "metadata": {},
     "output_type": "execute_result"
    }
   ],
   "source": [
    "ordenes.head()"
   ]
  },
  {
   "cell_type": "code",
   "execution_count": 5,
   "metadata": {
    "scrolled": true
   },
   "outputs": [
    {
     "data": {
      "text/html": [
       "<div>\n",
       "<style scoped>\n",
       "    .dataframe tbody tr th:only-of-type {\n",
       "        vertical-align: middle;\n",
       "    }\n",
       "\n",
       "    .dataframe tbody tr th {\n",
       "        vertical-align: top;\n",
       "    }\n",
       "\n",
       "    .dataframe thead th {\n",
       "        text-align: right;\n",
       "    }\n",
       "</style>\n",
       "<table border=\"1\" class=\"dataframe\">\n",
       "  <thead>\n",
       "    <tr style=\"text-align: right;\">\n",
       "      <th></th>\n",
       "      <th>source_id</th>\n",
       "      <th>dt</th>\n",
       "      <th>costs</th>\n",
       "    </tr>\n",
       "  </thead>\n",
       "  <tbody>\n",
       "    <tr>\n",
       "      <th>0</th>\n",
       "      <td>1</td>\n",
       "      <td>2017-06-01</td>\n",
       "      <td>75.20</td>\n",
       "    </tr>\n",
       "    <tr>\n",
       "      <th>1</th>\n",
       "      <td>1</td>\n",
       "      <td>2017-06-02</td>\n",
       "      <td>62.25</td>\n",
       "    </tr>\n",
       "    <tr>\n",
       "      <th>2</th>\n",
       "      <td>1</td>\n",
       "      <td>2017-06-03</td>\n",
       "      <td>36.53</td>\n",
       "    </tr>\n",
       "    <tr>\n",
       "      <th>3</th>\n",
       "      <td>1</td>\n",
       "      <td>2017-06-04</td>\n",
       "      <td>55.00</td>\n",
       "    </tr>\n",
       "    <tr>\n",
       "      <th>4</th>\n",
       "      <td>1</td>\n",
       "      <td>2017-06-05</td>\n",
       "      <td>57.08</td>\n",
       "    </tr>\n",
       "  </tbody>\n",
       "</table>\n",
       "</div>"
      ],
      "text/plain": [
       "   source_id         dt  costs\n",
       "0          1 2017-06-01  75.20\n",
       "1          1 2017-06-02  62.25\n",
       "2          1 2017-06-03  36.53\n",
       "3          1 2017-06-04  55.00\n",
       "4          1 2017-06-05  57.08"
      ]
     },
     "execution_count": 5,
     "metadata": {},
     "output_type": "execute_result"
    }
   ],
   "source": [
    "costos.head()"
   ]
  },
  {
   "cell_type": "markdown",
   "metadata": {},
   "source": [
    "<div class=\"alert alert-block alert-success\">\n",
    "<b>Comentario de Revisor</b> <a class=\"tocSkip\"></a>\n",
    "\n",
    "Bien con la lectura de la data y conversión a datetime. En futuras ocasiones te recomiendo usar el formato snakecase\n",
    "\n",
    "</div>"
   ]
  },
  {
   "cell_type": "markdown",
   "metadata": {},
   "source": [
    "# VISITAS"
   ]
  },
  {
   "cell_type": "markdown",
   "metadata": {},
   "source": [
    "#### ¿Cuántas personas lo usan cada día, semana y mes?"
   ]
  },
  {
   "cell_type": "code",
   "execution_count": 6,
   "metadata": {
    "scrolled": true
   },
   "outputs": [
    {
     "name": "stdout",
     "output_type": "stream",
     "text": [
      "907\n",
      "5716\n",
      "23228\n"
     ]
    }
   ],
   "source": [
    "visitas['Start Ts'] = pd.to_datetime(\n",
    "    visitas['Start Ts'], format=\"%Y-%m-%d %H:%M\"\n",
    ")\n",
    "visitas['End Ts'] = pd.to_datetime(\n",
    "    visitas['End Ts'], format=\"%Y-%m-%d %H:%M\"\n",
    ")\n",
    "\n",
    "visitas['session_year'] = visitas['Start Ts'].dt.year\n",
    "visitas['session_month'] = visitas['Start Ts'].dt.month\n",
    "visitas['session_week'] = visitas['Start Ts'].dt.week\n",
    "visitas['session_date'] = visitas['Start Ts'].dt.date\n",
    "\n",
    "mau_total = (visitas.groupby(['session_year', 'session_month']).agg({'Uid': 'nunique'}).mean())\n",
    "dau_total = visitas.groupby('session_date').agg({'Uid': 'nunique'}).mean()\n",
    "wau_total = (visitas.groupby(['session_year', 'session_week']).agg({'Uid': 'nunique'}).mean())\n",
    "\n",
    "\n",
    "print(int(dau_total))\n",
    "print(int(wau_total))\n",
    "print(int(mau_total))"
   ]
  },
  {
   "cell_type": "markdown",
   "metadata": {},
   "source": [
    "<div class=\"alert alert-block alert-danger\">\n",
    "<b>Comentario de Revisor</b> <a class=\"tocSkip\"></a>\n",
    "\n",
    "Muy bien con los promedios, sin embargo, esto no responde completamente a la pregunta. Grafica la cantidad de usuarios únicos por día, semana y mes, un gráfico para cada uno, donde el eje y tenga la cantidad de usuarios y el eje x sea el tiempo.\n",
    "\n",
    "</div>"
   ]
  },
  {
   "cell_type": "markdown",
   "metadata": {},
   "source": [
    "<div class=\"alert alert-block alert-info\">\n",
    "<b>Me puedes guiar como hacer el grafico? no entiendo muy bien si los codigos que ya estan generados, sirven para dejar el eje y e x como se solicita, asi tambien con el siguiente codigo.</b> <a class=\"tocSkip\"></a>\n",
    "</div>"
   ]
  },
  {
   "cell_type": "code",
   "execution_count": 7,
   "metadata": {
    "scrolled": false
   },
   "outputs": [
    {
     "data": {
      "text/plain": [
       "<AxesSubplot:xlabel='session_year,session_month'>"
      ]
     },
     "execution_count": 7,
     "metadata": {},
     "output_type": "execute_result"
    },
    {
     "data": {
      "image/png": "[encoded data removed]",
      "text/plain": [
       "<Figure size 640x480 with 1 Axes>"
      ]
     },
     "metadata": {},
     "output_type": "display_data"
    }
   ],
   "source": [
    "#MAU TOTAL\n",
    "visitas.groupby(['session_year', 'session_month']).agg({'Uid': 'nunique'}).plot()"
   ]
  },
  {
   "cell_type": "code",
   "execution_count": 8,
   "metadata": {
    "scrolled": false
   },
   "outputs": [
    {
     "data": {
      "text/plain": [
       "<AxesSubplot:xlabel='session_date'>"
      ]
     },
     "execution_count": 8,
     "metadata": {},
     "output_type": "execute_result"
    },
    {
     "data": {
      "image/png": "[encoded data removed]",
      "text/plain": [
       "<Figure size 640x480 with 1 Axes>"
      ]
     },
     "metadata": {},
     "output_type": "display_data"
    }
   ],
   "source": [
    "#DAU TOTAL\n",
    "visitas.groupby('session_date').agg({'Uid': 'nunique'}).plot()"
   ]
  },
  {
   "cell_type": "code",
   "execution_count": 9,
   "metadata": {},
   "outputs": [
    {
     "data": {
      "text/plain": [
       "<AxesSubplot:xlabel='session_year,session_week'>"
      ]
     },
     "execution_count": 9,
     "metadata": {},
     "output_type": "execute_result"
    },
    {
     "data": {
      "image/png": "[encoded data removed]",
      "text/plain": [
       "<Figure size 640x480 with 1 Axes>"
      ]
     },
     "metadata": {},
     "output_type": "display_data"
    }
   ],
   "source": [
    "#WAU TOTAL\n",
    "visitas.groupby(['session_year', 'session_week']).agg({'Uid': 'nunique'}).plot()"
   ]
  },
  {
   "cell_type": "markdown",
   "metadata": {},
   "source": [
    "<div class=\"alert alert-block alert-danger\">\n",
    "<b>Comentario de Revisor v2</b> <a class=\"tocSkip\"></a>\n",
    "\n",
    "Puedes usar la función `plot()` de los dataframes. La aplicas a un dataframe y graficará las columnas que hayan usando el índice del dataframe como eje-x. En este caso, antes de calcular la media tienes cada dataframe con los usuarios según el periodo de tiempo, usa plot sobre ese dataframe.    \n",
    "\n",
    "\n",
    "</div>"
   ]
  },
  {
   "cell_type": "markdown",
   "metadata": {},
   "source": [
    "<div class=\"alert alert-block alert-info\">\n",
    "<b>Supongo que ahi estariamos respondiendo la pregunta como solicita?.</b> <a class=\"tocSkip\"></a>\n",
    "</div>"
   ]
  },
  {
   "cell_type": "markdown",
   "metadata": {},
   "source": [
    "<div class=\"alert alert-block alert-success\">\n",
    "<b>Comentario de Revisor v3</b> <a class=\"tocSkip\"></a>\n",
    "\n",
    "Correcto, muy bien!  \n",
    "\n",
    "</div>"
   ]
  },
  {
   "cell_type": "markdown",
   "metadata": {},
   "source": [
    "#### ¿Cuántas sesiones hay por día? (Un/a usuario/a puede tener más de una sesión)."
   ]
  },
  {
   "cell_type": "code",
   "execution_count": 10,
   "metadata": {
    "scrolled": true
   },
   "outputs": [
    {
     "name": "stdout",
     "output_type": "stream",
     "text": [
      "     session_year  session_month  session_day  n_sessions\n",
      "0            2017              6            1         664\n",
      "1            2017              6            2         658\n",
      "2            2017              6            3         477\n",
      "3            2017              6            4         510\n",
      "4            2017              6            5         893\n",
      "..            ...            ...          ...         ...\n",
      "359          2018              5           27         672\n",
      "360          2018              5           28        1156\n",
      "361          2018              5           29        1035\n",
      "362          2018              5           30        1410\n",
      "363          2018              5           31        2256\n",
      "\n",
      "[364 rows x 4 columns]\n",
      "\n",
      "Promedio de sesiones por día: 987.3626373626373\n"
     ]
    }
   ],
   "source": [
    "visitas['Start Ts'] = pd.to_datetime(visitas['Start Ts'])\n",
    "visitas['End Ts'] = pd.to_datetime(visitas['End Ts'])\n",
    "\n",
    "visitas['session_day'] = visitas['Start Ts'].dt.day\n",
    "visitas['session_year'] = visitas['Start Ts'].dt.year\n",
    "visitas['session_month'] = visitas['Start Ts'].dt.month\n",
    "\n",
    "sessions_por_dia = visitas.groupby(['session_year', 'session_month', 'session_day']).agg({'Uid':'count'})\n",
    "sessions_por_dia.columns = ['n_sessions']\n",
    "sessions_por_dia = sessions_por_dia.reset_index()\n",
    "\n",
    "promedio_sessions_por_dia = sessions_por_dia['n_sessions'].mean()\n",
    "\n",
    "print(sessions_por_dia)\n",
    "print()\n",
    "print(f'Promedio de sesiones por día: {promedio_sessions_por_dia}')"
   ]
  },
  {
   "cell_type": "code",
   "execution_count": 11,
   "metadata": {
    "scrolled": false
   },
   "outputs": [
    {
     "data": {
      "text/plain": [
       "<AxesSubplot:>"
      ]
     },
     "execution_count": 11,
     "metadata": {},
     "output_type": "execute_result"
    },
    {
     "data": {
      "image/png": "[encoded data removed]",
      "text/plain": [
       "<Figure size 640x480 with 1 Axes>"
      ]
     },
     "metadata": {},
     "output_type": "display_data"
    }
   ],
   "source": [
    "sessions_por_dia['n_sessions'].plot()"
   ]
  },
  {
   "cell_type": "code",
   "execution_count": 12,
   "metadata": {},
   "outputs": [
    {
     "data": {
      "text/plain": [
       "<AxesSubplot:xlabel='session_year,session_month,session_day'>"
      ]
     },
     "execution_count": 12,
     "metadata": {},
     "output_type": "execute_result"
    },
    {
     "data": {
      "image/png": "[encoded data removed]",
      "text/plain": [
       "<Figure size 640x480 with 1 Axes>"
      ]
     },
     "metadata": {},
     "output_type": "display_data"
    }
   ],
   "source": [
    "visitas.groupby(['session_year', 'session_month', 'session_day']).agg({'Uid':'count'}).plot()"
   ]
  },
  {
   "cell_type": "markdown",
   "metadata": {},
   "source": [
    "<div class=\"alert alert-block alert-danger\">\n",
    "<b>Comentario de Revisor</b> <a class=\"tocSkip\"></a>\n",
    "\n",
    "Mismo comentario anterior, realiza un gráfico de líneas para mostrar esto.\n",
    "\n",
    "</div>"
   ]
  },
  {
   "cell_type": "markdown",
   "metadata": {},
   "source": [
    "<div class=\"alert alert-block alert-danger\">\n",
    "<b>Comentario de Revisor v2</b> <a class=\"tocSkip\"></a>\n",
    "\n",
    "Aún falta el gráfico  \n",
    "\n",
    "\n",
    "</div>"
   ]
  },
  {
   "cell_type": "markdown",
   "metadata": {},
   "source": [
    "<div class=\"alert alert-block alert-success\">\n",
    "<b>Comentario de Revisor v3</b> <a class=\"tocSkip\"></a>\n",
    "\n",
    "Correcto, muy bien!  \n",
    "\n",
    "</div>"
   ]
  },
  {
   "cell_type": "markdown",
   "metadata": {},
   "source": [
    "#### ¿Cuál es la duración de cada sesión?"
   ]
  },
  {
   "cell_type": "code",
   "execution_count": 13,
   "metadata": {
    "scrolled": false
   },
   "outputs": [
    {
     "name": "stdout",
     "output_type": "stream",
     "text": [
      "643.506488592098\n",
      "0    60\n",
      "dtype: int64\n"
     ]
    },
    {
     "data": {
      "text/plain": [
       "<AxesSubplot:>"
      ]
     },
     "execution_count": 13,
     "metadata": {},
     "output_type": "execute_result"
    },
    {
     "data": {
      "image/png": "[encoded data removed]",
      "text/plain": [
       "<Figure size 640x480 with 1 Axes>"
      ]
     },
     "metadata": {},
     "output_type": "display_data"
    }
   ],
   "source": [
    "visitas['Start Ts'] = pd.to_datetime(\n",
    "    visitas['Start Ts'], format=\"%Y-%m-%d %H:%M\"\n",
    ")\n",
    "visitas['End Ts'] = pd.to_datetime(\n",
    "    visitas['End Ts'], format=\"%Y-%m-%d %H:%M\"\n",
    ")\n",
    "visitas['session_duration_sec'] = (\n",
    "    visitas['End Ts'] - visitas['Start Ts']\n",
    ").dt.seconds\n",
    "\n",
    "print(visitas['session_duration_sec'].mean())\n",
    "asl = visitas['session_duration_sec'].mode()\n",
    "print(asl)\n",
    "visitas['session_duration_sec'].hist(bins=100)"
   ]
  },
  {
   "cell_type": "markdown",
   "metadata": {},
   "source": [
    "<div class=\"alert alert-block alert-success\">\n",
    "<b>Comentario de Revisor</b> <a class=\"tocSkip\"></a>\n",
    "\n",
    "Muy bien, correcto. Nota que la distribución es muy asimétrica, con una cola muy larga, por lo tanto, en estos es buena idea mosrar la media, moda u otra medida de tendencia central, tal como lo hiciste.\n",
    "\n",
    "</div>"
   ]
  },
  {
   "cell_type": "markdown",
   "metadata": {},
   "source": [
    "#### ¿Con qué frecuencia los usuarios y las usuarias regresan?"
   ]
  },
  {
   "cell_type": "code",
   "execution_count": 14,
   "metadata": {},
   "outputs": [
    {
     "name": "stdout",
     "output_type": "stream",
     "text": [
      "Frecuencia promedio de retorno: 27.67683702783641 días\n",
      "Frecuencia mediana de retorno: 4.0 días\n"
     ]
    }
   ],
   "source": [
    "visitas['Start Ts'] = pd.to_datetime(visitas['Start Ts'])\n",
    "\n",
    "visitas = visitas.sort_values(by=['Uid', 'Start Ts'])\n",
    "\n",
    "visitas['prev_visit'] = visitas.groupby('Uid')['Start Ts'].shift(1)\n",
    "visitas['days_since_last_visit'] = (visitas['Start Ts'] - visitas['prev_visit']).dt.days\n",
    "\n",
    "frecuencias_retorno = visitas['days_since_last_visit'].dropna()\n",
    "\n",
    "frecuencia_promedio = frecuencias_retorno.mean()\n",
    "frecuencia_mediana = frecuencias_retorno.median()\n",
    "\n",
    "print(f\"Frecuencia promedio de retorno: {frecuencia_promedio} días\")\n",
    "print(f\"Frecuencia mediana de retorno: {frecuencia_mediana} días\")"
   ]
  },
  {
   "cell_type": "markdown",
   "metadata": {},
   "source": [
    "<div class=\"alert alert-block alert-success\">\n",
    "<b>Comentario de Revisor</b> <a class=\"tocSkip\"></a>\n",
    "\n",
    "Ok, esta métrica mide el tiempo de retorno de usuarios, pero ojo que pierde de vista los usuarios que nunca retornan. De todas formas, me parece que responde bien a lo que se pregunta.\n",
    "\n",
    "</div>"
   ]
  },
  {
   "cell_type": "markdown",
   "metadata": {},
   "source": [
    "# VENTAS"
   ]
  },
  {
   "cell_type": "markdown",
   "metadata": {},
   "source": [
    "#### ¿Cuándo la gente empieza a comprar?"
   ]
  },
  {
   "cell_type": "code",
   "execution_count": 15,
   "metadata": {},
   "outputs": [
    {
     "data": {
      "image/png": "[encoded data removed]",
      "text/plain": [
       "<Figure size 640x480 with 1 Axes>"
      ]
     },
     "metadata": {},
     "output_type": "display_data"
    }
   ],
   "source": [
    "visitas['Start Ts'] = pd.to_datetime(visitas['Start Ts'])\n",
    "ordenes['Buy Ts'] = pd.to_datetime(ordenes['Buy Ts'])\n",
    "\n",
    "conversion = visitas.groupby('Uid')['Start Ts'].min().rename('conversion')\n",
    "registro = ordenes.groupby('Uid')['Buy Ts'].min().rename('registro')\n",
    "\n",
    "evento = pd.merge(conversion, registro, left_index=True, right_index=True)\n",
    "\n",
    "evento['time_to_event'] = evento['registro'] - evento['conversion']\n",
    "\n",
    "plt.hist(evento['time_to_event'].dt.days, bins=30, edgecolor='black')\n",
    "plt.xlabel('Días hasta la primera compra')\n",
    "plt.ylabel('Frecuencia')\n",
    "plt.title('Histograma de tiempo hasta la primera compra')\n",
    "plt.show()"
   ]
  },
  {
   "cell_type": "markdown",
   "metadata": {},
   "source": [
    "<div class=\"alert alert-block alert-danger\">\n",
    "<b>Comentario de Revisor</b> <a class=\"tocSkip\"></a>\n",
    "\n",
    "En el dataframe `visitas`, los usuarios aparecen una vez por cada visita que realizaron. Al unir las primeras visitas (en tu caso el dataframe `conversion`) con todas las visitas, tendrás muchas veces los datos de usuarios. Pasa algo similar con ordenes. Finalmente cuando realizas la resta, estás restando dos dataframes que tienen múltiples veces los mismos usuarios, lo que impide obtener correctamente el tiempo que se demora en comprar cada usuario. Te sugiero hacer el merge entre tu dataframe `conversion` y `registro` para juntar las primeras visitas y primeras compras de cada usuario, hacer la resta y mostrar el resultado en forma de un histograma.\n",
    "\n",
    "</div>"
   ]
  },
  {
   "cell_type": "markdown",
   "metadata": {},
   "source": [
    "<div class=\"alert alert-block alert-success\">\n",
    "<b>Comentario de Revisor v2</b> <a class=\"tocSkip\"></a>\n",
    "\n",
    "Muy bien, el problema fue corregido.\n",
    "\n",
    "</div>"
   ]
  },
  {
   "cell_type": "markdown",
   "metadata": {},
   "source": [
    "#### ¿Cuántos pedidos hacen durante un período de tiempo dado?"
   ]
  },
  {
   "cell_type": "code",
   "execution_count": 16,
   "metadata": {
    "scrolled": false
   },
   "outputs": [
    {
     "name": "stdout",
     "output_type": "stream",
     "text": [
      "        Mes  Cantidad de Pedidos\n",
      "0   2017-06                 2354\n",
      "1   2017-07                 2363\n",
      "2   2017-08                 1807\n",
      "3   2017-09                 3387\n",
      "4   2017-10                 5679\n",
      "5   2017-11                 5659\n",
      "6   2017-12                 6218\n",
      "7   2018-01                 4721\n",
      "8   2018-02                 5281\n",
      "9   2018-03                 5326\n",
      "10  2018-04                 3273\n",
      "11  2018-05                 4346\n",
      "12  2018-06                    1\n"
     ]
    }
   ],
   "source": [
    "ordenes['Buy Ts'] = pd.to_datetime(ordenes['Buy Ts'])\n",
    "\n",
    "ordenes['Mes'] = ordenes['Buy Ts'].dt.to_period('M')\n",
    "\n",
    "monthly_orders = ordenes.groupby('Mes').size().reset_index(name='Cantidad de Pedidos')\n",
    "\n",
    "print(monthly_orders)"
   ]
  },
  {
   "cell_type": "code",
   "execution_count": 17,
   "metadata": {},
   "outputs": [
    {
     "data": {
      "text/plain": [
       "<AxesSubplot:>"
      ]
     },
     "execution_count": 17,
     "metadata": {},
     "output_type": "execute_result"
    },
    {
     "data": {
      "image/png": "[encoded data removed]",
      "text/plain": [
       "<Figure size 640x480 with 1 Axes>"
      ]
     },
     "metadata": {},
     "output_type": "display_data"
    }
   ],
   "source": [
    "ordenes.groupby('Mes').size().reset_index(name='Cantidad de Pedidos').plot()"
   ]
  },
  {
   "cell_type": "markdown",
   "metadata": {},
   "source": [
    "<div class=\"alert alert-block alert-danger\">\n",
    "<b>Comentario de Revisor</b> <a class=\"tocSkip\"></a>\n",
    "\n",
    "Lo calculado intenta mostrar el tiempo promedio que tarda un usuario en comprar desde su primera visita, eso no es lo que pide la pregunta.\n",
    "    \n",
    "Para esta pregunta calcula la cantidad de pedidos que se hacen mensualmente en toda la data. \n",
    "\n",
    "</div>"
   ]
  },
  {
   "cell_type": "markdown",
   "metadata": {},
   "source": [
    "<div class=\"alert alert-block alert-success\">\n",
    "<b>Comentario de Revisor v2</b> <a class=\"tocSkip\"></a>\n",
    "\n",
    "Bien, la respuesta es correcta. Se podría mejorar realizando un gráfico de esta data\n",
    "\n",
    "</div>"
   ]
  },
  {
   "cell_type": "markdown",
   "metadata": {},
   "source": [
    "#### ¿Cuál es el tamaño promedio de compra?"
   ]
  },
  {
   "cell_type": "code",
   "execution_count": 18,
   "metadata": {
    "scrolled": true
   },
   "outputs": [
    {
     "data": {
      "text/plain": [
       "4.999646930477041"
      ]
     },
     "execution_count": 18,
     "metadata": {},
     "output_type": "execute_result"
    }
   ],
   "source": [
    "average_order_size = ordenes['Revenue']\n",
    "average_order_size.mean()"
   ]
  },
  {
   "cell_type": "markdown",
   "metadata": {},
   "source": [
    "<div class=\"alert alert-block alert-success\">\n",
    "<b>Comentario de Revisor</b> <a class=\"tocSkip\"></a>\n",
    "\n",
    "Correcto\n",
    "</div>"
   ]
  },
  {
   "cell_type": "markdown",
   "metadata": {},
   "source": [
    "#### ¿Cuánto dinero traen? (LTV)"
   ]
  },
  {
   "cell_type": "code",
   "execution_count": 19,
   "metadata": {},
   "outputs": [
    {
     "name": "stdout",
     "output_type": "stream",
     "text": [
      "cohort_age                  1         2         3          4          5   \\\n",
      "first_purchase_month                                                       \n",
      "2017-06               4.724414  5.209743  5.647380   6.602051   7.624582   \n",
      "2017-07               6.010218  6.345429  6.968960   7.327936   7.504727   \n",
      "2017-08               5.276518  5.748511  6.206993   6.598270   7.092321   \n",
      "2017-09               5.644529  6.762115  7.283045  11.258838  11.659396   \n",
      "2017-10               5.003733  5.539495  5.730889   5.888035   6.039594   \n",
      "2017-11               5.154683  5.553916  5.753472   6.078424   6.226437   \n",
      "2017-12               4.738191  4.998565  5.923662   6.988937   7.301866   \n",
      "2018-01               4.135636  4.430394  4.734675   4.877453   4.940151   \n",
      "2018-02               4.156987  4.435262  4.513777   4.587921        NaN   \n",
      "2018-03               4.838803  5.139694  5.455253        NaN        NaN   \n",
      "2018-04               4.657597  5.189196       NaN        NaN        NaN   \n",
      "2018-05               4.660562       NaN       NaN        NaN        NaN   \n",
      "2018-06               3.420000       NaN       NaN        NaN        NaN   \n",
      "\n",
      "cohort_age                   6          7          8          9          10  \\\n",
      "first_purchase_month                                                          \n",
      "2017-06                8.360084   9.310524   9.892116  10.445329  11.051117   \n",
      "2017-07                7.660775   7.780983   7.922803   8.084035   8.231180   \n",
      "2017-08                7.375861   7.586526   7.991533   8.283745   8.471723   \n",
      "2017-09               12.306463  13.008071  13.251220  13.435227        NaN   \n",
      "2017-10                6.159956   6.244772   6.360242        NaN        NaN   \n",
      "2017-11                6.280316   6.395244        NaN        NaN        NaN   \n",
      "2017-12                7.639913        NaN        NaN        NaN        NaN   \n",
      "2018-01                     NaN        NaN        NaN        NaN        NaN   \n",
      "2018-02                     NaN        NaN        NaN        NaN        NaN   \n",
      "2018-03                     NaN        NaN        NaN        NaN        NaN   \n",
      "2018-04                     NaN        NaN        NaN        NaN        NaN   \n",
      "2018-05                     NaN        NaN        NaN        NaN        NaN   \n",
      "2018-06                     NaN        NaN        NaN        NaN        NaN   \n",
      "\n",
      "cohort_age                   11         12  \n",
      "first_purchase_month                        \n",
      "2017-06               11.622378  11.879234  \n",
      "2017-07                8.386854        NaN  \n",
      "2017-08                     NaN        NaN  \n",
      "2017-09                     NaN        NaN  \n",
      "2017-10                     NaN        NaN  \n",
      "2017-11                     NaN        NaN  \n",
      "2017-12                     NaN        NaN  \n",
      "2018-01                     NaN        NaN  \n",
      "2018-02                     NaN        NaN  \n",
      "2018-03                     NaN        NaN  \n",
      "2018-04                     NaN        NaN  \n",
      "2018-05                     NaN        NaN  \n",
      "2018-06                     NaN        NaN  \n"
     ]
    },
    {
     "data": {
      "text/html": [
       "<div>\n",
       "<style scoped>\n",
       "    .dataframe tbody tr th:only-of-type {\n",
       "        vertical-align: middle;\n",
       "    }\n",
       "\n",
       "    .dataframe tbody tr th {\n",
       "        vertical-align: top;\n",
       "    }\n",
       "\n",
       "    .dataframe thead th {\n",
       "        text-align: right;\n",
       "    }\n",
       "</style>\n",
       "<table border=\"1\" class=\"dataframe\">\n",
       "  <thead>\n",
       "    <tr style=\"text-align: right;\">\n",
       "      <th></th>\n",
       "      <th>Buy Ts</th>\n",
       "      <th>Revenue</th>\n",
       "      <th>Uid</th>\n",
       "      <th>Mes</th>\n",
       "      <th>first_purchase_date</th>\n",
       "      <th>order_month</th>\n",
       "      <th>first_purchase_month</th>\n",
       "      <th>cohort_age</th>\n",
       "    </tr>\n",
       "  </thead>\n",
       "  <tbody>\n",
       "    <tr>\n",
       "      <th>0</th>\n",
       "      <td>2017-06-01 00:10:00</td>\n",
       "      <td>17.00</td>\n",
       "      <td>10329302124590727494</td>\n",
       "      <td>2017-06</td>\n",
       "      <td>2017-06-01 00:10:00</td>\n",
       "      <td>2017-06</td>\n",
       "      <td>2017-06</td>\n",
       "      <td>1</td>\n",
       "    </tr>\n",
       "    <tr>\n",
       "      <th>1</th>\n",
       "      <td>2017-06-01 00:25:00</td>\n",
       "      <td>0.55</td>\n",
       "      <td>11627257723692907447</td>\n",
       "      <td>2017-06</td>\n",
       "      <td>2017-06-01 00:25:00</td>\n",
       "      <td>2017-06</td>\n",
       "      <td>2017-06</td>\n",
       "      <td>1</td>\n",
       "    </tr>\n",
       "    <tr>\n",
       "      <th>2</th>\n",
       "      <td>2017-06-01 00:27:00</td>\n",
       "      <td>0.37</td>\n",
       "      <td>17903680561304213844</td>\n",
       "      <td>2017-06</td>\n",
       "      <td>2017-06-01 00:27:00</td>\n",
       "      <td>2017-06</td>\n",
       "      <td>2017-06</td>\n",
       "      <td>1</td>\n",
       "    </tr>\n",
       "    <tr>\n",
       "      <th>3</th>\n",
       "      <td>2017-06-01 00:29:00</td>\n",
       "      <td>0.55</td>\n",
       "      <td>16109239769442553005</td>\n",
       "      <td>2017-06</td>\n",
       "      <td>2017-06-01 00:29:00</td>\n",
       "      <td>2017-06</td>\n",
       "      <td>2017-06</td>\n",
       "      <td>1</td>\n",
       "    </tr>\n",
       "    <tr>\n",
       "      <th>4</th>\n",
       "      <td>2017-06-01 07:58:00</td>\n",
       "      <td>0.37</td>\n",
       "      <td>14200605875248379450</td>\n",
       "      <td>2017-06</td>\n",
       "      <td>2017-06-01 07:58:00</td>\n",
       "      <td>2017-06</td>\n",
       "      <td>2017-06</td>\n",
       "      <td>1</td>\n",
       "    </tr>\n",
       "  </tbody>\n",
       "</table>\n",
       "</div>"
      ],
      "text/plain": [
       "               Buy Ts  Revenue                   Uid      Mes  \\\n",
       "0 2017-06-01 00:10:00    17.00  10329302124590727494  2017-06   \n",
       "1 2017-06-01 00:25:00     0.55  11627257723692907447  2017-06   \n",
       "2 2017-06-01 00:27:00     0.37  17903680561304213844  2017-06   \n",
       "3 2017-06-01 00:29:00     0.55  16109239769442553005  2017-06   \n",
       "4 2017-06-01 07:58:00     0.37  14200605875248379450  2017-06   \n",
       "\n",
       "  first_purchase_date order_month first_purchase_month  cohort_age  \n",
       "0 2017-06-01 00:10:00     2017-06              2017-06           1  \n",
       "1 2017-06-01 00:25:00     2017-06              2017-06           1  \n",
       "2 2017-06-01 00:27:00     2017-06              2017-06           1  \n",
       "3 2017-06-01 00:29:00     2017-06              2017-06           1  \n",
       "4 2017-06-01 07:58:00     2017-06              2017-06           1  "
      ]
     },
     "metadata": {},
     "output_type": "display_data"
    }
   ],
   "source": [
    "ordenes[\"Buy Ts\"] = pd.to_datetime(ordenes[\"Buy Ts\"])\n",
    "\n",
    "primera_compra_por_usuario = ordenes.groupby(\"Uid\")[\"Buy Ts\"].min().reset_index()\n",
    "primera_compra_por_usuario.columns = [\"Uid\", \"first_purchase_date\"]\n",
    "\n",
    "ordenes = pd.merge(ordenes, primera_compra_por_usuario, on=\"Uid\", how=\"left\")\n",
    "\n",
    "ordenes[\"order_month\"] = ordenes[\"Buy Ts\"].dt.to_period('M')\n",
    "ordenes[\"first_purchase_month\"] = ordenes[\"first_purchase_date\"].dt.to_period('M')\n",
    "\n",
    "ordenes[\"cohort_age\"] = (ordenes[\"order_month\"] - ordenes[\"first_purchase_month\"]).apply(lambda x: x.n + 1)\n",
    "\n",
    "cohort_counts = ordenes.groupby(\"first_purchase_month\")[\"Uid\"].nunique().reset_index()\n",
    "cohort_counts.columns = [\"first_purchase_month\", \"user_count\"]\n",
    "\n",
    "ltv_table = ordenes.groupby([\"first_purchase_month\", \"cohort_age\"])[\"Revenue\"].sum().reset_index()\n",
    "\n",
    "ltv_table = ltv_table.merge(cohort_counts, on=\"first_purchase_month\", how=\"left\")\n",
    "\n",
    "ltv_table[\"ltv\"] = ltv_table[\"Revenue\"] / ltv_table[\"user_count\"]\n",
    "\n",
    "ltv_table_pivot = ltv_table.pivot_table(\n",
    "    index='first_purchase_month', columns='cohort_age',\n",
    "    values='ltv', aggfunc='sum'\n",
    ").cumsum(axis=1)\n",
    "\n",
    "print(ltv_table_pivot)\n",
    "display(ordenes.head())"
   ]
  },
  {
   "cell_type": "markdown",
   "metadata": {},
   "source": [
    "<div class=\"alert alert-block alert-success\">\n",
    "<b>Comentario de Revisor v4</b> <a class=\"tocSkip\"></a>\n",
    "\n",
    "Muy bien! Corregido, ahora el cálculo del LTV es correcto\n",
    "</div>"
   ]
  },
  {
   "cell_type": "markdown",
   "metadata": {},
   "source": [
    "<div class=\"alert alert-block alert-danger\">\n",
    "<b>Comentario de Reviewer v3</b> <a class=\"tocSkip\"></a>\n",
    "\n",
    "El código\n",
    "    \n",
    "    (ordenes[\"order_month\"] - ordenes[\"first_purchase_month\"].dt.month) + 1\n",
    "    \n",
    "resta los valores numéricos de los meses, lo cual evidentemente genera meses negativos ya que si restamos enero del 2018 con septiembre del 2017, deberíamos obtener 4, pero en tu cálculo se obtiene -8. Debes restar fechas, order_month debe ser fecha, tal como first_purchase_month\n",
    "\n",
    "</div>"
   ]
  },
  {
   "cell_type": "markdown",
   "metadata": {},
   "source": [
    "<div class=\"alert alert-block alert-danger\">\n",
    "<b>Comentario de Reviewer v2</b> <a class=\"tocSkip\"></a>\n",
    "\n",
    "La variable `primera_compra_por_usuario` no obtiene el primer mes de compra de cada usuario sino que la primera fecha con hora de compra de cada usuario. Debes transformar la columna de fecha y hora a formato mes, puedes usar algo como `df.fecha=df.fecha.astype('datetime64[M]')`, que permite transformar en este caso la columna fecha del dataframe df a una columna de fecha por mes solamente.\n",
    "\n",
    "\n",
    "</div>"
   ]
  },
  {
   "cell_type": "markdown",
   "metadata": {},
   "source": [
    "<div class=\"alert alert-block alert-danger\">\n",
    "<b>Comentario de Reviewer</b> <a class=\"tocSkip\"></a>\n",
    "\n",
    "El LTV mide el valor que agrega un usuario a lo largo de su vida. La vida de un usuario depende del momento en que entró (mes de primera compra) y cuántos meses han pasado desde su entrada. En este caso entonces, debes construir una tabla de doble entrada por mes de entrada (cohorte) vs \"meses de edad\" de los usuarios de cada cohorte.\n",
    "    \n",
    "Te dejo un esquema de cómo calcularlo, escribe el código para generar lo que está en ##\n",
    "    \n",
    "    # Cálculo ltv\n",
    "    \n",
    "    # Data inicial\n",
    "    ## Para cada usuario calcular su primera compra \n",
    "    \n",
    "    ## Con la fecha de su primera compra, crear columna de mes de primera compra, \"first_purchase_month\"\n",
    "     \n",
    "    ## Unir esto a la tabla de ordenes con un merge\n",
    "      \n",
    "    ## Crear columna de mes de la orden (mes de Buy Ts), \"order_month\"\n",
    "    \n",
    "    ## Crear columna de \"cohort_age\" como la diferencia entre el order_month y el first_purchase_month\n",
    "    \n",
    "    # Contar cuántos usuarios hay en cada cohorte\n",
    "    ## Agrupar por first_purchase_month y contar usuarios diferentes\n",
    "      \n",
    "    # Renombrar las columnas para mayor claridad\n",
    "    \n",
    "    # Crear tabla ltv\n",
    "    ## Agrupar por first purchase month y customer age, sumar revenue\n",
    "    \n",
    "    ## Hacer left join con la tabla anterior que cuenta cuántos usuarios hay por cohorte\n",
    "    \n",
    "    # Calcular ltv\n",
    "    ## En la tabla ltv anterior crear columna ltv=revenue/usuarios_cohorte\n",
    "\n",
    "    # Transformar a tabla pivote y acumular en axis=1 el revenue\n",
    "    ltv_table_pivot = ltv_table.pivot_table(\n",
    "        index='first_purchase_month', columns='cohort_age',\n",
    "        values='ltv', aggfunc='sum'\n",
    "    ).cumsum(axis=1) # Se acumula el revenue de forma\n",
    "    \n",
    "    # Mostrar el resultado\n",
    "    \n",
    "    ltv_table_pivot\n",
    "    \n",
    "\n",
    "</div>"
   ]
  },
  {
   "cell_type": "markdown",
   "metadata": {},
   "source": [
    "# MARKETING"
   ]
  },
  {
   "cell_type": "markdown",
   "metadata": {},
   "source": [
    "#### ¿Cuánto dinero se gastó? (Total/por fuente de adquisición/a lo largo del tiempo) "
   ]
  },
  {
   "cell_type": "code",
   "execution_count": 20,
   "metadata": {
    "scrolled": true
   },
   "outputs": [
    {
     "data": {
      "text/html": [
       "<div>\n",
       "<style scoped>\n",
       "    .dataframe tbody tr th:only-of-type {\n",
       "        vertical-align: middle;\n",
       "    }\n",
       "\n",
       "    .dataframe tbody tr th {\n",
       "        vertical-align: top;\n",
       "    }\n",
       "\n",
       "    .dataframe thead th {\n",
       "        text-align: right;\n",
       "    }\n",
       "</style>\n",
       "<table border=\"1\" class=\"dataframe\">\n",
       "  <thead>\n",
       "    <tr style=\"text-align: right;\">\n",
       "      <th></th>\n",
       "      <th>source_id</th>\n",
       "      <th>dt</th>\n",
       "      <th>costs</th>\n",
       "    </tr>\n",
       "  </thead>\n",
       "  <tbody>\n",
       "    <tr>\n",
       "      <th>0</th>\n",
       "      <td>1</td>\n",
       "      <td>2017-06-01</td>\n",
       "      <td>75.20</td>\n",
       "    </tr>\n",
       "    <tr>\n",
       "      <th>1</th>\n",
       "      <td>1</td>\n",
       "      <td>2017-06-02</td>\n",
       "      <td>62.25</td>\n",
       "    </tr>\n",
       "    <tr>\n",
       "      <th>2</th>\n",
       "      <td>1</td>\n",
       "      <td>2017-06-03</td>\n",
       "      <td>36.53</td>\n",
       "    </tr>\n",
       "    <tr>\n",
       "      <th>3</th>\n",
       "      <td>1</td>\n",
       "      <td>2017-06-04</td>\n",
       "      <td>55.00</td>\n",
       "    </tr>\n",
       "    <tr>\n",
       "      <th>4</th>\n",
       "      <td>1</td>\n",
       "      <td>2017-06-05</td>\n",
       "      <td>57.08</td>\n",
       "    </tr>\n",
       "  </tbody>\n",
       "</table>\n",
       "</div>"
      ],
      "text/plain": [
       "   source_id         dt  costs\n",
       "0          1 2017-06-01  75.20\n",
       "1          1 2017-06-02  62.25\n",
       "2          1 2017-06-03  36.53\n",
       "3          1 2017-06-04  55.00\n",
       "4          1 2017-06-05  57.08"
      ]
     },
     "execution_count": 20,
     "metadata": {},
     "output_type": "execute_result"
    }
   ],
   "source": [
    "costos.head()"
   ]
  },
  {
   "cell_type": "code",
   "execution_count": 21,
   "metadata": {
    "scrolled": false
   },
   "outputs": [
    {
     "name": "stdout",
     "output_type": "stream",
     "text": [
      "source_id\n",
      "1      20833.27\n",
      "2      42806.04\n",
      "3     141321.63\n",
      "4      61073.60\n",
      "5      51757.10\n",
      "9       5517.49\n",
      "10      5822.49\n",
      "Name: costs, dtype: float64\n"
     ]
    }
   ],
   "source": [
    "se_gasto = costos.groupby(\"source_id\")[\"costs\"].sum()\n",
    "print(se_gasto)"
   ]
  },
  {
   "cell_type": "code",
   "execution_count": 22,
   "metadata": {
    "scrolled": true
   },
   "outputs": [
    {
     "data": {
      "text/plain": [
       "source_id  mes_año\n",
       "1          2017-06    1125.61\n",
       "           2017-07    1072.88\n",
       "           2017-08     951.81\n",
       "           2017-09    1502.01\n",
       "           2017-10    2315.75\n",
       "                       ...   \n",
       "10         2018-01     614.35\n",
       "           2018-02     480.88\n",
       "           2018-03     526.41\n",
       "           2018-04     388.25\n",
       "           2018-05     409.86\n",
       "Name: costs, Length: 84, dtype: float64"
      ]
     },
     "metadata": {},
     "output_type": "display_data"
    }
   ],
   "source": [
    "costos['dt'] = pd.to_datetime(costos['dt'])\n",
    "costos['mes_año'] = costos['dt'].dt.to_period('M')\n",
    "\n",
    "se_gasto = costos.groupby([\"source_id\", \"mes_año\"])[\"costs\"].sum()\n",
    "\n",
    "display(se_gasto)"
   ]
  },
  {
   "cell_type": "code",
   "execution_count": 23,
   "metadata": {},
   "outputs": [
    {
     "data": {
      "text/plain": [
       "<AxesSubplot:xlabel='source_id,mes_año'>"
      ]
     },
     "execution_count": 23,
     "metadata": {},
     "output_type": "execute_result"
    },
    {
     "data": {
      "image/png": "[encoded data removed]",
      "text/plain": [
       "<Figure size 640x480 with 1 Axes>"
      ]
     },
     "metadata": {},
     "output_type": "display_data"
    }
   ],
   "source": [
    "costos.groupby([\"source_id\", \"mes_año\"])[\"costs\"].sum().plot()"
   ]
  },
  {
   "cell_type": "markdown",
   "metadata": {},
   "source": [
    "<div class=\"alert alert-block alert-success\">\n",
    "<b>Comentario de Reviewer</b> <a class=\"tocSkip\"></a>\n",
    "\n",
    "Bien, esto muestra el gasto total por fuente\n",
    "</div>"
   ]
  },
  {
   "cell_type": "markdown",
   "metadata": {},
   "source": [
    "<div class=\"alert alert-block alert-danger\">\n",
    "<b>Comentario de Reviewer</b> <a class=\"tocSkip\"></a>\n",
    "\n",
    "Obten el gasto por fuente a lo largo del tiempo, de forma mensual. \n",
    "</div>"
   ]
  },
  {
   "cell_type": "markdown",
   "metadata": {},
   "source": [
    "<div class=\"alert alert-block alert-danger\">\n",
    "<b>Comentario de Revisor v2</b> <a class=\"tocSkip\"></a>\n",
    "\n",
    "Ok con el cálculo, pero nuevamente no se está mostrando toda la data. Presenta la respuesta en un gráfico.\n",
    "\n",
    "</div>"
   ]
  },
  {
   "cell_type": "markdown",
   "metadata": {},
   "source": [
    "<div class=\"alert alert-block alert-success\">\n",
    "<b>Comentario de Reviewer v3</b> <a class=\"tocSkip\"></a>\n",
    "\n",
    "Muy bien, correcto\n",
    "\n",
    "</div>"
   ]
  },
  {
   "cell_type": "markdown",
   "metadata": {},
   "source": [
    "####  ¿Cuál fue el costo de adquisición de clientes de cada una de las fuentes?"
   ]
  },
  {
   "cell_type": "code",
   "execution_count": 24,
   "metadata": {
    "scrolled": false
   },
   "outputs": [
    {
     "name": "stdout",
     "output_type": "stream",
     "text": [
      "   Source Id        CAC\n",
      "0          1   9.118983\n",
      "1          2  17.002963\n",
      "2          3  15.118899\n",
      "3          4   6.802483\n",
      "4          5   8.596789\n",
      "5          7        NaN\n",
      "6          9   7.152904\n",
      "7         10   6.553861\n"
     ]
    }
   ],
   "source": [
    "visitas['Start Ts'] = pd.to_datetime(visitas['Start Ts'])\n",
    "ordenes['Buy Ts'] = pd.to_datetime(ordenes['Buy Ts'])\n",
    "costos['dt'] = pd.to_datetime(costos['dt'])\n",
    "\n",
    "first_purchase = ordenes.groupby('Uid')['Buy Ts'].min().reset_index()\n",
    "first_purchase.rename(columns={'Buy Ts': 'First Purchase Ts'}, inplace=True)\n",
    "\n",
    "first_visit = visitas.groupby('Uid')['Start Ts'].min().reset_index()\n",
    "first_visit.rename(columns={'Start Ts': 'First Visit Ts'}, inplace=True)\n",
    "\n",
    "first_visit_with_first_purchase = first_visit.merge(first_purchase, on='Uid', how='inner')\n",
    "\n",
    "visitas_sorted = visitas.sort_values(by='Start Ts')\n",
    "first_visits_sorted = visitas_sorted.merge(first_visit_with_first_purchase, on='Uid', how='inner')\n",
    "first_visits_by_user = first_visits_sorted.groupby('Uid').first().reset_index()\n",
    "\n",
    "users_acquired = first_visits_by_user.groupby(['Source Id', pd.Grouper(key='Start Ts', freq='D')])['Uid'].nunique().reset_index()\n",
    "users_acquired.rename(columns={'Uid': 'Users Acquired'}, inplace=True)\n",
    "\n",
    "cac_data = users_acquired.merge(costos, left_on=['Source Id', 'Start Ts'], right_on=['source_id', 'dt'], how='left')\n",
    "\n",
    "cac_data['CAC'] = cac_data.apply(lambda row: row['costs'] / row['Users Acquired'] if row['Users Acquired'] > 0 else 0, axis=1)\n",
    "\n",
    "cac_by_source = cac_data.groupby('Source Id')['CAC'].mean().reset_index()\n",
    "\n",
    "print(cac_by_source)"
   ]
  },
  {
   "cell_type": "markdown",
   "metadata": {},
   "source": [
    "<div class=\"alert alert-block alert-success\">\n",
    "<b>Comentario de Reviewer v5</b> <a class=\"tocSkip\"></a>\n",
    "\n",
    "Muy bien! Correcto   \n",
    "</div>"
   ]
  },
  {
   "cell_type": "markdown",
   "metadata": {},
   "source": [
    "<div class=\"alert alert-block alert-danger\">\n",
    "<b>Comentario de Reviewer v4</b> <a class=\"tocSkip\"></a>\n",
    "\n",
    "Hay un pequeño error que debes tener en cuenta:\n",
    "    \n",
    "    first_visit_with_first_purchase = first_visit.merge(first_purchase, on='Uid', how='left')\n",
    "    \n",
    "Este merge debe ser de tipo inner, sino, nos quedamos con muchos usuarios que no convirtieron, pero para ser adquiridos tienen que haber sido convertidos (compraron alguna vez)    \n",
    "</div>"
   ]
  },
  {
   "cell_type": "markdown",
   "metadata": {},
   "source": [
    "<div class=\"alert alert-block alert-danger\">\n",
    "<b>Comentario de Reviewer v3</b> <a class=\"tocSkip\"></a>\n",
    "\n",
    "Cuando haces este merge\n",
    "    \n",
    "    visitas.merge(first_purchase, on='Uid', how='left')\n",
    "    \n",
    "estás duplicando información, puesto que cada usuario aparecerá por cada visita que hizo, cuando solo debería aparecer una sola vez. Para ello, en vez de hacer el merge con el dataframe completo de visitas, calcula primero la primera visita y realiza el merge con la primera visita de cada usuario. Así, tendrás la fuente de la primera visita.   \n",
    "</div>"
   ]
  },
  {
   "cell_type": "markdown",
   "metadata": {},
   "source": [
    "<div class=\"alert alert-block alert-danger\">\n",
    "<b>Comentario de Reviewer</b> <a class=\"tocSkip\"></a>\n",
    "\n",
    "El código tiene la idea correcta pero la línea\n",
    "    \n",
    "    visits_with_first_purchase[visits_with_first_purchase['Start Ts'] <= visits_with_first_purchase['First Purchase Ts']]\n",
    "\n",
    "Lo que hace es dejar todas las visitas antes de la primera compra y solo nos interesa la primera. Un usuario que visitó 10 veces antes de su primera compra aparecerá 10 veces adquirido. Reemplaza esto con algo como `df.sort_values(by='dt').groupby('uid')['source_id'].first()` que te permitirá obtener la fuente de la primera visita de cada usuario.\n",
    "    \n",
    "</div>"
   ]
  },
  {
   "cell_type": "markdown",
   "metadata": {},
   "source": [
    "<div class=\"alert alert-block alert-danger\">\n",
    "<b>Comentario de Reviewer</b> <a class=\"tocSkip\"></a>\n",
    "\n",
    "El CAC es el costo de adquisición de los usuarios, para esto debes tener los usuarios adquiridos (que hicieron al menos una compra) y la fuente por la que fueron adquiridos (fuente de su primera visita).\n",
    "    \n",
    "La inversión de marketing es variable según el día y la fuente, de la misma forma que el ingreso de usuarios varia por día y fuente. Debes juntar el gasto de mkt por día y fuente con la cantidad de usuarios compradores que fueron obtenidos por esa fuente. Con ello obtienes un cac para cada día y fuente, luego puedes agrupar por fuente y obtener un promedio del cac diario. Te dejo un esquema de cómo realizar esto.\n",
    "    \n",
    "- Para cada usuario debes tener la fuente de la primera visita y la fecha de la primera compra\n",
    "- Agrupa lo anterior por fuente y fecha para contar la cantidad diferente de compradores\n",
    "- A lo anterior une los costos por fecha y fuente.\n",
    "- El cac diario es el costo del día, dividido la cantidad de compradores\n",
    "- Obtén un cac por fuente: agrupa los cac diarios por fuente y obtén el promedio como el cac por fuente   \n",
    "</div>"
   ]
  },
  {
   "cell_type": "markdown",
   "metadata": {},
   "source": [
    "#### ¿Cuán rentables eran las inversiones? (ROMI)"
   ]
  },
  {
   "cell_type": "markdown",
   "metadata": {},
   "source": [
    "<div class=\"alert alert-block alert-danger\">\n",
    "<b>Comentario de Reviewer</b> <a class=\"tocSkip\"></a>\n",
    "\n",
    "El ROMI depende del ltv y del cac, ya que queremos ver la rentabilidad de acuerdo al valor acumulado de la vida de los usuarios y el costo de haberlos traido. Te guiare en la resolución de esta parte luego de completar las anteriores.\n",
    "</div>"
   ]
  },
  {
   "cell_type": "markdown",
   "metadata": {},
   "source": [
    "<div class=\"alert alert-block alert-danger\">\n",
    "<b>Comentario de Revisor v4 </b> <a class=\"tocSkip\"></a>\n",
    "\n",
    "El ROMI depende del ltv y del cac, ya que queremos ver la rentabilidad de acuerdo al valor acumulado de la vida de los usuarios y el costo de haberlos traido. Para cada fuente, con solo sus usuarios que entraron a través de dicha fuente, calculas el ltv y el cac. Luego efectivamente el romi puede ser ltv/cac.\n",
    "     \n",
    "    \n",
    "Te orientaré para esta parte:\n",
    "    \n",
    "- Debes tener para cada usuario su source de primera visita, mes de primera compra y todas sus compras. Es decir, una tabla con una fila para cada compra y en cada fila tener el source de la 1era visita y mes de 1era compra del usuario correspondiente.\n",
    "   - Este primer dataframe lo puedes construir obteniendo la primera visita de cada usuario, eso te da la source de la primera visita\n",
    "   - Luego obtén la fecha de primera compra para cada usuario\n",
    "   - Haz un par de left joins para unir esta data a orders, así tendrás lo requerido\n",
    "  \n",
    "    \n",
    "- Debes iterar sobre las source. \n",
    "  - Supongamos estamos iterando sobre la source i.\n",
    "  - Filtra la tabla por la source i, de manera que solamente te quedan los usuarios que llegaron por la source i.\n",
    "  - Con esta data filtrada, calcular el tamaño inicial de cada cohorte y por otro lado, el revenue por mes de cada cohorte (hay que agregar la edad si aún no estaba calculada)\n",
    "  - Con eso calculamos un revenue por comprador de cada mes para cada cohorte\n",
    "  - Además, obtén los costos mensuales de la source i y únelos como mes de primera orden = mes de gasto\n",
    "  - Así, tendremos ltv=revenue/tamaño cohorte y cac=gasto/tamaño cohorte\n",
    "  - Finalmente ROMI = ltv/cac\n",
    "  - Presenta esto en una tabla pivote, similara como se presentó el ltv\n",
    "    \n",
    "</div>"
   ]
  },
  {
   "cell_type": "code",
   "execution_count": 28,
   "metadata": {},
   "outputs": [],
   "source": [
    "# CÓDIGO REVISOR\n",
    "ordenes['Buy Ts'] = pd.to_datetime(ordenes['Buy Ts'])\n",
    "visitas['Start Ts'] = pd.to_datetime(visitas['Start Ts'])\n",
    "costos['dt'] = pd.to_datetime(costos['dt'])\n",
    "\n",
    "primera_visita_por_usuario = visitas.groupby(\"Uid\")[\"Start Ts\"].min().reset_index()\n",
    "primera_visita_por_usuario.columns = [\"Uid\", \"first_visit_date\"]\n",
    "\n",
    "primera_compra_por_usuario = ordenes.groupby(\"Uid\")[\"Buy Ts\"].min().reset_index()\n",
    "primera_compra_por_usuario.columns = [\"Uid\", \"first_purchase_date\"]\n",
    "\n",
    "fuente_por_usuario = visitas.groupby(\"Uid\")[\"Source Id\"].first().reset_index()\n",
    "fuente_por_usuario.columns = [\"Uid\", \"Source Id\"]\n",
    "\n",
    "ordenes = pd.merge(ordenes, primera_visita_por_usuario, on=\"Uid\", how=\"left\")\n",
    "ordenes = pd.merge(ordenes, primera_compra_por_usuario, on=\"Uid\", how=\"left\")\n",
    "ordenes = pd.merge(ordenes, fuente_por_usuario, on=\"Uid\", how=\"left\")"
   ]
  },
  {
   "cell_type": "code",
   "execution_count": 31,
   "metadata": {},
   "outputs": [
    {
     "name": "stderr",
     "output_type": "stream",
     "text": [
      "/tmp/ipykernel_72/2279430789.py:9: SettingWithCopyWarning: \n",
      "A value is trying to be set on a copy of a slice from a DataFrame.\n",
      "Try using .loc[row_indexer,col_indexer] = value instead\n",
      "\n",
      "See the caveats in the documentation: https://pandas.pydata.org/pandas-docs/stable/user_guide/indexing.html#returning-a-view-versus-a-copy\n",
      "  ordenes_source['cohort_month'] = ordenes_source['first_visit_date'].dt.to_period(\"M\")\n",
      "/tmp/ipykernel_72/2279430789.py:10: SettingWithCopyWarning: \n",
      "A value is trying to be set on a copy of a slice from a DataFrame.\n",
      "Try using .loc[row_indexer,col_indexer] = value instead\n",
      "\n",
      "See the caveats in the documentation: https://pandas.pydata.org/pandas-docs/stable/user_guide/indexing.html#returning-a-view-versus-a-copy\n",
      "  ordenes_source['purchase_month'] = ordenes_source['Buy Ts'].dt.to_period(\"M\")\n",
      "/tmp/ipykernel_72/2279430789.py:19: SettingWithCopyWarning: \n",
      "A value is trying to be set on a copy of a slice from a DataFrame.\n",
      "Try using .loc[row_indexer,col_indexer] = value instead\n",
      "\n",
      "See the caveats in the documentation: https://pandas.pydata.org/pandas-docs/stable/user_guide/indexing.html#returning-a-view-versus-a-copy\n",
      "  costos_source['cohort_month'] = costos_source['dt'].dt.to_period(\"M\")\n",
      "/tmp/ipykernel_72/2279430789.py:9: SettingWithCopyWarning: \n",
      "A value is trying to be set on a copy of a slice from a DataFrame.\n",
      "Try using .loc[row_indexer,col_indexer] = value instead\n",
      "\n",
      "See the caveats in the documentation: https://pandas.pydata.org/pandas-docs/stable/user_guide/indexing.html#returning-a-view-versus-a-copy\n",
      "  ordenes_source['cohort_month'] = ordenes_source['first_visit_date'].dt.to_period(\"M\")\n",
      "/tmp/ipykernel_72/2279430789.py:10: SettingWithCopyWarning: \n",
      "A value is trying to be set on a copy of a slice from a DataFrame.\n",
      "Try using .loc[row_indexer,col_indexer] = value instead\n",
      "\n",
      "See the caveats in the documentation: https://pandas.pydata.org/pandas-docs/stable/user_guide/indexing.html#returning-a-view-versus-a-copy\n",
      "  ordenes_source['purchase_month'] = ordenes_source['Buy Ts'].dt.to_period(\"M\")\n",
      "/tmp/ipykernel_72/2279430789.py:19: SettingWithCopyWarning: \n",
      "A value is trying to be set on a copy of a slice from a DataFrame.\n",
      "Try using .loc[row_indexer,col_indexer] = value instead\n",
      "\n",
      "See the caveats in the documentation: https://pandas.pydata.org/pandas-docs/stable/user_guide/indexing.html#returning-a-view-versus-a-copy\n",
      "  costos_source['cohort_month'] = costos_source['dt'].dt.to_period(\"M\")\n",
      "/tmp/ipykernel_72/2279430789.py:9: SettingWithCopyWarning: \n",
      "A value is trying to be set on a copy of a slice from a DataFrame.\n",
      "Try using .loc[row_indexer,col_indexer] = value instead\n",
      "\n",
      "See the caveats in the documentation: https://pandas.pydata.org/pandas-docs/stable/user_guide/indexing.html#returning-a-view-versus-a-copy\n",
      "  ordenes_source['cohort_month'] = ordenes_source['first_visit_date'].dt.to_period(\"M\")\n",
      "/tmp/ipykernel_72/2279430789.py:10: SettingWithCopyWarning: \n",
      "A value is trying to be set on a copy of a slice from a DataFrame.\n",
      "Try using .loc[row_indexer,col_indexer] = value instead\n",
      "\n",
      "See the caveats in the documentation: https://pandas.pydata.org/pandas-docs/stable/user_guide/indexing.html#returning-a-view-versus-a-copy\n",
      "  ordenes_source['purchase_month'] = ordenes_source['Buy Ts'].dt.to_period(\"M\")\n",
      "/tmp/ipykernel_72/2279430789.py:19: SettingWithCopyWarning: \n",
      "A value is trying to be set on a copy of a slice from a DataFrame.\n",
      "Try using .loc[row_indexer,col_indexer] = value instead\n",
      "\n",
      "See the caveats in the documentation: https://pandas.pydata.org/pandas-docs/stable/user_guide/indexing.html#returning-a-view-versus-a-copy\n",
      "  costos_source['cohort_month'] = costos_source['dt'].dt.to_period(\"M\")\n",
      "/tmp/ipykernel_72/2279430789.py:9: SettingWithCopyWarning: \n",
      "A value is trying to be set on a copy of a slice from a DataFrame.\n",
      "Try using .loc[row_indexer,col_indexer] = value instead\n",
      "\n",
      "See the caveats in the documentation: https://pandas.pydata.org/pandas-docs/stable/user_guide/indexing.html#returning-a-view-versus-a-copy\n",
      "  ordenes_source['cohort_month'] = ordenes_source['first_visit_date'].dt.to_period(\"M\")\n",
      "/tmp/ipykernel_72/2279430789.py:10: SettingWithCopyWarning: \n",
      "A value is trying to be set on a copy of a slice from a DataFrame.\n",
      "Try using .loc[row_indexer,col_indexer] = value instead\n",
      "\n",
      "See the caveats in the documentation: https://pandas.pydata.org/pandas-docs/stable/user_guide/indexing.html#returning-a-view-versus-a-copy\n",
      "  ordenes_source['purchase_month'] = ordenes_source['Buy Ts'].dt.to_period(\"M\")\n",
      "/tmp/ipykernel_72/2279430789.py:19: SettingWithCopyWarning: \n",
      "A value is trying to be set on a copy of a slice from a DataFrame.\n",
      "Try using .loc[row_indexer,col_indexer] = value instead\n",
      "\n",
      "See the caveats in the documentation: https://pandas.pydata.org/pandas-docs/stable/user_guide/indexing.html#returning-a-view-versus-a-copy\n",
      "  costos_source['cohort_month'] = costos_source['dt'].dt.to_period(\"M\")\n"
     ]
    },
    {
     "name": "stdout",
     "output_type": "stream",
     "text": [
      "cohort_age          0         1         2         3         4         5   \\\n",
      "cohort_month                                                               \n",
      "2017-06       1.224847  0.588774  0.606889  1.433401  0.937785  0.532405   \n",
      "2017-07       0.856526  0.122222  0.196192  0.107850  0.088379  0.077669   \n",
      "2017-08       0.658997  0.127820  0.127368  0.104769  0.072662  0.063826   \n",
      "2017-09       0.749669  0.291656  0.154833  0.185372  0.106184  0.083248   \n",
      "2017-10       0.816681  0.231286  0.075937  0.075349  0.056738  0.034239   \n",
      "2017-11       0.800561  0.037061  0.039384  0.017324  0.061227  0.011934   \n",
      "2017-12       0.586738  0.061720  0.055027  0.127153  0.006262  0.058671   \n",
      "2018-01       0.399706  0.037554  0.019747  0.008485  0.007858       NaN   \n",
      "2018-02       0.491254  0.135216  0.008374  0.042854       NaN       NaN   \n",
      "2018-03       0.781685  0.031969  0.045170       NaN       NaN       NaN   \n",
      "2018-04       0.576788  0.036897       NaN       NaN       NaN       NaN   \n",
      "2018-05       0.716403       NaN       NaN       NaN       NaN       NaN   \n",
      "\n",
      "cohort_age          6         7         8         9         10        11  \n",
      "cohort_month                                                              \n",
      "2017-06       0.601727  0.879221  0.534173  0.431366  0.568030  0.466112  \n",
      "2017-07       0.052010  0.144415  0.118028  0.247148  0.171734       NaN  \n",
      "2017-08       0.002311  0.935838  0.538805  0.124741       NaN       NaN  \n",
      "2017-09       0.018715  0.010166  0.007983       NaN       NaN       NaN  \n",
      "2017-10       0.046179  0.068017       NaN       NaN       NaN       NaN  \n",
      "2017-11       0.026191       NaN       NaN       NaN       NaN       NaN  \n",
      "2017-12            NaN       NaN       NaN       NaN       NaN       NaN  \n",
      "2018-01            NaN       NaN       NaN       NaN       NaN       NaN  \n",
      "2018-02            NaN       NaN       NaN       NaN       NaN       NaN  \n",
      "2018-03            NaN       NaN       NaN       NaN       NaN       NaN  \n",
      "2018-04            NaN       NaN       NaN       NaN       NaN       NaN  \n",
      "2018-05            NaN       NaN       NaN       NaN       NaN       NaN  \n",
      "cohort_age          0         1         2         3         4         5   \\\n",
      "cohort_month                                                               \n",
      "2017-06       0.429962  0.163032  0.039759  0.409639  0.458395  0.172091   \n",
      "2017-07       0.631419  0.126282  0.045030  0.074077  0.099897  0.114169   \n",
      "2017-08       0.296999  0.046918  0.017101  0.047575  0.026614  0.027238   \n",
      "2017-09       0.410562  0.519175  0.214378  0.050337  0.067982  0.059243   \n",
      "2017-10       0.505719  0.308023  0.039556  0.041100  0.027199  0.035680   \n",
      "2017-11       0.332282  0.099067  0.085055  0.110253  0.054921  0.041958   \n",
      "2017-12       0.560443  0.092080  0.700061  0.845463  0.222835  0.239064   \n",
      "2018-01       0.217775  0.090871  0.131725  0.018594  0.020502       NaN   \n",
      "2018-02       0.260771  0.089274  0.027488  0.021809       NaN       NaN   \n",
      "2018-03       0.317174  0.071560  0.110607       NaN       NaN       NaN   \n",
      "2018-04       0.297441  0.070458       NaN       NaN       NaN       NaN   \n",
      "2018-05       0.919400       NaN       NaN       NaN       NaN       NaN   \n",
      "\n",
      "cohort_age          6         7         8         9         10        11  \n",
      "cohort_month                                                              \n",
      "2017-06       0.305181  0.247205  0.234706  0.355173  0.233878  0.158784  \n",
      "2017-07       0.051043  0.033346  0.037791  0.024298  0.037624       NaN  \n",
      "2017-08       0.031689  0.018934  0.037442  0.018890       NaN       NaN  \n",
      "2017-09       0.042744  0.003540  0.008728       NaN       NaN       NaN  \n",
      "2017-10       0.009127  0.012178       NaN       NaN       NaN       NaN  \n",
      "2017-11       0.025066       NaN       NaN       NaN       NaN       NaN  \n",
      "2017-12            NaN       NaN       NaN       NaN       NaN       NaN  \n",
      "2018-01            NaN       NaN       NaN       NaN       NaN       NaN  \n",
      "2018-02            NaN       NaN       NaN       NaN       NaN       NaN  \n",
      "2018-03            NaN       NaN       NaN       NaN       NaN       NaN  \n",
      "2018-04            NaN       NaN       NaN       NaN       NaN       NaN  \n",
      "2018-05            NaN       NaN       NaN       NaN       NaN       NaN  \n",
      "cohort_age          0         1         2         3         4         5   \\\n",
      "cohort_month                                                               \n",
      "2017-06       0.362709  0.093142  0.027858  0.049209  0.058722  0.047536   \n",
      "2017-07       0.322847  0.023689  0.026129  0.042359  0.011852  0.017389   \n",
      "2017-08       0.255192  0.028191  0.034005  0.026117  0.021952  0.011283   \n",
      "2017-09       0.391897  0.072388  0.054486  0.017268  0.027201  0.015626   \n",
      "2017-10       0.280601  0.050286  0.019303  0.011081  0.019073  0.018324   \n",
      "2017-11       0.265360  0.036375  0.017268  0.017634  0.018230  0.008146   \n",
      "2017-12       0.275946  0.031047  0.014124  0.012902  0.010376  0.013923   \n",
      "2018-01       0.211683  0.026001  0.015142  0.006202  0.017474       NaN   \n",
      "2018-02       0.223950  0.035468  0.009267  0.029768       NaN       NaN   \n",
      "2018-03       0.220689  0.018056  0.009501       NaN       NaN       NaN   \n",
      "2018-04       0.231984  0.115920       NaN       NaN       NaN       NaN   \n",
      "2018-05       0.231853       NaN       NaN       NaN       NaN       NaN   \n",
      "\n",
      "cohort_age          6         7         8         9         10        11  \n",
      "cohort_month                                                              \n",
      "2017-06       0.026703  0.016484  0.020288  0.019043  0.017322  0.019385  \n",
      "2017-07       0.018442  0.026794  0.023749  0.011683  0.008110       NaN  \n",
      "2017-08       0.011392  0.011747  0.010763  0.009480       NaN       NaN  \n",
      "2017-09       0.035333  0.007237  0.010852       NaN       NaN       NaN  \n",
      "2017-10       0.007746  0.006515       NaN       NaN       NaN       NaN  \n",
      "2017-11       0.010597       NaN       NaN       NaN       NaN       NaN  \n",
      "2017-12            NaN       NaN       NaN       NaN       NaN       NaN  \n",
      "2018-01            NaN       NaN       NaN       NaN       NaN       NaN  \n",
      "2018-02            NaN       NaN       NaN       NaN       NaN       NaN  \n",
      "2018-03            NaN       NaN       NaN       NaN       NaN       NaN  \n",
      "2018-04            NaN       NaN       NaN       NaN       NaN       NaN  \n",
      "2018-05            NaN       NaN       NaN       NaN       NaN       NaN  \n",
      "cohort_age          0         1         2         3         4         5   \\\n",
      "cohort_month                                                               \n",
      "2017-06       0.725842  0.193718  0.097197  0.147604  0.134638  0.070104   \n",
      "2017-07       0.692479  0.062886  0.109148  0.030839  0.047960  0.050718   \n",
      "2017-08       0.770116  0.184979  0.181103  0.150818  0.202999  0.116035   \n",
      "2017-09       0.865230  0.068306  0.077384  2.476894  0.125898  0.326686   \n",
      "2017-10       0.768830  0.072110  0.038468  0.035916  0.035213  0.033473   \n",
      "2017-11       0.412138  0.058011  0.027970  0.011025  0.005653  0.011087   \n",
      "2017-12       0.546210  0.040233  0.021657  0.030893  0.004702  0.007590   \n",
      "2018-01       0.419918  0.094847  0.017807  0.007151  0.012324       NaN   \n",
      "2018-02       0.460778  0.056699  0.015229  0.006724       NaN       NaN   \n",
      "2018-03       0.404615  0.020830  0.009080       NaN       NaN       NaN   \n",
      "2018-04       0.406544  0.042706       NaN       NaN       NaN       NaN   \n",
      "2018-05       0.462456       NaN       NaN       NaN       NaN       NaN   \n",
      "\n",
      "cohort_age          6         7         8         9         10        11  \n",
      "cohort_month                                                              \n",
      "2017-06       0.184525  0.103910  0.104028  0.239033  0.032269  0.030893  \n",
      "2017-07       0.025312  0.041509  0.033511  0.017788  0.016890       NaN  \n",
      "2017-08       0.073899  0.058857  0.058972  0.047811       NaN       NaN  \n",
      "2017-09       0.064139  0.068779  0.010841       NaN       NaN       NaN  \n",
      "2017-10       0.014010  0.023520       NaN       NaN       NaN       NaN  \n",
      "2017-11       0.016527       NaN       NaN       NaN       NaN       NaN  \n",
      "2017-12            NaN       NaN       NaN       NaN       NaN       NaN  \n",
      "2018-01            NaN       NaN       NaN       NaN       NaN       NaN  \n",
      "2018-02            NaN       NaN       NaN       NaN       NaN       NaN  \n",
      "2018-03            NaN       NaN       NaN       NaN       NaN       NaN  \n",
      "2018-04            NaN       NaN       NaN       NaN       NaN       NaN  \n",
      "2018-05            NaN       NaN       NaN       NaN       NaN       NaN  \n"
     ]
    },
    {
     "name": "stderr",
     "output_type": "stream",
     "text": [
      "/tmp/ipykernel_72/2279430789.py:9: SettingWithCopyWarning: \n",
      "A value is trying to be set on a copy of a slice from a DataFrame.\n",
      "Try using .loc[row_indexer,col_indexer] = value instead\n",
      "\n",
      "See the caveats in the documentation: https://pandas.pydata.org/pandas-docs/stable/user_guide/indexing.html#returning-a-view-versus-a-copy\n",
      "  ordenes_source['cohort_month'] = ordenes_source['first_visit_date'].dt.to_period(\"M\")\n",
      "/tmp/ipykernel_72/2279430789.py:10: SettingWithCopyWarning: \n",
      "A value is trying to be set on a copy of a slice from a DataFrame.\n",
      "Try using .loc[row_indexer,col_indexer] = value instead\n",
      "\n",
      "See the caveats in the documentation: https://pandas.pydata.org/pandas-docs/stable/user_guide/indexing.html#returning-a-view-versus-a-copy\n",
      "  ordenes_source['purchase_month'] = ordenes_source['Buy Ts'].dt.to_period(\"M\")\n",
      "/tmp/ipykernel_72/2279430789.py:19: SettingWithCopyWarning: \n",
      "A value is trying to be set on a copy of a slice from a DataFrame.\n",
      "Try using .loc[row_indexer,col_indexer] = value instead\n",
      "\n",
      "See the caveats in the documentation: https://pandas.pydata.org/pandas-docs/stable/user_guide/indexing.html#returning-a-view-versus-a-copy\n",
      "  costos_source['cohort_month'] = costos_source['dt'].dt.to_period(\"M\")\n",
      "/tmp/ipykernel_72/2279430789.py:9: SettingWithCopyWarning: \n",
      "A value is trying to be set on a copy of a slice from a DataFrame.\n",
      "Try using .loc[row_indexer,col_indexer] = value instead\n",
      "\n",
      "See the caveats in the documentation: https://pandas.pydata.org/pandas-docs/stable/user_guide/indexing.html#returning-a-view-versus-a-copy\n",
      "  ordenes_source['cohort_month'] = ordenes_source['first_visit_date'].dt.to_period(\"M\")\n",
      "/tmp/ipykernel_72/2279430789.py:10: SettingWithCopyWarning: \n",
      "A value is trying to be set on a copy of a slice from a DataFrame.\n",
      "Try using .loc[row_indexer,col_indexer] = value instead\n",
      "\n",
      "See the caveats in the documentation: https://pandas.pydata.org/pandas-docs/stable/user_guide/indexing.html#returning-a-view-versus-a-copy\n",
      "  ordenes_source['purchase_month'] = ordenes_source['Buy Ts'].dt.to_period(\"M\")\n",
      "/tmp/ipykernel_72/2279430789.py:19: SettingWithCopyWarning: \n",
      "A value is trying to be set on a copy of a slice from a DataFrame.\n",
      "Try using .loc[row_indexer,col_indexer] = value instead\n",
      "\n",
      "See the caveats in the documentation: https://pandas.pydata.org/pandas-docs/stable/user_guide/indexing.html#returning-a-view-versus-a-copy\n",
      "  costos_source['cohort_month'] = costos_source['dt'].dt.to_period(\"M\")\n",
      "/tmp/ipykernel_72/2279430789.py:9: SettingWithCopyWarning: \n",
      "A value is trying to be set on a copy of a slice from a DataFrame.\n",
      "Try using .loc[row_indexer,col_indexer] = value instead\n",
      "\n",
      "See the caveats in the documentation: https://pandas.pydata.org/pandas-docs/stable/user_guide/indexing.html#returning-a-view-versus-a-copy\n",
      "  ordenes_source['cohort_month'] = ordenes_source['first_visit_date'].dt.to_period(\"M\")\n",
      "/tmp/ipykernel_72/2279430789.py:10: SettingWithCopyWarning: \n",
      "A value is trying to be set on a copy of a slice from a DataFrame.\n",
      "Try using .loc[row_indexer,col_indexer] = value instead\n",
      "\n",
      "See the caveats in the documentation: https://pandas.pydata.org/pandas-docs/stable/user_guide/indexing.html#returning-a-view-versus-a-copy\n",
      "  ordenes_source['purchase_month'] = ordenes_source['Buy Ts'].dt.to_period(\"M\")\n",
      "/tmp/ipykernel_72/2279430789.py:19: SettingWithCopyWarning: \n",
      "A value is trying to be set on a copy of a slice from a DataFrame.\n",
      "Try using .loc[row_indexer,col_indexer] = value instead\n",
      "\n",
      "See the caveats in the documentation: https://pandas.pydata.org/pandas-docs/stable/user_guide/indexing.html#returning-a-view-versus-a-copy\n",
      "  costos_source['cohort_month'] = costos_source['dt'].dt.to_period(\"M\")\n",
      "/tmp/ipykernel_72/2279430789.py:9: SettingWithCopyWarning: \n",
      "A value is trying to be set on a copy of a slice from a DataFrame.\n",
      "Try using .loc[row_indexer,col_indexer] = value instead\n",
      "\n",
      "See the caveats in the documentation: https://pandas.pydata.org/pandas-docs/stable/user_guide/indexing.html#returning-a-view-versus-a-copy\n",
      "  ordenes_source['cohort_month'] = ordenes_source['first_visit_date'].dt.to_period(\"M\")\n",
      "/tmp/ipykernel_72/2279430789.py:10: SettingWithCopyWarning: \n",
      "A value is trying to be set on a copy of a slice from a DataFrame.\n",
      "Try using .loc[row_indexer,col_indexer] = value instead\n",
      "\n",
      "See the caveats in the documentation: https://pandas.pydata.org/pandas-docs/stable/user_guide/indexing.html#returning-a-view-versus-a-copy\n",
      "  ordenes_source['purchase_month'] = ordenes_source['Buy Ts'].dt.to_period(\"M\")\n"
     ]
    },
    {
     "name": "stdout",
     "output_type": "stream",
     "text": [
      "cohort_age          0         1         2         3         4         5   \\\n",
      "cohort_month                                                               \n",
      "2017-06       0.557596  0.092475  0.040352  0.120237  0.210484  0.332818   \n",
      "2017-07       0.724775  0.057157  0.042989  0.055299  0.048661  0.039292   \n",
      "2017-08       0.456741  0.052754  0.034106  0.064879  0.021487  0.024722   \n",
      "2017-09       0.453870  0.103743  0.055109  0.037227  0.023358  0.025748   \n",
      "2017-10       0.688508  0.069642  0.057980  0.041709  0.031343  0.035984   \n",
      "2017-11       0.902016  0.169443  0.046294  0.053479  0.049595  0.040359   \n",
      "2017-12       0.592257  0.044526  0.033860  0.030169  0.018107  0.023312   \n",
      "2018-01       0.528723  0.086345  0.032415  0.012773  0.009251       NaN   \n",
      "2018-02       0.587196  0.075830  0.052091  0.034818       NaN       NaN   \n",
      "2018-03       0.641552  0.046049  0.011335       NaN       NaN       NaN   \n",
      "2018-04       0.566711  0.069128       NaN       NaN       NaN       NaN   \n",
      "2018-05       0.597218  0.000812       NaN       NaN       NaN       NaN   \n",
      "\n",
      "cohort_age          6         7         8         9        10        11  \n",
      "cohort_month                                                             \n",
      "2017-06       0.367290  0.067654  0.176938  0.345044  0.21395  0.216911  \n",
      "2017-07       0.040235  0.050381  0.046919  0.032218  0.01212       NaN  \n",
      "2017-08       0.042137  0.022105  0.013579  0.012290      NaN       NaN  \n",
      "2017-09       0.029893  0.006533  0.022934       NaN      NaN       NaN  \n",
      "2017-10       0.027850  0.030132       NaN       NaN      NaN       NaN  \n",
      "2017-11       0.033033       NaN       NaN       NaN      NaN       NaN  \n",
      "2017-12            NaN       NaN       NaN       NaN      NaN       NaN  \n",
      "2018-01            NaN       NaN       NaN       NaN      NaN       NaN  \n",
      "2018-02            NaN       NaN       NaN       NaN      NaN       NaN  \n",
      "2018-03            NaN       NaN       NaN       NaN      NaN       NaN  \n",
      "2018-04            NaN       NaN       NaN       NaN      NaN       NaN  \n",
      "2018-05            NaN       NaN       NaN       NaN      NaN       NaN  \n",
      "cohort_age          0         1         2         3         4         5   \\\n",
      "cohort_month                                                               \n",
      "2017-06       0.850887  0.112930  0.257906  0.283220  0.660683  0.304151   \n",
      "2017-07       0.677795  0.197792  0.355259  0.255900  0.186851  0.035499   \n",
      "2017-08       0.656289  0.125899  0.463785  0.242880  0.173744  0.081911   \n",
      "2017-09       0.578100  0.333430  0.258024  0.217891  0.112892  0.135701   \n",
      "2017-10       0.475263  0.144057  0.067098  0.050442  0.092992  0.013308   \n",
      "2017-11       0.482508  0.147853  0.085556  0.105712  0.064654  0.042844   \n",
      "2017-12       0.418083  0.077176  0.018481  0.076537  0.025122  0.022007   \n",
      "2018-01       0.170480  0.102182  0.054225  0.001115  0.007822       NaN   \n",
      "2018-02       0.287561  0.061922  0.026528  0.082430       NaN       NaN   \n",
      "2018-03       0.460742  0.028753  0.026047       NaN       NaN       NaN   \n",
      "2018-04       0.192321  0.068543       NaN       NaN       NaN       NaN   \n",
      "2018-05       0.231438       NaN       NaN       NaN       NaN       NaN   \n",
      "\n",
      "cohort_age          6         7         8         9         10        11  \n",
      "cohort_month                                                              \n",
      "2017-06       0.310182  0.154302  0.322909  0.478087  0.093191  0.054414  \n",
      "2017-07       0.126198  0.054142  0.201659  0.038408  0.104614       NaN  \n",
      "2017-08       0.233479  0.179609  0.045434  0.064034       NaN       NaN  \n",
      "2017-09       0.115081  0.225807  0.268490       NaN       NaN       NaN  \n",
      "2017-10       0.047915  0.000886       NaN       NaN       NaN       NaN  \n",
      "2017-11       0.022351       NaN       NaN       NaN       NaN       NaN  \n",
      "2017-12            NaN       NaN       NaN       NaN       NaN       NaN  \n",
      "2018-01            NaN       NaN       NaN       NaN       NaN       NaN  \n",
      "2018-02            NaN       NaN       NaN       NaN       NaN       NaN  \n",
      "2018-03            NaN       NaN       NaN       NaN       NaN       NaN  \n",
      "2018-04            NaN       NaN       NaN       NaN       NaN       NaN  \n",
      "2018-05            NaN       NaN       NaN       NaN       NaN       NaN  \n",
      "cohort_age          0         1         2         3         4         5   \\\n",
      "cohort_month                                                               \n",
      "2017-06       0.729903  0.069824       NaN  0.013621  0.120330       NaN   \n",
      "2017-07       0.502244  0.004821  0.019314  0.012946  0.169971  0.040749   \n",
      "2017-08       0.795029  0.052457  0.082986  0.004730  0.007869       NaN   \n",
      "2017-09       0.376473  0.110556  0.008466  0.044283  0.004776  0.010615   \n",
      "2017-10       0.734025  0.063213  0.033034  0.006951  0.030515  0.078837   \n",
      "2017-11       0.650437  0.071609  0.026983  0.023007  0.016735  0.003395   \n",
      "2017-12       0.357895  0.016939  0.018921  0.019292       NaN  0.015406   \n",
      "2018-01       0.407195  0.061415  0.057443  0.007585  0.068105       NaN   \n",
      "2018-02       0.472093  0.057083  0.001019  0.014473       NaN       NaN   \n",
      "2018-03       0.978781  0.042590  0.014475       NaN       NaN       NaN   \n",
      "2018-04       0.611565  0.054759       NaN       NaN       NaN       NaN   \n",
      "2018-05       0.888938       NaN       NaN       NaN       NaN       NaN   \n",
      "\n",
      "cohort_age          6         7         8         9        10        11  \n",
      "cohort_month                                                             \n",
      "2017-06       0.010279       NaN  0.012444  0.039017      NaN  0.028961  \n",
      "2017-07       0.046965  0.040234  0.001122  0.002577  0.02371       NaN  \n",
      "2017-08       0.008127  0.019693       NaN  0.019693      NaN       NaN  \n",
      "2017-09       0.019862  0.001997       NaN       NaN      NaN       NaN  \n",
      "2017-10       0.027151  0.011479       NaN       NaN      NaN       NaN  \n",
      "2017-11       0.031286       NaN       NaN       NaN      NaN       NaN  \n",
      "2017-12            NaN       NaN       NaN       NaN      NaN       NaN  \n",
      "2018-01            NaN       NaN       NaN       NaN      NaN       NaN  \n",
      "2018-02            NaN       NaN       NaN       NaN      NaN       NaN  \n",
      "2018-03            NaN       NaN       NaN       NaN      NaN       NaN  \n",
      "2018-04            NaN       NaN       NaN       NaN      NaN       NaN  \n",
      "2018-05            NaN       NaN       NaN       NaN      NaN       NaN  \n",
      "Empty DataFrame\n",
      "Columns: []\n",
      "Index: []\n",
      "cohort_age          0         1         2         3         4         5   \\\n",
      "cohort_month                                                               \n",
      "2017-06       0.697392  0.187699  0.178327  0.350990  0.368720  0.243184   \n",
      "2017-07       0.629726  0.084979  0.113437  0.082753  0.093367  0.053641   \n",
      "2017-08       0.555623  0.088431  0.134350  0.091681  0.075332  0.054169   \n",
      "2017-09       0.546543  0.214179  0.117526  0.432753  0.066899  0.093838   \n",
      "2017-10       0.609947  0.134088  0.047339  0.037507  0.041867  0.035692   \n",
      "2017-11       0.549329  0.088488  0.046930  0.048348  0.038716  0.022818   \n",
      "2017-12       0.476796  0.051960  0.123162  0.163201  0.047901  0.054282   \n",
      "2018-01       0.336497  0.071316  0.046929  0.008843  0.020477       NaN   \n",
      "2018-02       0.397658  0.073070  0.019999  0.033268       NaN       NaN   \n",
      "2018-03       0.543605  0.037115  0.032317       NaN       NaN       NaN   \n",
      "2018-04       0.411908  0.065487       NaN       NaN       NaN       NaN   \n",
      "2018-05       0.578244  0.000812       NaN       NaN       NaN       NaN   \n",
      "\n",
      "cohort_age          6         7         8         9         10        11  \n",
      "cohort_month                                                              \n",
      "2017-06       0.257984  0.244796  0.200783  0.272395  0.193107  0.139351  \n",
      "2017-07       0.051458  0.055832  0.066111  0.053446  0.053543       NaN  \n",
      "2017-08       0.057576  0.178112  0.117499  0.042420       NaN       NaN  \n",
      "2017-09       0.046538  0.046294  0.054971       NaN       NaN       NaN  \n",
      "2017-10       0.025711  0.021818       NaN       NaN       NaN       NaN  \n",
      "2017-11       0.023579       NaN       NaN       NaN       NaN       NaN  \n",
      "2017-12            NaN       NaN       NaN       NaN       NaN       NaN  \n",
      "2018-01            NaN       NaN       NaN       NaN       NaN       NaN  \n",
      "2018-02            NaN       NaN       NaN       NaN       NaN       NaN  \n",
      "2018-03            NaN       NaN       NaN       NaN       NaN       NaN  \n",
      "2018-04            NaN       NaN       NaN       NaN       NaN       NaN  \n",
      "2018-05            NaN       NaN       NaN       NaN       NaN       NaN  \n"
     ]
    }
   ],
   "source": [
    "# CÓDIGO REVISOR\n",
    "\n",
    "results = []\n",
    "\n",
    "for source in ordenes['Source Id'].unique():\n",
    "    ordenes_source = ordenes[ordenes['Source Id'] == source]\n",
    "    \n",
    "    cohort_size = ordenes_source.groupby(ordenes_source['first_visit_date'].dt.to_period(\"M\"))['Uid'].nunique().reset_index()\n",
    "    cohort_size.columns = ['cohort_month', 'cohort_size']\n",
    "    \n",
    "    ordenes_source['cohort_month'] = ordenes_source['first_visit_date'].dt.to_period(\"M\")\n",
    "    ordenes_source['purchase_month'] = ordenes_source['Buy Ts'].dt.to_period(\"M\")\n",
    "    revenue_cohort = ordenes_source.groupby(['cohort_month', 'purchase_month']).agg({'Revenue': 'sum'}).reset_index()\n",
    "    \n",
    "    revenue_cohort['cohort_age'] = (revenue_cohort['purchase_month'] - revenue_cohort['cohort_month']).apply(lambda x: x.n)\n",
    "    \n",
    "    revenue_cohort = pd.merge(revenue_cohort, cohort_size, on='cohort_month')\n",
    "    revenue_cohort['revenue_per_buyer'] = revenue_cohort['Revenue'] / revenue_cohort['cohort_size']\n",
    "    \n",
    "    costos_source = costos[costos['source_id'] == source]\n",
    "    costos_source['cohort_month'] = costos_source['dt'].dt.to_period(\"M\")\n",
    "    costos_source = costos_source.groupby('cohort_month')['costs'].sum().reset_index()\n",
    "    \n",
    "    revenue_cohort = pd.merge(revenue_cohort, costos_source, on='cohort_month', how='left')\n",
    "    \n",
    "    revenue_cohort['ltv'] = revenue_cohort['Revenue'] / revenue_cohort['cohort_size']\n",
    "    revenue_cohort['cac'] = revenue_cohort['costs'] / revenue_cohort['cohort_size']\n",
    "    revenue_cohort['romi'] = revenue_cohort['ltv'] / revenue_cohort['cac']\n",
    "    \n",
    "    results.append(revenue_cohort)\n",
    "\n",
    "    print(revenue_cohort.pivot_table(index='cohort_month', columns='cohort_age', values='romi'))\n",
    "    \n",
    "final_results = pd.concat(results)\n",
    "\n",
    "pivot_table = final_results.pivot_table(index='cohort_month', columns='cohort_age', values='romi')\n",
    "\n",
    "print(pivot_table)"
   ]
  },
  {
   "cell_type": "markdown",
   "metadata": {},
   "source": [
    "<div class=\"alert alert-block alert-warning\">\n",
    "<b>Comentario de Revisor v5</b> <a class=\"tocSkip\"></a>\n",
    "\n",
    "Muy bien Alejandro, solamente había un par de problemas en tu desarrollo, estabas mostrando solamente una pivot table y es importante mostrar una por cada fuente, corregí eso.\n",
    "</div>"
   ]
  },
  {
   "cell_type": "code",
   "execution_count": 26,
   "metadata": {
    "scrolled": true
   },
   "outputs": [
    {
     "ename": "KeyError",
     "evalue": "'Source Id'",
     "output_type": "error",
     "traceback": [
      "\u001b[0;31m---------------------------------------------------------------------------\u001b[0m",
      "\u001b[0;31mKeyError\u001b[0m                                  Traceback (most recent call last)",
      "File \u001b[0;32m/opt/conda/envs/python3/lib/python3.9/site-packages/pandas/core/indexes/base.py:3080\u001b[0m, in \u001b[0;36mIndex.get_loc\u001b[0;34m(self, key, method, tolerance)\u001b[0m\n\u001b[1;32m   3079\u001b[0m \u001b[38;5;28;01mtry\u001b[39;00m:\n\u001b[0;32m-> 3080\u001b[0m     \u001b[38;5;28;01mreturn\u001b[39;00m \u001b[38;5;28;43mself\u001b[39;49m\u001b[38;5;241;43m.\u001b[39;49m\u001b[43m_engine\u001b[49m\u001b[38;5;241;43m.\u001b[39;49m\u001b[43mget_loc\u001b[49m\u001b[43m(\u001b[49m\u001b[43mcasted_key\u001b[49m\u001b[43m)\u001b[49m\n\u001b[1;32m   3081\u001b[0m \u001b[38;5;28;01mexcept\u001b[39;00m \u001b[38;5;167;01mKeyError\u001b[39;00m \u001b[38;5;28;01mas\u001b[39;00m err:\n",
      "File \u001b[0;32mpandas/_libs/index.pyx:70\u001b[0m, in \u001b[0;36mpandas._libs.index.IndexEngine.get_loc\u001b[0;34m()\u001b[0m\n",
      "File \u001b[0;32mpandas/_libs/index.pyx:101\u001b[0m, in \u001b[0;36mpandas._libs.index.IndexEngine.get_loc\u001b[0;34m()\u001b[0m\n",
      "File \u001b[0;32mpandas/_libs/hashtable_class_helper.pxi:4554\u001b[0m, in \u001b[0;36mpandas._libs.hashtable.PyObjectHashTable.get_item\u001b[0;34m()\u001b[0m\n",
      "File \u001b[0;32mpandas/_libs/hashtable_class_helper.pxi:4562\u001b[0m, in \u001b[0;36mpandas._libs.hashtable.PyObjectHashTable.get_item\u001b[0;34m()\u001b[0m\n",
      "\u001b[0;31mKeyError\u001b[0m: 'Source Id'",
      "\nThe above exception was the direct cause of the following exception:\n",
      "\u001b[0;31mKeyError\u001b[0m                                  Traceback (most recent call last)",
      "Cell \u001b[0;32mIn[26], line 20\u001b[0m\n\u001b[1;32m     16\u001b[0m ordenes \u001b[38;5;241m=\u001b[39m pd\u001b[38;5;241m.\u001b[39mmerge(ordenes, fuente_por_usuario, on\u001b[38;5;241m=\u001b[39m\u001b[38;5;124m\"\u001b[39m\u001b[38;5;124mUid\u001b[39m\u001b[38;5;124m\"\u001b[39m, how\u001b[38;5;241m=\u001b[39m\u001b[38;5;124m\"\u001b[39m\u001b[38;5;124mleft\u001b[39m\u001b[38;5;124m\"\u001b[39m)\n\u001b[1;32m     18\u001b[0m results \u001b[38;5;241m=\u001b[39m []\n\u001b[0;32m---> 20\u001b[0m \u001b[38;5;28;01mfor\u001b[39;00m source \u001b[38;5;129;01min\u001b[39;00m \u001b[43mordenes\u001b[49m\u001b[43m[\u001b[49m\u001b[38;5;124;43m'\u001b[39;49m\u001b[38;5;124;43mSource Id\u001b[39;49m\u001b[38;5;124;43m'\u001b[39;49m\u001b[43m]\u001b[49m\u001b[38;5;241m.\u001b[39munique():\n\u001b[1;32m     21\u001b[0m     ordenes_source \u001b[38;5;241m=\u001b[39m ordenes[ordenes[\u001b[38;5;124m'\u001b[39m\u001b[38;5;124mSource Id\u001b[39m\u001b[38;5;124m'\u001b[39m] \u001b[38;5;241m==\u001b[39m source]\n\u001b[1;32m     23\u001b[0m     cohort_size \u001b[38;5;241m=\u001b[39m ordenes_source\u001b[38;5;241m.\u001b[39mgroupby(ordenes_source[\u001b[38;5;124m'\u001b[39m\u001b[38;5;124mfirst_visit_date\u001b[39m\u001b[38;5;124m'\u001b[39m]\u001b[38;5;241m.\u001b[39mdt\u001b[38;5;241m.\u001b[39mto_period(\u001b[38;5;124m\"\u001b[39m\u001b[38;5;124mM\u001b[39m\u001b[38;5;124m\"\u001b[39m))[\u001b[38;5;124m'\u001b[39m\u001b[38;5;124mUid\u001b[39m\u001b[38;5;124m'\u001b[39m]\u001b[38;5;241m.\u001b[39mnunique()\u001b[38;5;241m.\u001b[39mreset_index()\n",
      "File \u001b[0;32m/opt/conda/envs/python3/lib/python3.9/site-packages/pandas/core/frame.py:3024\u001b[0m, in \u001b[0;36mDataFrame.__getitem__\u001b[0;34m(self, key)\u001b[0m\n\u001b[1;32m   3022\u001b[0m \u001b[38;5;28;01mif\u001b[39;00m \u001b[38;5;28mself\u001b[39m\u001b[38;5;241m.\u001b[39mcolumns\u001b[38;5;241m.\u001b[39mnlevels \u001b[38;5;241m>\u001b[39m \u001b[38;5;241m1\u001b[39m:\n\u001b[1;32m   3023\u001b[0m     \u001b[38;5;28;01mreturn\u001b[39;00m \u001b[38;5;28mself\u001b[39m\u001b[38;5;241m.\u001b[39m_getitem_multilevel(key)\n\u001b[0;32m-> 3024\u001b[0m indexer \u001b[38;5;241m=\u001b[39m \u001b[38;5;28;43mself\u001b[39;49m\u001b[38;5;241;43m.\u001b[39;49m\u001b[43mcolumns\u001b[49m\u001b[38;5;241;43m.\u001b[39;49m\u001b[43mget_loc\u001b[49m\u001b[43m(\u001b[49m\u001b[43mkey\u001b[49m\u001b[43m)\u001b[49m\n\u001b[1;32m   3025\u001b[0m \u001b[38;5;28;01mif\u001b[39;00m is_integer(indexer):\n\u001b[1;32m   3026\u001b[0m     indexer \u001b[38;5;241m=\u001b[39m [indexer]\n",
      "File \u001b[0;32m/opt/conda/envs/python3/lib/python3.9/site-packages/pandas/core/indexes/base.py:3082\u001b[0m, in \u001b[0;36mIndex.get_loc\u001b[0;34m(self, key, method, tolerance)\u001b[0m\n\u001b[1;32m   3080\u001b[0m         \u001b[38;5;28;01mreturn\u001b[39;00m \u001b[38;5;28mself\u001b[39m\u001b[38;5;241m.\u001b[39m_engine\u001b[38;5;241m.\u001b[39mget_loc(casted_key)\n\u001b[1;32m   3081\u001b[0m     \u001b[38;5;28;01mexcept\u001b[39;00m \u001b[38;5;167;01mKeyError\u001b[39;00m \u001b[38;5;28;01mas\u001b[39;00m err:\n\u001b[0;32m-> 3082\u001b[0m         \u001b[38;5;28;01mraise\u001b[39;00m \u001b[38;5;167;01mKeyError\u001b[39;00m(key) \u001b[38;5;28;01mfrom\u001b[39;00m \u001b[38;5;21;01merr\u001b[39;00m\n\u001b[1;32m   3084\u001b[0m \u001b[38;5;28;01mif\u001b[39;00m tolerance \u001b[38;5;129;01mis\u001b[39;00m \u001b[38;5;129;01mnot\u001b[39;00m \u001b[38;5;28;01mNone\u001b[39;00m:\n\u001b[1;32m   3085\u001b[0m     tolerance \u001b[38;5;241m=\u001b[39m \u001b[38;5;28mself\u001b[39m\u001b[38;5;241m.\u001b[39m_convert_tolerance(tolerance, np\u001b[38;5;241m.\u001b[39masarray(key))\n",
      "\u001b[0;31mKeyError\u001b[0m: 'Source Id'"
     ]
    }
   ],
   "source": [
    "ordenes['Buy Ts'] = pd.to_datetime(ordenes['Buy Ts'])\n",
    "visitas['Start Ts'] = pd.to_datetime(visitas['Start Ts'])\n",
    "costos['dt'] = pd.to_datetime(costos['dt'])\n",
    "\n",
    "primera_visita_por_usuario = visitas.groupby(\"Uid\")[\"Start Ts\"].min().reset_index()\n",
    "primera_visita_por_usuario.columns = [\"Uid\", \"first_visit_date\"]\n",
    "\n",
    "primera_compra_por_usuario = ordenes.groupby(\"Uid\")[\"Buy Ts\"].min().reset_index()\n",
    "primera_compra_por_usuario.columns = [\"Uid\", \"first_purchase_date\"]\n",
    "\n",
    "fuente_por_usuario = visitas.groupby(\"Uid\")[\"Source Id\"].first().reset_index()\n",
    "fuente_por_usuario.columns = [\"Uid\", \"Source Id\"]\n",
    "\n",
    "ordenes = pd.merge(ordenes, primera_visita_por_usuario, on=\"Uid\", how=\"left\")\n",
    "ordenes = pd.merge(ordenes, primera_compra_por_usuario, on=\"Uid\", how=\"left\")\n",
    "ordenes = pd.merge(ordenes, fuente_por_usuario, on=\"Uid\", how=\"left\")\n",
    "\n",
    "results = []\n",
    "\n",
    "for source in ordenes['Source Id'].unique():\n",
    "    ordenes_source = ordenes[ordenes['Source Id'] == source]\n",
    "    \n",
    "    cohort_size = ordenes_source.groupby(ordenes_source['first_visit_date'].dt.to_period(\"M\"))['Uid'].nunique().reset_index()\n",
    "    cohort_size.columns = ['cohort_month', 'cohort_size']\n",
    "    \n",
    "    ordenes_source['cohort_month'] = ordenes_source['first_visit_date'].dt.to_period(\"M\")\n",
    "    ordenes_source['purchase_month'] = ordenes_source['Buy Ts'].dt.to_period(\"M\")\n",
    "    revenue_cohort = ordenes_source.groupby(['cohort_month', 'purchase_month']).agg({'Revenue': 'sum'}).reset_index()\n",
    "    \n",
    "    revenue_cohort['cohort_age'] = (revenue_cohort['purchase_month'] - revenue_cohort['cohort_month']).apply(lambda x: x.n)\n",
    "    \n",
    "    revenue_cohort = pd.merge(revenue_cohort, cohort_size, on='cohort_month')\n",
    "    revenue_cohort['revenue_per_buyer'] = revenue_cohort['Revenue'] / revenue_cohort['cohort_size']\n",
    "    \n",
    "    costos_source = costos[costos['source_id'] == source]\n",
    "    costos_source['cohort_month'] = costos_source['dt'].dt.to_period(\"M\")\n",
    "    costos_source = costos_source.groupby('cohort_month')['costs'].sum().reset_index()\n",
    "    \n",
    "    revenue_cohort = pd.merge(revenue_cohort, costos_source, on='cohort_month', how='left')\n",
    "    \n",
    "    revenue_cohort['ltv'] = revenue_cohort['Revenue'] / revenue_cohort['cohort_size']\n",
    "    revenue_cohort['cac'] = revenue_cohort['costs'] / revenue_cohort['cohort_size']\n",
    "    revenue_cohort['romi'] = revenue_cohort['ltv'] / revenue_cohort['cac']\n",
    "    \n",
    "    results.append(revenue_cohort)\n",
    "    \n",
    "    print(results.pivot_table(index='cohort_month', columns='cohort_age', values='romi'))\n",
    "    \n",
    "final_results = pd.concat(results)\n",
    "\n",
    "pivot_table = final_results.pivot_table(index='cohort_month', columns='cohort_age', values='romi')\n",
    "\n",
    "print(pivot_table)"
   ]
  },
  {
   "cell_type": "markdown",
   "metadata": {},
   "source": [
    "<div class=\"alert alert-block alert-info\">\n",
    "<b>Espero tener bien el resultado, igualmente queria ver si es posible que me dajaras algun comentario con algun codigo que este mejor que el mio y responda a la pregunta, siento que fue mucho para llegar al resultado y quizas podria haberlo hecho mejor, y me seria de gran ayuda que pudieras ayudarme con esto por favor!.</b> <a class=\"tocSkip\"></a>\n",
    "</div>\n"
   ]
  }
 ],
 "metadata": {
  "ExecuteTimeLog": [
   {
    "duration": 1147,
    "start_time": "2024-06-23T18:02:59.446Z"
   },
   {
    "duration": 205,
    "start_time": "2024-06-23T18:05:01.385Z"
   },
   {
    "duration": 20,
    "start_time": "2024-06-23T18:10:13.021Z"
   },
   {
    "duration": 12,
    "start_time": "2024-06-23T18:10:28.946Z"
   },
   {
    "duration": 13,
    "start_time": "2024-06-23T18:10:39.235Z"
   },
   {
    "duration": 15,
    "start_time": "2024-06-23T18:10:51.654Z"
   },
   {
    "duration": 13,
    "start_time": "2024-06-23T18:10:59.538Z"
   },
   {
    "duration": 40,
    "start_time": "2024-06-23T18:13:35.463Z"
   },
   {
    "duration": 13,
    "start_time": "2024-06-23T18:13:44.312Z"
   },
   {
    "duration": 796,
    "start_time": "2024-06-23T18:25:03.186Z"
   },
   {
    "duration": 27,
    "start_time": "2024-06-23T18:25:05.947Z"
   },
   {
    "duration": 1294,
    "start_time": "2024-06-23T18:25:15.395Z"
   },
   {
    "duration": 34,
    "start_time": "2024-06-23T18:25:16.693Z"
   },
   {
    "duration": 18,
    "start_time": "2024-06-23T18:25:16.730Z"
   },
   {
    "duration": 11,
    "start_time": "2024-06-23T18:25:16.752Z"
   },
   {
    "duration": 43,
    "start_time": "2024-06-23T18:25:16.766Z"
   },
   {
    "duration": 807,
    "start_time": "2024-06-23T18:25:53.377Z"
   },
   {
    "duration": 1299,
    "start_time": "2024-06-23T18:25:59.849Z"
   },
   {
    "duration": 34,
    "start_time": "2024-06-23T18:26:01.152Z"
   },
   {
    "duration": 32,
    "start_time": "2024-06-23T18:26:01.189Z"
   },
   {
    "duration": 11,
    "start_time": "2024-06-23T18:26:01.224Z"
   },
   {
    "duration": 11,
    "start_time": "2024-06-23T18:26:01.239Z"
   },
   {
    "duration": 326,
    "start_time": "2024-06-23T19:43:18.820Z"
   },
   {
    "duration": 1378,
    "start_time": "2024-06-23T19:43:33.034Z"
   },
   {
    "duration": 31,
    "start_time": "2024-06-23T19:43:34.415Z"
   },
   {
    "duration": 18,
    "start_time": "2024-06-23T19:43:34.450Z"
   },
   {
    "duration": 11,
    "start_time": "2024-06-23T19:43:34.472Z"
   },
   {
    "duration": 35,
    "start_time": "2024-06-23T19:43:34.488Z"
   },
   {
    "duration": 271,
    "start_time": "2024-06-23T19:43:34.526Z"
   },
   {
    "duration": 523,
    "start_time": "2024-06-23T19:44:54.668Z"
   },
   {
    "duration": 535,
    "start_time": "2024-06-23T19:45:22.252Z"
   },
   {
    "duration": 677,
    "start_time": "2024-06-23T19:46:46.323Z"
   },
   {
    "duration": 622,
    "start_time": "2024-06-23T19:48:23.041Z"
   },
   {
    "duration": 14,
    "start_time": "2024-06-23T19:50:26.230Z"
   },
   {
    "duration": 637,
    "start_time": "2024-06-23T19:51:49.279Z"
   },
   {
    "duration": 635,
    "start_time": "2024-06-23T19:52:25.050Z"
   },
   {
    "duration": 14,
    "start_time": "2024-06-23T20:09:21.234Z"
   },
   {
    "duration": 1282,
    "start_time": "2024-06-23T20:15:05.818Z"
   },
   {
    "duration": 81,
    "start_time": "2024-06-23T20:15:27.460Z"
   },
   {
    "duration": 87,
    "start_time": "2024-06-23T20:16:20.160Z"
   },
   {
    "duration": 1278,
    "start_time": "2024-06-23T20:16:28.554Z"
   },
   {
    "duration": 28,
    "start_time": "2024-06-23T20:16:29.838Z"
   },
   {
    "duration": 18,
    "start_time": "2024-06-23T20:16:29.869Z"
   },
   {
    "duration": 34,
    "start_time": "2024-06-23T20:16:29.890Z"
   },
   {
    "duration": 12,
    "start_time": "2024-06-23T20:16:29.928Z"
   },
   {
    "duration": 772,
    "start_time": "2024-06-23T20:16:29.943Z"
   },
   {
    "duration": 18,
    "start_time": "2024-06-23T20:16:30.718Z"
   },
   {
    "duration": 859,
    "start_time": "2024-06-23T20:16:30.738Z"
   },
   {
    "duration": 646,
    "start_time": "2024-06-23T20:16:55.669Z"
   },
   {
    "duration": 14,
    "start_time": "2024-06-23T20:16:58.773Z"
   },
   {
    "duration": 610,
    "start_time": "2024-06-23T20:17:12.701Z"
   },
   {
    "duration": 15,
    "start_time": "2024-06-23T20:17:14.839Z"
   },
   {
    "duration": 1297,
    "start_time": "2024-06-23T20:17:20.452Z"
   },
   {
    "duration": 30,
    "start_time": "2024-06-23T20:17:21.752Z"
   },
   {
    "duration": 40,
    "start_time": "2024-06-23T20:17:21.785Z"
   },
   {
    "duration": 11,
    "start_time": "2024-06-23T20:17:21.828Z"
   },
   {
    "duration": 12,
    "start_time": "2024-06-23T20:17:21.844Z"
   },
   {
    "duration": 652,
    "start_time": "2024-06-23T20:17:21.859Z"
   },
   {
    "duration": 15,
    "start_time": "2024-06-23T20:17:22.514Z"
   },
   {
    "duration": 736,
    "start_time": "2024-06-23T20:17:22.531Z"
   },
   {
    "duration": 929,
    "start_time": "2024-06-23T20:18:33.518Z"
   },
   {
    "duration": 162,
    "start_time": "2024-06-23T20:20:04.629Z"
   },
   {
    "duration": 153,
    "start_time": "2024-06-23T20:20:19.904Z"
   },
   {
    "duration": 236,
    "start_time": "2024-06-23T20:21:18.895Z"
   },
   {
    "duration": 984,
    "start_time": "2024-06-23T20:21:36.285Z"
   },
   {
    "duration": 128,
    "start_time": "2024-06-23T20:21:59.710Z"
   },
   {
    "duration": 131,
    "start_time": "2024-06-23T20:23:15.107Z"
   },
   {
    "duration": 1296,
    "start_time": "2024-06-23T20:23:29.130Z"
   },
   {
    "duration": 31,
    "start_time": "2024-06-23T20:23:30.429Z"
   },
   {
    "duration": 18,
    "start_time": "2024-06-23T20:23:30.463Z"
   },
   {
    "duration": 39,
    "start_time": "2024-06-23T20:23:30.484Z"
   },
   {
    "duration": 14,
    "start_time": "2024-06-23T20:23:30.528Z"
   },
   {
    "duration": 684,
    "start_time": "2024-06-23T20:23:30.546Z"
   },
   {
    "duration": 20,
    "start_time": "2024-06-23T20:23:31.233Z"
   },
   {
    "duration": 534,
    "start_time": "2024-06-23T20:23:31.257Z"
   },
   {
    "duration": 171,
    "start_time": "2024-06-23T20:24:47.554Z"
   },
   {
    "duration": 151,
    "start_time": "2024-06-23T20:24:57.487Z"
   },
   {
    "duration": 4428,
    "start_time": "2024-06-23T20:26:58.862Z"
   },
   {
    "duration": 396,
    "start_time": "2024-06-23T20:27:47.777Z"
   },
   {
    "duration": 385,
    "start_time": "2024-06-23T20:29:34.970Z"
   },
   {
    "duration": 451,
    "start_time": "2024-06-23T20:33:45.119Z"
   },
   {
    "duration": 398,
    "start_time": "2024-06-23T20:34:46.180Z"
   },
   {
    "duration": 306,
    "start_time": "2024-06-25T01:48:39.399Z"
   },
   {
    "duration": 1361,
    "start_time": "2024-06-25T01:48:53.012Z"
   },
   {
    "duration": 33,
    "start_time": "2024-06-25T01:48:54.377Z"
   },
   {
    "duration": 26,
    "start_time": "2024-06-25T01:48:54.413Z"
   },
   {
    "duration": 11,
    "start_time": "2024-06-25T01:48:54.442Z"
   },
   {
    "duration": 10,
    "start_time": "2024-06-25T01:48:54.458Z"
   },
   {
    "duration": 632,
    "start_time": "2024-06-25T01:48:54.471Z"
   },
   {
    "duration": 166,
    "start_time": "2024-06-25T01:48:55.107Z"
   },
   {
    "duration": 4216,
    "start_time": "2024-06-25T01:48:55.275Z"
   },
   {
    "duration": 483,
    "start_time": "2024-06-25T01:48:59.494Z"
   },
   {
    "duration": 11,
    "start_time": "2024-06-25T01:48:59.980Z"
   },
   {
    "duration": 425,
    "start_time": "2024-06-25T01:48:59.994Z"
   },
   {
    "duration": 23,
    "start_time": "2024-06-25T01:49:17.197Z"
   },
   {
    "duration": 15,
    "start_time": "2024-06-25T01:49:23.537Z"
   },
   {
    "duration": 27,
    "start_time": "2024-06-25T01:50:29.303Z"
   },
   {
    "duration": 36,
    "start_time": "2024-06-25T01:52:44.835Z"
   },
   {
    "duration": 18,
    "start_time": "2024-06-25T01:53:49.420Z"
   },
   {
    "duration": 925,
    "start_time": "2024-06-25T01:56:23.439Z"
   },
   {
    "duration": 194,
    "start_time": "2024-06-25T01:56:53.246Z"
   },
   {
    "duration": 207,
    "start_time": "2024-06-25T01:58:22.853Z"
   },
   {
    "duration": 1332,
    "start_time": "2024-06-25T01:58:38.811Z"
   },
   {
    "duration": 35,
    "start_time": "2024-06-25T01:58:40.147Z"
   },
   {
    "duration": 21,
    "start_time": "2024-06-25T01:58:40.186Z"
   },
   {
    "duration": 12,
    "start_time": "2024-06-25T01:58:40.232Z"
   },
   {
    "duration": 14,
    "start_time": "2024-06-25T01:58:40.250Z"
   },
   {
    "duration": 653,
    "start_time": "2024-06-25T01:58:40.267Z"
   },
   {
    "duration": 193,
    "start_time": "2024-06-25T01:58:40.922Z"
   },
   {
    "duration": 692,
    "start_time": "2024-06-25T01:58:41.120Z"
   },
   {
    "duration": 484,
    "start_time": "2024-06-25T01:58:41.815Z"
   },
   {
    "duration": 14,
    "start_time": "2024-06-25T01:58:42.302Z"
   },
   {
    "duration": 30,
    "start_time": "2024-06-25T01:58:42.318Z"
   },
   {
    "duration": 540,
    "start_time": "2024-06-25T01:58:42.352Z"
   },
   {
    "duration": 1165,
    "start_time": "2024-06-25T01:58:42.895Z"
   },
   {
    "duration": 211,
    "start_time": "2024-06-25T01:59:05.612Z"
   },
   {
    "duration": 1332,
    "start_time": "2024-06-25T01:59:21.131Z"
   },
   {
    "duration": 29,
    "start_time": "2024-06-25T01:59:22.467Z"
   },
   {
    "duration": 34,
    "start_time": "2024-06-25T01:59:22.498Z"
   },
   {
    "duration": 12,
    "start_time": "2024-06-25T01:59:22.538Z"
   },
   {
    "duration": 11,
    "start_time": "2024-06-25T01:59:22.554Z"
   },
   {
    "duration": 652,
    "start_time": "2024-06-25T01:59:22.568Z"
   },
   {
    "duration": 162,
    "start_time": "2024-06-25T01:59:23.232Z"
   },
   {
    "duration": 678,
    "start_time": "2024-06-25T01:59:23.399Z"
   },
   {
    "duration": 460,
    "start_time": "2024-06-25T01:59:24.080Z"
   },
   {
    "duration": 12,
    "start_time": "2024-06-25T01:59:24.544Z"
   },
   {
    "duration": 21,
    "start_time": "2024-06-25T01:59:24.560Z"
   },
   {
    "duration": 563,
    "start_time": "2024-06-25T01:59:24.585Z"
   },
   {
    "duration": 1192,
    "start_time": "2024-06-25T01:59:25.151Z"
   },
   {
    "duration": 220,
    "start_time": "2024-06-25T02:00:04.689Z"
   },
   {
    "duration": 1228,
    "start_time": "2024-06-25T02:00:19.175Z"
   },
   {
    "duration": 28,
    "start_time": "2024-06-25T02:00:20.406Z"
   },
   {
    "duration": 18,
    "start_time": "2024-06-25T02:00:20.438Z"
   },
   {
    "duration": 13,
    "start_time": "2024-06-25T02:00:20.461Z"
   },
   {
    "duration": 10,
    "start_time": "2024-06-25T02:00:20.477Z"
   },
   {
    "duration": 647,
    "start_time": "2024-06-25T02:00:20.491Z"
   },
   {
    "duration": 176,
    "start_time": "2024-06-25T02:00:21.140Z"
   },
   {
    "duration": 687,
    "start_time": "2024-06-25T02:00:21.318Z"
   },
   {
    "duration": 495,
    "start_time": "2024-06-25T02:00:22.008Z"
   },
   {
    "duration": 22,
    "start_time": "2024-06-25T02:00:22.508Z"
   },
   {
    "duration": 21,
    "start_time": "2024-06-25T02:00:22.534Z"
   },
   {
    "duration": 574,
    "start_time": "2024-06-25T02:00:22.558Z"
   },
   {
    "duration": 1186,
    "start_time": "2024-06-25T02:01:38.765Z"
   },
   {
    "duration": 1322,
    "start_time": "2024-06-25T02:01:50.825Z"
   },
   {
    "duration": 29,
    "start_time": "2024-06-25T02:01:52.150Z"
   },
   {
    "duration": 18,
    "start_time": "2024-06-25T02:01:52.182Z"
   },
   {
    "duration": 32,
    "start_time": "2024-06-25T02:01:52.203Z"
   },
   {
    "duration": 14,
    "start_time": "2024-06-25T02:01:52.242Z"
   },
   {
    "duration": 670,
    "start_time": "2024-06-25T02:01:52.259Z"
   },
   {
    "duration": 166,
    "start_time": "2024-06-25T02:01:52.933Z"
   },
   {
    "duration": 692,
    "start_time": "2024-06-25T02:01:53.103Z"
   },
   {
    "duration": 453,
    "start_time": "2024-06-25T02:01:53.798Z"
   },
   {
    "duration": 12,
    "start_time": "2024-06-25T02:01:54.253Z"
   },
   {
    "duration": 21,
    "start_time": "2024-06-25T02:01:54.268Z"
   },
   {
    "duration": 603,
    "start_time": "2024-06-25T02:01:54.292Z"
   },
   {
    "duration": 21,
    "start_time": "2024-06-25T02:03:29.495Z"
   },
   {
    "duration": 28,
    "start_time": "2024-06-25T02:03:40.534Z"
   },
   {
    "duration": 4,
    "start_time": "2024-06-25T02:10:03.503Z"
   },
   {
    "duration": 7,
    "start_time": "2024-06-25T02:10:25.450Z"
   },
   {
    "duration": 10,
    "start_time": "2024-06-25T02:13:04.557Z"
   },
   {
    "duration": 355,
    "start_time": "2024-06-25T02:16:21.313Z"
   },
   {
    "duration": 7,
    "start_time": "2024-06-25T02:16:25.143Z"
   },
   {
    "duration": 37,
    "start_time": "2024-06-25T02:19:52.812Z"
   },
   {
    "duration": 56,
    "start_time": "2024-06-25T02:20:21.646Z"
   },
   {
    "duration": 122,
    "start_time": "2024-06-25T02:20:39.782Z"
   },
   {
    "duration": 445,
    "start_time": "2024-06-25T02:20:52.030Z"
   },
   {
    "duration": 160,
    "start_time": "2024-06-25T02:22:41.202Z"
   },
   {
    "duration": 224,
    "start_time": "2024-06-25T02:22:57.711Z"
   },
   {
    "duration": 160,
    "start_time": "2024-06-25T02:24:17.772Z"
   },
   {
    "duration": 196,
    "start_time": "2024-06-25T02:24:39.040Z"
   },
   {
    "duration": 1267,
    "start_time": "2024-06-25T02:25:03.828Z"
   },
   {
    "duration": 36,
    "start_time": "2024-06-25T02:25:05.099Z"
   },
   {
    "duration": 18,
    "start_time": "2024-06-25T02:25:05.138Z"
   },
   {
    "duration": 11,
    "start_time": "2024-06-25T02:25:05.159Z"
   },
   {
    "duration": 11,
    "start_time": "2024-06-25T02:25:05.176Z"
   },
   {
    "duration": 664,
    "start_time": "2024-06-25T02:25:05.191Z"
   },
   {
    "duration": 177,
    "start_time": "2024-06-25T02:25:05.858Z"
   },
   {
    "duration": 702,
    "start_time": "2024-06-25T02:25:06.038Z"
   },
   {
    "duration": 452,
    "start_time": "2024-06-25T02:25:06.743Z"
   },
   {
    "duration": 583,
    "start_time": "2024-06-25T02:25:07.198Z"
   },
   {
    "duration": 29,
    "start_time": "2024-06-25T02:25:07.783Z"
   },
   {
    "duration": 8,
    "start_time": "2024-06-25T02:25:07.830Z"
   },
   {
    "duration": 169,
    "start_time": "2024-06-25T02:25:07.841Z"
   },
   {
    "duration": 309,
    "start_time": "2024-06-26T03:58:00.750Z"
   },
   {
    "duration": 1399,
    "start_time": "2024-06-26T03:58:06.971Z"
   },
   {
    "duration": 30,
    "start_time": "2024-06-26T03:58:08.374Z"
   },
   {
    "duration": 17,
    "start_time": "2024-06-26T03:58:08.409Z"
   },
   {
    "duration": 13,
    "start_time": "2024-06-26T03:58:08.430Z"
   },
   {
    "duration": 17,
    "start_time": "2024-06-26T03:58:08.446Z"
   },
   {
    "duration": 641,
    "start_time": "2024-06-26T03:58:08.467Z"
   },
   {
    "duration": 161,
    "start_time": "2024-06-26T03:58:09.111Z"
   },
   {
    "duration": 4410,
    "start_time": "2024-06-26T03:58:09.278Z"
   },
   {
    "duration": 466,
    "start_time": "2024-06-26T03:58:13.691Z"
   },
   {
    "duration": 516,
    "start_time": "2024-06-26T03:58:14.161Z"
   },
   {
    "duration": 30,
    "start_time": "2024-06-26T03:58:14.680Z"
   },
   {
    "duration": 14,
    "start_time": "2024-06-26T03:58:14.730Z"
   },
   {
    "duration": 213,
    "start_time": "2024-06-26T03:58:14.749Z"
   },
   {
    "duration": 13,
    "start_time": "2024-06-26T03:58:14.964Z"
   },
   {
    "duration": 6,
    "start_time": "2024-06-26T03:59:05.448Z"
   },
   {
    "duration": 7,
    "start_time": "2024-06-26T03:59:18.705Z"
   },
   {
    "duration": 1001,
    "start_time": "2024-06-26T04:02:31.702Z"
   },
   {
    "duration": 1398,
    "start_time": "2024-06-26T21:11:47.715Z"
   },
   {
    "duration": 29,
    "start_time": "2024-06-26T21:11:49.118Z"
   },
   {
    "duration": 18,
    "start_time": "2024-06-26T21:11:49.151Z"
   },
   {
    "duration": 12,
    "start_time": "2024-06-26T21:11:49.172Z"
   },
   {
    "duration": 43,
    "start_time": "2024-06-26T21:11:49.187Z"
   },
   {
    "duration": 660,
    "start_time": "2024-06-26T21:11:49.233Z"
   },
   {
    "duration": 169,
    "start_time": "2024-06-26T21:11:49.896Z"
   },
   {
    "duration": 4324,
    "start_time": "2024-06-26T21:11:50.069Z"
   },
   {
    "duration": 458,
    "start_time": "2024-06-26T21:11:54.396Z"
   },
   {
    "duration": 521,
    "start_time": "2024-06-26T21:11:54.860Z"
   },
   {
    "duration": 43,
    "start_time": "2024-06-26T21:11:55.384Z"
   },
   {
    "duration": 8,
    "start_time": "2024-06-26T21:11:55.430Z"
   },
   {
    "duration": 217,
    "start_time": "2024-06-26T21:11:55.441Z"
   },
   {
    "duration": 13,
    "start_time": "2024-06-26T21:11:55.661Z"
   },
   {
    "duration": 10,
    "start_time": "2024-06-26T21:11:55.677Z"
   },
   {
    "duration": 1010,
    "start_time": "2024-06-26T21:11:55.690Z"
   },
   {
    "duration": 12,
    "start_time": "2024-06-26T21:20:24.139Z"
   },
   {
    "duration": 12,
    "start_time": "2024-06-26T21:20:31.975Z"
   },
   {
    "duration": 60,
    "start_time": "2024-06-26T21:22:02.806Z"
   },
   {
    "duration": 49,
    "start_time": "2024-06-26T21:24:14.917Z"
   },
   {
    "duration": 55,
    "start_time": "2024-06-26T21:24:19.594Z"
   },
   {
    "duration": 52,
    "start_time": "2024-06-26T21:24:56.949Z"
   },
   {
    "duration": 2346,
    "start_time": "2024-06-26T21:25:58.020Z"
   },
   {
    "duration": 354,
    "start_time": "2024-06-26T21:26:10.411Z"
   },
   {
    "duration": 28,
    "start_time": "2024-06-26T21:31:25.374Z"
   },
   {
    "duration": 375,
    "start_time": "2024-06-26T21:31:55.519Z"
   },
   {
    "duration": 476,
    "start_time": "2024-06-26T21:34:42.057Z"
   },
   {
    "duration": 363,
    "start_time": "2024-06-26T21:34:53.466Z"
   },
   {
    "duration": 1322,
    "start_time": "2024-06-26T21:35:07.110Z"
   },
   {
    "duration": 29,
    "start_time": "2024-06-26T21:35:08.435Z"
   },
   {
    "duration": 19,
    "start_time": "2024-06-26T21:35:08.467Z"
   },
   {
    "duration": 35,
    "start_time": "2024-06-26T21:35:08.491Z"
   },
   {
    "duration": 11,
    "start_time": "2024-06-26T21:35:08.529Z"
   },
   {
    "duration": 670,
    "start_time": "2024-06-26T21:35:08.543Z"
   },
   {
    "duration": 158,
    "start_time": "2024-06-26T21:35:09.223Z"
   },
   {
    "duration": 706,
    "start_time": "2024-06-26T21:35:09.384Z"
   },
   {
    "duration": 473,
    "start_time": "2024-06-26T21:35:10.094Z"
   },
   {
    "duration": 585,
    "start_time": "2024-06-26T21:35:10.573Z"
   },
   {
    "duration": 37,
    "start_time": "2024-06-26T21:35:11.161Z"
   },
   {
    "duration": 29,
    "start_time": "2024-06-26T21:35:11.201Z"
   },
   {
    "duration": 172,
    "start_time": "2024-06-26T21:35:11.233Z"
   },
   {
    "duration": 19,
    "start_time": "2024-06-26T21:35:11.408Z"
   },
   {
    "duration": 8,
    "start_time": "2024-06-26T21:35:11.431Z"
   },
   {
    "duration": 11,
    "start_time": "2024-06-26T21:35:11.442Z"
   },
   {
    "duration": 10,
    "start_time": "2024-06-26T21:35:11.455Z"
   },
   {
    "duration": 2603,
    "start_time": "2024-06-26T21:35:11.469Z"
   },
   {
    "duration": 0,
    "start_time": "2024-06-26T21:35:14.075Z"
   },
   {
    "duration": 13,
    "start_time": "2024-06-26T21:37:27.416Z"
   },
   {
    "duration": 12,
    "start_time": "2024-06-26T21:38:27.857Z"
   },
   {
    "duration": 1263,
    "start_time": "2024-06-26T21:38:34.130Z"
   },
   {
    "duration": 33,
    "start_time": "2024-06-26T21:38:35.396Z"
   },
   {
    "duration": 19,
    "start_time": "2024-06-26T21:38:35.432Z"
   },
   {
    "duration": 11,
    "start_time": "2024-06-26T21:38:35.455Z"
   },
   {
    "duration": 11,
    "start_time": "2024-06-26T21:38:35.469Z"
   },
   {
    "duration": 641,
    "start_time": "2024-06-26T21:38:35.523Z"
   },
   {
    "duration": 172,
    "start_time": "2024-06-26T21:38:36.168Z"
   },
   {
    "duration": 699,
    "start_time": "2024-06-26T21:38:36.342Z"
   },
   {
    "duration": 468,
    "start_time": "2024-06-26T21:38:37.044Z"
   },
   {
    "duration": 591,
    "start_time": "2024-06-26T21:38:37.522Z"
   },
   {
    "duration": 33,
    "start_time": "2024-06-26T21:38:38.116Z"
   },
   {
    "duration": 7,
    "start_time": "2024-06-26T21:38:38.152Z"
   },
   {
    "duration": 179,
    "start_time": "2024-06-26T21:38:38.162Z"
   },
   {
    "duration": 11,
    "start_time": "2024-06-26T21:38:38.344Z"
   },
   {
    "duration": 7,
    "start_time": "2024-06-26T21:38:38.357Z"
   },
   {
    "duration": 12,
    "start_time": "2024-06-26T21:38:38.367Z"
   },
   {
    "duration": 47,
    "start_time": "2024-06-26T21:38:38.382Z"
   },
   {
    "duration": 2632,
    "start_time": "2024-06-26T21:38:38.433Z"
   },
   {
    "duration": 0,
    "start_time": "2024-06-26T21:38:41.068Z"
   },
   {
    "duration": 7,
    "start_time": "2024-06-26T21:43:18.605Z"
   },
   {
    "duration": 8,
    "start_time": "2024-06-26T21:43:28.086Z"
   },
   {
    "duration": 5,
    "start_time": "2024-06-26T21:44:50.734Z"
   },
   {
    "duration": 6,
    "start_time": "2024-06-26T21:44:59.285Z"
   },
   {
    "duration": 319,
    "start_time": "2024-07-10T03:21:07.264Z"
   },
   {
    "duration": 5356,
    "start_time": "2024-07-10T03:21:15.229Z"
   },
   {
    "duration": 28,
    "start_time": "2024-07-10T03:21:20.589Z"
   },
   {
    "duration": 18,
    "start_time": "2024-07-10T03:21:20.620Z"
   },
   {
    "duration": 11,
    "start_time": "2024-07-10T03:21:20.642Z"
   },
   {
    "duration": 11,
    "start_time": "2024-07-10T03:21:20.659Z"
   },
   {
    "duration": 731,
    "start_time": "2024-07-10T03:21:20.673Z"
   },
   {
    "duration": 371,
    "start_time": "2024-07-10T03:21:21.407Z"
   },
   {
    "duration": 0,
    "start_time": "2024-07-10T03:21:21.782Z"
   },
   {
    "duration": 0,
    "start_time": "2024-07-10T03:21:21.784Z"
   },
   {
    "duration": 0,
    "start_time": "2024-07-10T03:21:21.785Z"
   },
   {
    "duration": 0,
    "start_time": "2024-07-10T03:21:21.789Z"
   },
   {
    "duration": 0,
    "start_time": "2024-07-10T03:21:21.792Z"
   },
   {
    "duration": 0,
    "start_time": "2024-07-10T03:21:21.795Z"
   },
   {
    "duration": 0,
    "start_time": "2024-07-10T03:21:21.797Z"
   },
   {
    "duration": 0,
    "start_time": "2024-07-10T03:21:21.823Z"
   },
   {
    "duration": 0,
    "start_time": "2024-07-10T03:21:21.825Z"
   },
   {
    "duration": 0,
    "start_time": "2024-07-10T03:21:21.827Z"
   },
   {
    "duration": 601,
    "start_time": "2024-07-10T03:22:05.378Z"
   },
   {
    "duration": 628,
    "start_time": "2024-07-10T03:25:14.856Z"
   },
   {
    "duration": 1674,
    "start_time": "2024-07-10T03:25:24.345Z"
   },
   {
    "duration": 36,
    "start_time": "2024-07-10T03:25:26.024Z"
   },
   {
    "duration": 21,
    "start_time": "2024-07-10T03:25:26.068Z"
   },
   {
    "duration": 39,
    "start_time": "2024-07-10T03:25:26.093Z"
   },
   {
    "duration": 14,
    "start_time": "2024-07-10T03:25:26.137Z"
   },
   {
    "duration": 741,
    "start_time": "2024-07-10T03:25:26.154Z"
   },
   {
    "duration": 1017,
    "start_time": "2024-07-10T03:25:26.897Z"
   },
   {
    "duration": 0,
    "start_time": "2024-07-10T03:25:27.923Z"
   },
   {
    "duration": 0,
    "start_time": "2024-07-10T03:25:27.926Z"
   },
   {
    "duration": 0,
    "start_time": "2024-07-10T03:25:27.929Z"
   },
   {
    "duration": 0,
    "start_time": "2024-07-10T03:25:27.932Z"
   },
   {
    "duration": 0,
    "start_time": "2024-07-10T03:25:27.934Z"
   },
   {
    "duration": 0,
    "start_time": "2024-07-10T03:25:27.936Z"
   },
   {
    "duration": 0,
    "start_time": "2024-07-10T03:25:27.941Z"
   },
   {
    "duration": 1,
    "start_time": "2024-07-10T03:25:27.945Z"
   },
   {
    "duration": 0,
    "start_time": "2024-07-10T03:25:27.947Z"
   },
   {
    "duration": 0,
    "start_time": "2024-07-10T03:25:27.949Z"
   },
   {
    "duration": 330,
    "start_time": "2024-07-14T01:37:45.819Z"
   },
   {
    "duration": 5219,
    "start_time": "2024-07-14T01:37:57.651Z"
   },
   {
    "duration": 28,
    "start_time": "2024-07-14T01:38:02.874Z"
   },
   {
    "duration": 17,
    "start_time": "2024-07-14T01:38:02.906Z"
   },
   {
    "duration": 11,
    "start_time": "2024-07-14T01:38:02.925Z"
   },
   {
    "duration": 11,
    "start_time": "2024-07-14T01:38:02.941Z"
   },
   {
    "duration": 720,
    "start_time": "2024-07-14T01:38:02.955Z"
   },
   {
    "duration": 996,
    "start_time": "2024-07-14T01:38:03.679Z"
   },
   {
    "duration": 0,
    "start_time": "2024-07-14T01:38:04.678Z"
   },
   {
    "duration": 0,
    "start_time": "2024-07-14T01:38:04.680Z"
   },
   {
    "duration": 0,
    "start_time": "2024-07-14T01:38:04.682Z"
   },
   {
    "duration": 0,
    "start_time": "2024-07-14T01:38:04.702Z"
   },
   {
    "duration": 0,
    "start_time": "2024-07-14T01:38:04.704Z"
   },
   {
    "duration": 0,
    "start_time": "2024-07-14T01:38:04.706Z"
   },
   {
    "duration": 0,
    "start_time": "2024-07-14T01:38:04.709Z"
   },
   {
    "duration": 0,
    "start_time": "2024-07-14T01:38:04.711Z"
   },
   {
    "duration": 0,
    "start_time": "2024-07-14T01:38:04.713Z"
   },
   {
    "duration": 0,
    "start_time": "2024-07-14T01:38:04.717Z"
   },
   {
    "duration": 83,
    "start_time": "2024-07-14T01:38:16.685Z"
   },
   {
    "duration": 1511,
    "start_time": "2024-07-14T01:38:23.617Z"
   },
   {
    "duration": 28,
    "start_time": "2024-07-14T01:38:25.131Z"
   },
   {
    "duration": 17,
    "start_time": "2024-07-14T01:38:25.162Z"
   },
   {
    "duration": 15,
    "start_time": "2024-07-14T01:38:25.204Z"
   },
   {
    "duration": 15,
    "start_time": "2024-07-14T01:38:25.223Z"
   },
   {
    "duration": 644,
    "start_time": "2024-07-14T01:38:25.241Z"
   },
   {
    "duration": 1055,
    "start_time": "2024-07-14T01:38:25.888Z"
   },
   {
    "duration": 0,
    "start_time": "2024-07-14T01:38:26.947Z"
   },
   {
    "duration": 0,
    "start_time": "2024-07-14T01:38:26.948Z"
   },
   {
    "duration": 0,
    "start_time": "2024-07-14T01:38:26.950Z"
   },
   {
    "duration": 0,
    "start_time": "2024-07-14T01:38:26.952Z"
   },
   {
    "duration": 0,
    "start_time": "2024-07-14T01:38:26.953Z"
   },
   {
    "duration": 0,
    "start_time": "2024-07-14T01:38:26.955Z"
   },
   {
    "duration": 0,
    "start_time": "2024-07-14T01:38:26.957Z"
   },
   {
    "duration": 0,
    "start_time": "2024-07-14T01:38:26.959Z"
   },
   {
    "duration": 0,
    "start_time": "2024-07-14T01:38:26.962Z"
   },
   {
    "duration": 0,
    "start_time": "2024-07-14T01:38:26.964Z"
   },
   {
    "duration": 5,
    "start_time": "2024-07-14T01:45:04.341Z"
   },
   {
    "duration": 163,
    "start_time": "2024-07-14T01:54:05.698Z"
   },
   {
    "duration": 177,
    "start_time": "2024-07-14T01:54:57.604Z"
   },
   {
    "duration": 907,
    "start_time": "2024-07-14T01:56:57.998Z"
   },
   {
    "duration": 1582,
    "start_time": "2024-07-14T01:57:05.918Z"
   },
   {
    "duration": 28,
    "start_time": "2024-07-14T01:57:07.504Z"
   },
   {
    "duration": 15,
    "start_time": "2024-07-14T01:57:07.535Z"
   },
   {
    "duration": 11,
    "start_time": "2024-07-14T01:57:07.555Z"
   },
   {
    "duration": 10,
    "start_time": "2024-07-14T01:57:07.601Z"
   },
   {
    "duration": 639,
    "start_time": "2024-07-14T01:57:07.614Z"
   },
   {
    "duration": 1233,
    "start_time": "2024-07-14T01:57:08.256Z"
   },
   {
    "duration": 0,
    "start_time": "2024-07-14T01:57:09.492Z"
   },
   {
    "duration": 0,
    "start_time": "2024-07-14T01:57:09.501Z"
   },
   {
    "duration": 0,
    "start_time": "2024-07-14T01:57:09.503Z"
   },
   {
    "duration": 0,
    "start_time": "2024-07-14T01:57:09.506Z"
   },
   {
    "duration": 0,
    "start_time": "2024-07-14T01:57:09.508Z"
   },
   {
    "duration": 0,
    "start_time": "2024-07-14T01:57:09.511Z"
   },
   {
    "duration": 0,
    "start_time": "2024-07-14T01:57:09.513Z"
   },
   {
    "duration": 0,
    "start_time": "2024-07-14T01:57:09.515Z"
   },
   {
    "duration": 0,
    "start_time": "2024-07-14T01:57:09.517Z"
   },
   {
    "duration": 158,
    "start_time": "2024-07-14T01:57:32.388Z"
   },
   {
    "duration": 134,
    "start_time": "2024-07-14T01:57:46.967Z"
   },
   {
    "duration": 139,
    "start_time": "2024-07-14T01:58:33.747Z"
   },
   {
    "duration": 441,
    "start_time": "2024-07-14T02:05:32.640Z"
   },
   {
    "duration": 1070,
    "start_time": "2024-07-14T02:05:39.962Z"
   },
   {
    "duration": 1751,
    "start_time": "2024-07-14T02:05:47.414Z"
   },
   {
    "duration": 35,
    "start_time": "2024-07-14T02:05:49.169Z"
   },
   {
    "duration": 17,
    "start_time": "2024-07-14T02:05:49.207Z"
   },
   {
    "duration": 12,
    "start_time": "2024-07-14T02:05:49.227Z"
   },
   {
    "duration": 12,
    "start_time": "2024-07-14T02:05:49.244Z"
   },
   {
    "duration": 662,
    "start_time": "2024-07-14T02:05:49.258Z"
   },
   {
    "duration": 165,
    "start_time": "2024-07-14T02:05:49.923Z"
   },
   {
    "duration": 463,
    "start_time": "2024-07-14T02:05:50.091Z"
   },
   {
    "duration": 0,
    "start_time": "2024-07-14T02:05:50.558Z"
   },
   {
    "duration": 0,
    "start_time": "2024-07-14T02:05:50.559Z"
   },
   {
    "duration": 1,
    "start_time": "2024-07-14T02:05:50.561Z"
   },
   {
    "duration": 0,
    "start_time": "2024-07-14T02:05:50.564Z"
   },
   {
    "duration": 0,
    "start_time": "2024-07-14T02:05:50.566Z"
   },
   {
    "duration": 0,
    "start_time": "2024-07-14T02:05:50.569Z"
   },
   {
    "duration": 0,
    "start_time": "2024-07-14T02:05:50.571Z"
   },
   {
    "duration": 0,
    "start_time": "2024-07-14T02:05:50.573Z"
   },
   {
    "duration": 0,
    "start_time": "2024-07-14T02:05:50.602Z"
   },
   {
    "duration": 0,
    "start_time": "2024-07-14T02:05:50.605Z"
   },
   {
    "duration": 496,
    "start_time": "2024-07-14T02:06:21.121Z"
   },
   {
    "duration": 1533,
    "start_time": "2024-07-14T02:06:33.607Z"
   },
   {
    "duration": 28,
    "start_time": "2024-07-14T02:06:35.143Z"
   },
   {
    "duration": 37,
    "start_time": "2024-07-14T02:06:35.174Z"
   },
   {
    "duration": 11,
    "start_time": "2024-07-14T02:06:35.216Z"
   },
   {
    "duration": 11,
    "start_time": "2024-07-14T02:06:35.232Z"
   },
   {
    "duration": 748,
    "start_time": "2024-07-14T02:06:35.246Z"
   },
   {
    "duration": 185,
    "start_time": "2024-07-14T02:06:36.001Z"
   },
   {
    "duration": 445,
    "start_time": "2024-07-14T02:06:36.190Z"
   },
   {
    "duration": 533,
    "start_time": "2024-07-14T02:06:36.638Z"
   },
   {
    "duration": 1302,
    "start_time": "2024-07-14T02:06:37.176Z"
   },
   {
    "duration": 0,
    "start_time": "2024-07-14T02:06:38.481Z"
   },
   {
    "duration": 0,
    "start_time": "2024-07-14T02:06:38.482Z"
   },
   {
    "duration": 0,
    "start_time": "2024-07-14T02:06:38.485Z"
   },
   {
    "duration": 0,
    "start_time": "2024-07-14T02:06:38.502Z"
   },
   {
    "duration": 0,
    "start_time": "2024-07-14T02:06:38.505Z"
   },
   {
    "duration": 0,
    "start_time": "2024-07-14T02:06:38.508Z"
   },
   {
    "duration": 0,
    "start_time": "2024-07-14T02:06:38.510Z"
   },
   {
    "duration": 404,
    "start_time": "2024-07-14T02:07:29.028Z"
   },
   {
    "duration": 1700,
    "start_time": "2024-07-14T02:07:59.131Z"
   },
   {
    "duration": 30,
    "start_time": "2024-07-14T02:08:00.835Z"
   },
   {
    "duration": 17,
    "start_time": "2024-07-14T02:08:00.867Z"
   },
   {
    "duration": 29,
    "start_time": "2024-07-14T02:08:00.887Z"
   },
   {
    "duration": 12,
    "start_time": "2024-07-14T02:08:00.921Z"
   },
   {
    "duration": 696,
    "start_time": "2024-07-14T02:08:00.936Z"
   },
   {
    "duration": 193,
    "start_time": "2024-07-14T02:08:01.635Z"
   },
   {
    "duration": 433,
    "start_time": "2024-07-14T02:08:01.832Z"
   },
   {
    "duration": 560,
    "start_time": "2024-07-14T02:08:02.268Z"
   },
   {
    "duration": 395,
    "start_time": "2024-07-14T02:08:02.831Z"
   },
   {
    "duration": 1366,
    "start_time": "2024-07-14T02:08:03.233Z"
   },
   {
    "duration": 0,
    "start_time": "2024-07-14T02:08:04.602Z"
   },
   {
    "duration": 0,
    "start_time": "2024-07-14T02:08:04.605Z"
   },
   {
    "duration": 0,
    "start_time": "2024-07-14T02:08:04.607Z"
   },
   {
    "duration": 0,
    "start_time": "2024-07-14T02:08:04.609Z"
   },
   {
    "duration": 0,
    "start_time": "2024-07-14T02:08:04.610Z"
   },
   {
    "duration": 0,
    "start_time": "2024-07-14T02:08:04.611Z"
   },
   {
    "duration": 112,
    "start_time": "2024-07-14T02:08:58.125Z"
   },
   {
    "duration": 86,
    "start_time": "2024-07-14T02:09:18.451Z"
   },
   {
    "duration": 1660,
    "start_time": "2024-07-14T02:10:29.274Z"
   },
   {
    "duration": 26,
    "start_time": "2024-07-14T02:10:30.938Z"
   },
   {
    "duration": 17,
    "start_time": "2024-07-14T02:10:30.967Z"
   },
   {
    "duration": 20,
    "start_time": "2024-07-14T02:10:30.987Z"
   },
   {
    "duration": 14,
    "start_time": "2024-07-14T02:10:31.011Z"
   },
   {
    "duration": 680,
    "start_time": "2024-07-14T02:10:31.028Z"
   },
   {
    "duration": 170,
    "start_time": "2024-07-14T02:10:31.710Z"
   },
   {
    "duration": 467,
    "start_time": "2024-07-14T02:10:31.884Z"
   },
   {
    "duration": 532,
    "start_time": "2024-07-14T02:10:32.354Z"
   },
   {
    "duration": 388,
    "start_time": "2024-07-14T02:10:32.890Z"
   },
   {
    "duration": 27,
    "start_time": "2024-07-14T02:10:33.282Z"
   },
   {
    "duration": 8,
    "start_time": "2024-07-14T02:10:33.312Z"
   },
   {
    "duration": 190,
    "start_time": "2024-07-14T02:10:33.325Z"
   },
   {
    "duration": 10,
    "start_time": "2024-07-14T02:10:33.520Z"
   },
   {
    "duration": 13,
    "start_time": "2024-07-14T02:10:33.534Z"
   },
   {
    "duration": 7,
    "start_time": "2024-07-14T02:10:33.551Z"
   },
   {
    "duration": 9,
    "start_time": "2024-07-14T02:14:42.353Z"
   },
   {
    "duration": 8,
    "start_time": "2024-07-14T02:15:04.251Z"
   },
   {
    "duration": 1719,
    "start_time": "2024-07-14T02:15:17.030Z"
   },
   {
    "duration": 28,
    "start_time": "2024-07-14T02:15:18.753Z"
   },
   {
    "duration": 35,
    "start_time": "2024-07-14T02:15:18.784Z"
   },
   {
    "duration": 13,
    "start_time": "2024-07-14T02:15:18.823Z"
   },
   {
    "duration": 11,
    "start_time": "2024-07-14T02:15:18.839Z"
   },
   {
    "duration": 702,
    "start_time": "2024-07-14T02:15:18.853Z"
   },
   {
    "duration": 184,
    "start_time": "2024-07-14T02:15:19.558Z"
   },
   {
    "duration": 498,
    "start_time": "2024-07-14T02:15:19.745Z"
   },
   {
    "duration": 536,
    "start_time": "2024-07-14T02:15:20.246Z"
   },
   {
    "duration": 398,
    "start_time": "2024-07-14T02:15:20.789Z"
   },
   {
    "duration": 29,
    "start_time": "2024-07-14T02:15:21.190Z"
   },
   {
    "duration": 16,
    "start_time": "2024-07-14T02:15:21.222Z"
   },
   {
    "duration": 8,
    "start_time": "2024-07-14T02:15:21.241Z"
   },
   {
    "duration": 211,
    "start_time": "2024-07-14T02:15:21.252Z"
   },
   {
    "duration": 8,
    "start_time": "2024-07-14T02:15:21.466Z"
   },
   {
    "duration": 9,
    "start_time": "2024-07-14T02:15:21.477Z"
   },
   {
    "duration": 7,
    "start_time": "2024-07-14T02:15:21.503Z"
   },
   {
    "duration": 7,
    "start_time": "2024-07-14T02:15:56.687Z"
   },
   {
    "duration": 1658,
    "start_time": "2024-07-14T02:16:06.177Z"
   },
   {
    "duration": 27,
    "start_time": "2024-07-14T02:16:07.839Z"
   },
   {
    "duration": 15,
    "start_time": "2024-07-14T02:16:07.869Z"
   },
   {
    "duration": 17,
    "start_time": "2024-07-14T02:16:07.903Z"
   },
   {
    "duration": 17,
    "start_time": "2024-07-14T02:16:07.925Z"
   },
   {
    "duration": 712,
    "start_time": "2024-07-14T02:16:07.945Z"
   },
   {
    "duration": 178,
    "start_time": "2024-07-14T02:16:08.660Z"
   },
   {
    "duration": 489,
    "start_time": "2024-07-14T02:16:08.840Z"
   },
   {
    "duration": 563,
    "start_time": "2024-07-14T02:16:09.332Z"
   },
   {
    "duration": 390,
    "start_time": "2024-07-14T02:16:09.900Z"
   },
   {
    "duration": 14,
    "start_time": "2024-07-14T02:16:10.293Z"
   },
   {
    "duration": 23,
    "start_time": "2024-07-14T02:16:10.309Z"
   },
   {
    "duration": 9,
    "start_time": "2024-07-14T02:16:10.334Z"
   },
   {
    "duration": 226,
    "start_time": "2024-07-14T02:16:10.348Z"
   },
   {
    "duration": 7,
    "start_time": "2024-07-14T02:16:10.577Z"
   },
   {
    "duration": 16,
    "start_time": "2024-07-14T02:16:10.588Z"
   },
   {
    "duration": 8,
    "start_time": "2024-07-14T02:16:10.607Z"
   },
   {
    "duration": 8,
    "start_time": "2024-07-14T02:16:21.336Z"
   },
   {
    "duration": 20,
    "start_time": "2024-07-14T02:38:49.615Z"
   },
   {
    "duration": 423,
    "start_time": "2024-07-14T02:41:17.435Z"
   },
   {
    "duration": 26,
    "start_time": "2024-07-14T02:41:36.133Z"
   },
   {
    "duration": 25,
    "start_time": "2024-07-14T02:41:55.193Z"
   },
   {
    "duration": 35,
    "start_time": "2024-07-14T03:32:44.347Z"
   },
   {
    "duration": 2155,
    "start_time": "2024-07-14T03:33:11.527Z"
   },
   {
    "duration": 438,
    "start_time": "2024-07-14T03:35:57.227Z"
   },
   {
    "duration": 318,
    "start_time": "2024-07-14T03:36:58.214Z"
   },
   {
    "duration": 1591,
    "start_time": "2024-07-14T03:37:05.211Z"
   },
   {
    "duration": 33,
    "start_time": "2024-07-14T03:37:06.806Z"
   },
   {
    "duration": 19,
    "start_time": "2024-07-14T03:37:06.842Z"
   },
   {
    "duration": 40,
    "start_time": "2024-07-14T03:37:06.866Z"
   },
   {
    "duration": 14,
    "start_time": "2024-07-14T03:37:06.909Z"
   },
   {
    "duration": 644,
    "start_time": "2024-07-14T03:37:06.926Z"
   },
   {
    "duration": 172,
    "start_time": "2024-07-14T03:37:07.573Z"
   },
   {
    "duration": 441,
    "start_time": "2024-07-14T03:37:07.748Z"
   },
   {
    "duration": 522,
    "start_time": "2024-07-14T03:37:08.192Z"
   },
   {
    "duration": 374,
    "start_time": "2024-07-14T03:37:08.719Z"
   },
   {
    "duration": 29,
    "start_time": "2024-07-14T03:37:09.102Z"
   },
   {
    "duration": 7,
    "start_time": "2024-07-14T03:37:09.134Z"
   },
   {
    "duration": 735,
    "start_time": "2024-07-14T03:37:09.144Z"
   },
   {
    "duration": 0,
    "start_time": "2024-07-14T03:37:09.882Z"
   },
   {
    "duration": 0,
    "start_time": "2024-07-14T03:37:09.886Z"
   },
   {
    "duration": 0,
    "start_time": "2024-07-14T03:37:09.900Z"
   },
   {
    "duration": 0,
    "start_time": "2024-07-14T03:37:09.902Z"
   },
   {
    "duration": 904,
    "start_time": "2024-07-14T03:37:37.577Z"
   },
   {
    "duration": 1556,
    "start_time": "2024-07-14T03:38:01.788Z"
   },
   {
    "duration": 27,
    "start_time": "2024-07-14T03:38:03.348Z"
   },
   {
    "duration": 28,
    "start_time": "2024-07-14T03:38:03.378Z"
   },
   {
    "duration": 12,
    "start_time": "2024-07-14T03:38:03.409Z"
   },
   {
    "duration": 11,
    "start_time": "2024-07-14T03:38:03.426Z"
   },
   {
    "duration": 667,
    "start_time": "2024-07-14T03:38:03.440Z"
   },
   {
    "duration": 174,
    "start_time": "2024-07-14T03:38:04.110Z"
   },
   {
    "duration": 416,
    "start_time": "2024-07-14T03:38:04.287Z"
   },
   {
    "duration": 515,
    "start_time": "2024-07-14T03:38:04.706Z"
   },
   {
    "duration": 366,
    "start_time": "2024-07-14T03:38:05.224Z"
   },
   {
    "duration": 31,
    "start_time": "2024-07-14T03:38:05.593Z"
   },
   {
    "duration": 6,
    "start_time": "2024-07-14T03:38:05.627Z"
   },
   {
    "duration": 1314,
    "start_time": "2024-07-14T03:38:05.636Z"
   },
   {
    "duration": 0,
    "start_time": "2024-07-14T03:38:06.953Z"
   },
   {
    "duration": 0,
    "start_time": "2024-07-14T03:38:06.956Z"
   },
   {
    "duration": 0,
    "start_time": "2024-07-14T03:38:06.958Z"
   },
   {
    "duration": 124,
    "start_time": "2024-07-14T03:43:57.636Z"
   },
   {
    "duration": 1553,
    "start_time": "2024-07-14T03:44:07.175Z"
   },
   {
    "duration": 28,
    "start_time": "2024-07-14T03:44:08.732Z"
   },
   {
    "duration": 16,
    "start_time": "2024-07-14T03:44:08.763Z"
   },
   {
    "duration": 11,
    "start_time": "2024-07-14T03:44:08.804Z"
   },
   {
    "duration": 11,
    "start_time": "2024-07-14T03:44:08.818Z"
   },
   {
    "duration": 660,
    "start_time": "2024-07-14T03:44:08.832Z"
   },
   {
    "duration": 167,
    "start_time": "2024-07-14T03:44:09.496Z"
   },
   {
    "duration": 418,
    "start_time": "2024-07-14T03:44:09.666Z"
   },
   {
    "duration": 523,
    "start_time": "2024-07-14T03:44:10.087Z"
   },
   {
    "duration": 351,
    "start_time": "2024-07-14T03:44:10.617Z"
   },
   {
    "duration": 35,
    "start_time": "2024-07-14T03:44:10.973Z"
   },
   {
    "duration": 6,
    "start_time": "2024-07-14T03:44:11.014Z"
   },
   {
    "duration": 166,
    "start_time": "2024-07-14T03:44:11.023Z"
   },
   {
    "duration": 13,
    "start_time": "2024-07-14T03:44:11.193Z"
   },
   {
    "duration": 9,
    "start_time": "2024-07-14T03:44:11.211Z"
   },
   {
    "duration": 8,
    "start_time": "2024-07-14T03:44:11.223Z"
   },
   {
    "duration": 11,
    "start_time": "2024-07-14T03:46:06.406Z"
   },
   {
    "duration": 17,
    "start_time": "2024-07-14T03:46:40.528Z"
   },
   {
    "duration": 20,
    "start_time": "2024-07-14T03:46:54.484Z"
   },
   {
    "duration": 699,
    "start_time": "2024-07-14T03:59:59.403Z"
   },
   {
    "duration": 276,
    "start_time": "2024-07-14T04:00:28.901Z"
   },
   {
    "duration": 1526,
    "start_time": "2024-07-14T04:02:56.451Z"
   },
   {
    "duration": 30,
    "start_time": "2024-07-14T04:02:57.981Z"
   },
   {
    "duration": 16,
    "start_time": "2024-07-14T04:02:58.014Z"
   },
   {
    "duration": 11,
    "start_time": "2024-07-14T04:02:58.034Z"
   },
   {
    "duration": 10,
    "start_time": "2024-07-14T04:02:58.048Z"
   },
   {
    "duration": 655,
    "start_time": "2024-07-14T04:02:58.061Z"
   },
   {
    "duration": 169,
    "start_time": "2024-07-14T04:02:58.719Z"
   },
   {
    "duration": 459,
    "start_time": "2024-07-14T04:02:58.891Z"
   },
   {
    "duration": 510,
    "start_time": "2024-07-14T04:02:59.353Z"
   },
   {
    "duration": 371,
    "start_time": "2024-07-14T04:02:59.869Z"
   },
   {
    "duration": 26,
    "start_time": "2024-07-14T04:03:00.243Z"
   },
   {
    "duration": 7,
    "start_time": "2024-07-14T04:03:00.272Z"
   },
   {
    "duration": 177,
    "start_time": "2024-07-14T04:03:00.281Z"
   },
   {
    "duration": 11,
    "start_time": "2024-07-14T04:03:00.461Z"
   },
   {
    "duration": 30,
    "start_time": "2024-07-14T04:03:00.474Z"
   },
   {
    "duration": 19,
    "start_time": "2024-07-14T04:03:00.508Z"
   },
   {
    "duration": 300,
    "start_time": "2024-07-14T04:03:00.533Z"
   },
   {
    "duration": 421,
    "start_time": "2024-07-14T04:03:00.837Z"
   },
   {
    "duration": 1732,
    "start_time": "2024-07-14T05:14:36.840Z"
   },
   {
    "duration": 45,
    "start_time": "2024-07-14T05:14:38.577Z"
   },
   {
    "duration": 19,
    "start_time": "2024-07-14T05:14:38.625Z"
   },
   {
    "duration": 14,
    "start_time": "2024-07-14T05:14:38.650Z"
   },
   {
    "duration": 44,
    "start_time": "2024-07-14T05:14:38.669Z"
   },
   {
    "duration": 712,
    "start_time": "2024-07-14T05:14:38.716Z"
   },
   {
    "duration": 140,
    "start_time": "2024-07-14T05:14:55.696Z"
   },
   {
    "duration": 492,
    "start_time": "2024-07-14T05:14:58.727Z"
   },
   {
    "duration": 309,
    "start_time": "2024-07-17T16:47:18.544Z"
   },
   {
    "duration": 5301,
    "start_time": "2024-07-17T16:47:26.271Z"
   },
   {
    "duration": 28,
    "start_time": "2024-07-17T16:47:31.575Z"
   },
   {
    "duration": 15,
    "start_time": "2024-07-17T16:47:31.606Z"
   },
   {
    "duration": 12,
    "start_time": "2024-07-17T16:47:31.625Z"
   },
   {
    "duration": 13,
    "start_time": "2024-07-17T16:47:31.640Z"
   },
   {
    "duration": 681,
    "start_time": "2024-07-17T16:47:31.656Z"
   },
   {
    "duration": 369,
    "start_time": "2024-07-17T16:47:32.340Z"
   },
   {
    "duration": 389,
    "start_time": "2024-07-17T16:47:32.712Z"
   },
   {
    "duration": 163,
    "start_time": "2024-07-17T16:47:33.108Z"
   },
   {
    "duration": 403,
    "start_time": "2024-07-17T16:47:33.276Z"
   },
   {
    "duration": 494,
    "start_time": "2024-07-17T16:47:33.683Z"
   },
   {
    "duration": 423,
    "start_time": "2024-07-17T16:47:34.180Z"
   },
   {
    "duration": 31,
    "start_time": "2024-07-17T16:47:34.608Z"
   },
   {
    "duration": 7,
    "start_time": "2024-07-17T16:47:34.642Z"
   },
   {
    "duration": 186,
    "start_time": "2024-07-17T16:47:34.651Z"
   },
   {
    "duration": 11,
    "start_time": "2024-07-17T16:47:34.841Z"
   },
   {
    "duration": 8,
    "start_time": "2024-07-17T16:47:34.855Z"
   },
   {
    "duration": 53,
    "start_time": "2024-07-17T16:47:34.866Z"
   },
   {
    "duration": 309,
    "start_time": "2024-07-17T16:47:34.923Z"
   },
   {
    "duration": 371,
    "start_time": "2024-07-17T16:47:35.235Z"
   },
   {
    "duration": 480,
    "start_time": "2024-07-17T16:48:44.181Z"
   },
   {
    "duration": 241,
    "start_time": "2024-07-17T16:49:01.029Z"
   },
   {
    "duration": 8,
    "start_time": "2024-07-17T16:49:46.484Z"
   },
   {
    "duration": 257,
    "start_time": "2024-07-17T16:50:04.133Z"
   },
   {
    "duration": 7,
    "start_time": "2024-07-17T16:50:49.405Z"
   },
   {
    "duration": 217,
    "start_time": "2024-07-17T16:51:17.702Z"
   },
   {
    "duration": 256,
    "start_time": "2024-07-17T16:52:22.914Z"
   },
   {
    "duration": 204,
    "start_time": "2024-07-17T16:55:17.774Z"
   },
   {
    "duration": 31,
    "start_time": "2024-07-17T17:00:18.879Z"
   },
   {
    "duration": 1722,
    "start_time": "2024-07-17T17:00:27.370Z"
   },
   {
    "duration": 36,
    "start_time": "2024-07-17T17:00:29.096Z"
   },
   {
    "duration": 19,
    "start_time": "2024-07-17T17:00:29.137Z"
   },
   {
    "duration": 14,
    "start_time": "2024-07-17T17:00:29.160Z"
   },
   {
    "duration": 40,
    "start_time": "2024-07-17T17:00:29.179Z"
   },
   {
    "duration": 674,
    "start_time": "2024-07-17T17:00:29.222Z"
   },
   {
    "duration": 336,
    "start_time": "2024-07-17T17:00:29.900Z"
   },
   {
    "duration": 433,
    "start_time": "2024-07-17T17:00:30.240Z"
   },
   {
    "duration": 356,
    "start_time": "2024-07-17T17:00:30.677Z"
   },
   {
    "duration": 185,
    "start_time": "2024-07-17T17:00:31.037Z"
   },
   {
    "duration": 238,
    "start_time": "2024-07-17T17:00:31.225Z"
   },
   {
    "duration": 280,
    "start_time": "2024-07-17T17:00:31.467Z"
   },
   {
    "duration": 467,
    "start_time": "2024-07-17T17:00:31.751Z"
   },
   {
    "duration": 486,
    "start_time": "2024-07-17T17:00:32.225Z"
   },
   {
    "duration": 373,
    "start_time": "2024-07-17T17:00:32.714Z"
   },
   {
    "duration": 32,
    "start_time": "2024-07-17T17:00:33.090Z"
   },
   {
    "duration": 222,
    "start_time": "2024-07-17T17:00:33.125Z"
   },
   {
    "duration": 8,
    "start_time": "2024-07-17T17:00:33.350Z"
   },
   {
    "duration": 175,
    "start_time": "2024-07-17T17:00:33.361Z"
   },
   {
    "duration": 0,
    "start_time": "2024-07-17T17:00:33.539Z"
   },
   {
    "duration": 0,
    "start_time": "2024-07-17T17:00:33.542Z"
   },
   {
    "duration": 0,
    "start_time": "2024-07-17T17:00:33.544Z"
   },
   {
    "duration": 0,
    "start_time": "2024-07-17T17:00:33.546Z"
   },
   {
    "duration": 0,
    "start_time": "2024-07-17T17:00:33.548Z"
   },
   {
    "duration": 197,
    "start_time": "2024-07-17T17:01:10.564Z"
   },
   {
    "duration": 1201,
    "start_time": "2024-07-17T17:01:44.453Z"
   },
   {
    "duration": 1595,
    "start_time": "2024-07-17T17:02:46.485Z"
   },
   {
    "duration": 35,
    "start_time": "2024-07-17T17:02:48.083Z"
   },
   {
    "duration": 17,
    "start_time": "2024-07-17T17:02:48.121Z"
   },
   {
    "duration": 12,
    "start_time": "2024-07-17T17:02:48.141Z"
   },
   {
    "duration": 10,
    "start_time": "2024-07-17T17:02:48.159Z"
   },
   {
    "duration": 641,
    "start_time": "2024-07-17T17:02:48.210Z"
   },
   {
    "duration": 330,
    "start_time": "2024-07-17T17:02:48.855Z"
   },
   {
    "duration": 372,
    "start_time": "2024-07-17T17:02:49.188Z"
   },
   {
    "duration": 322,
    "start_time": "2024-07-17T17:02:49.563Z"
   },
   {
    "duration": 183,
    "start_time": "2024-07-17T17:02:49.887Z"
   },
   {
    "duration": 224,
    "start_time": "2024-07-17T17:02:50.074Z"
   },
   {
    "duration": 288,
    "start_time": "2024-07-17T17:02:50.301Z"
   },
   {
    "duration": 477,
    "start_time": "2024-07-17T17:02:50.593Z"
   },
   {
    "duration": 509,
    "start_time": "2024-07-17T17:02:51.077Z"
   },
   {
    "duration": 365,
    "start_time": "2024-07-17T17:02:51.589Z"
   },
   {
    "duration": 29,
    "start_time": "2024-07-17T17:02:51.958Z"
   },
   {
    "duration": 252,
    "start_time": "2024-07-17T17:02:51.990Z"
   },
   {
    "duration": 7,
    "start_time": "2024-07-17T17:02:52.248Z"
   },
   {
    "duration": 111,
    "start_time": "2024-07-17T17:02:52.259Z"
   },
   {
    "duration": 13,
    "start_time": "2024-07-17T17:02:52.373Z"
   },
   {
    "duration": 22,
    "start_time": "2024-07-17T17:02:52.389Z"
   },
   {
    "duration": 20,
    "start_time": "2024-07-17T17:02:52.414Z"
   },
   {
    "duration": 327,
    "start_time": "2024-07-17T17:02:52.440Z"
   },
   {
    "duration": 360,
    "start_time": "2024-07-17T17:02:52.770Z"
   },
   {
    "duration": 187,
    "start_time": "2024-07-17T17:03:40.130Z"
   },
   {
    "duration": 198,
    "start_time": "2024-07-17T17:05:42.990Z"
   },
   {
    "duration": 1578,
    "start_time": "2024-07-17T17:05:51.593Z"
   },
   {
    "duration": 34,
    "start_time": "2024-07-17T17:05:53.174Z"
   },
   {
    "duration": 15,
    "start_time": "2024-07-17T17:05:53.212Z"
   },
   {
    "duration": 12,
    "start_time": "2024-07-17T17:05:53.230Z"
   },
   {
    "duration": 12,
    "start_time": "2024-07-17T17:05:53.246Z"
   },
   {
    "duration": 673,
    "start_time": "2024-07-17T17:05:53.260Z"
   },
   {
    "duration": 331,
    "start_time": "2024-07-17T17:05:53.937Z"
   },
   {
    "duration": 403,
    "start_time": "2024-07-17T17:05:54.271Z"
   },
   {
    "duration": 320,
    "start_time": "2024-07-17T17:05:54.679Z"
   },
   {
    "duration": 176,
    "start_time": "2024-07-17T17:05:55.001Z"
   },
   {
    "duration": 229,
    "start_time": "2024-07-17T17:05:55.180Z"
   },
   {
    "duration": 312,
    "start_time": "2024-07-17T17:05:55.413Z"
   },
   {
    "duration": 450,
    "start_time": "2024-07-17T17:05:55.728Z"
   },
   {
    "duration": 466,
    "start_time": "2024-07-17T17:05:56.183Z"
   },
   {
    "duration": 373,
    "start_time": "2024-07-17T17:05:56.653Z"
   },
   {
    "duration": 28,
    "start_time": "2024-07-17T17:05:57.029Z"
   },
   {
    "duration": 235,
    "start_time": "2024-07-17T17:05:57.060Z"
   },
   {
    "duration": 16,
    "start_time": "2024-07-17T17:05:57.297Z"
   },
   {
    "duration": 115,
    "start_time": "2024-07-17T17:05:57.317Z"
   },
   {
    "duration": 11,
    "start_time": "2024-07-17T17:05:57.435Z"
   },
   {
    "duration": 8,
    "start_time": "2024-07-17T17:05:57.449Z"
   },
   {
    "duration": 50,
    "start_time": "2024-07-17T17:05:57.460Z"
   },
   {
    "duration": 203,
    "start_time": "2024-07-17T17:05:57.513Z"
   },
   {
    "duration": 440,
    "start_time": "2024-07-17T17:05:57.719Z"
   },
   {
    "duration": 0,
    "start_time": "2024-07-17T17:05:58.162Z"
   },
   {
    "duration": 1270,
    "start_time": "2024-07-17T17:07:29.818Z"
   },
   {
    "duration": 675,
    "start_time": "2024-07-17T17:07:47.303Z"
   },
   {
    "duration": 659,
    "start_time": "2024-07-17T17:08:28.951Z"
   },
   {
    "duration": 1591,
    "start_time": "2024-07-17T17:08:41.463Z"
   },
   {
    "duration": 28,
    "start_time": "2024-07-17T17:08:43.058Z"
   },
   {
    "duration": 31,
    "start_time": "2024-07-17T17:08:43.089Z"
   },
   {
    "duration": 12,
    "start_time": "2024-07-17T17:08:43.124Z"
   },
   {
    "duration": 10,
    "start_time": "2024-07-17T17:08:43.140Z"
   },
   {
    "duration": 666,
    "start_time": "2024-07-17T17:08:43.153Z"
   },
   {
    "duration": 372,
    "start_time": "2024-07-17T17:08:43.822Z"
   },
   {
    "duration": 390,
    "start_time": "2024-07-17T17:08:44.198Z"
   },
   {
    "duration": 348,
    "start_time": "2024-07-17T17:08:44.591Z"
   },
   {
    "duration": 173,
    "start_time": "2024-07-17T17:08:44.945Z"
   },
   {
    "duration": 225,
    "start_time": "2024-07-17T17:08:45.121Z"
   },
   {
    "duration": 287,
    "start_time": "2024-07-17T17:08:45.349Z"
   },
   {
    "duration": 473,
    "start_time": "2024-07-17T17:08:45.640Z"
   },
   {
    "duration": 476,
    "start_time": "2024-07-17T17:08:46.117Z"
   },
   {
    "duration": 365,
    "start_time": "2024-07-17T17:08:46.596Z"
   },
   {
    "duration": 26,
    "start_time": "2024-07-17T17:08:46.963Z"
   },
   {
    "duration": 215,
    "start_time": "2024-07-17T17:08:47.012Z"
   },
   {
    "duration": 7,
    "start_time": "2024-07-17T17:08:47.231Z"
   },
   {
    "duration": 136,
    "start_time": "2024-07-17T17:08:47.240Z"
   },
   {
    "duration": 14,
    "start_time": "2024-07-17T17:08:47.380Z"
   },
   {
    "duration": 17,
    "start_time": "2024-07-17T17:08:47.397Z"
   },
   {
    "duration": 19,
    "start_time": "2024-07-17T17:08:47.418Z"
   },
   {
    "duration": 228,
    "start_time": "2024-07-17T17:08:47.440Z"
   },
   {
    "duration": 1376,
    "start_time": "2024-07-17T17:08:47.672Z"
   },
   {
    "duration": 0,
    "start_time": "2024-07-17T17:08:49.051Z"
   },
   {
    "duration": 531,
    "start_time": "2024-07-17T17:10:22.278Z"
   },
   {
    "duration": 219,
    "start_time": "2024-07-17T17:10:32.563Z"
   },
   {
    "duration": 233,
    "start_time": "2024-07-17T17:10:50.538Z"
   },
   {
    "duration": 556,
    "start_time": "2024-07-17T17:18:32.938Z"
   },
   {
    "duration": 262,
    "start_time": "2024-07-17T17:18:52.459Z"
   },
   {
    "duration": 215,
    "start_time": "2024-07-17T17:19:14.651Z"
   },
   {
    "duration": 1544,
    "start_time": "2024-07-17T17:20:38.629Z"
   },
   {
    "duration": 32,
    "start_time": "2024-07-17T17:20:40.176Z"
   },
   {
    "duration": 17,
    "start_time": "2024-07-17T17:20:40.212Z"
   },
   {
    "duration": 12,
    "start_time": "2024-07-17T17:20:40.231Z"
   },
   {
    "duration": 10,
    "start_time": "2024-07-17T17:20:40.248Z"
   },
   {
    "duration": 655,
    "start_time": "2024-07-17T17:20:40.262Z"
   },
   {
    "duration": 332,
    "start_time": "2024-07-17T17:20:40.920Z"
   },
   {
    "duration": 382,
    "start_time": "2024-07-17T17:20:41.256Z"
   },
   {
    "duration": 333,
    "start_time": "2024-07-17T17:20:41.641Z"
   },
   {
    "duration": 170,
    "start_time": "2024-07-17T17:20:41.977Z"
   },
   {
    "duration": 238,
    "start_time": "2024-07-17T17:20:42.150Z"
   },
   {
    "duration": 299,
    "start_time": "2024-07-17T17:20:42.391Z"
   },
   {
    "duration": 468,
    "start_time": "2024-07-17T17:20:42.692Z"
   },
   {
    "duration": 488,
    "start_time": "2024-07-17T17:20:43.166Z"
   },
   {
    "duration": 405,
    "start_time": "2024-07-17T17:20:43.656Z"
   },
   {
    "duration": 27,
    "start_time": "2024-07-17T17:20:44.064Z"
   },
   {
    "duration": 223,
    "start_time": "2024-07-17T17:20:44.110Z"
   },
   {
    "duration": 7,
    "start_time": "2024-07-17T17:20:44.336Z"
   },
   {
    "duration": 108,
    "start_time": "2024-07-17T17:20:44.346Z"
   },
   {
    "duration": 11,
    "start_time": "2024-07-17T17:20:44.460Z"
   },
   {
    "duration": 35,
    "start_time": "2024-07-17T17:20:44.474Z"
   },
   {
    "duration": 24,
    "start_time": "2024-07-17T17:20:44.512Z"
   },
   {
    "duration": 247,
    "start_time": "2024-07-17T17:20:44.540Z"
   },
   {
    "duration": 434,
    "start_time": "2024-07-17T17:20:44.790Z"
   },
   {
    "duration": 0,
    "start_time": "2024-07-17T17:20:45.227Z"
   },
   {
    "duration": 1105,
    "start_time": "2024-07-17T17:21:24.748Z"
   },
   {
    "duration": 1540,
    "start_time": "2024-07-17T17:21:34.462Z"
   },
   {
    "duration": 29,
    "start_time": "2024-07-17T17:21:36.005Z"
   },
   {
    "duration": 15,
    "start_time": "2024-07-17T17:21:36.037Z"
   },
   {
    "duration": 11,
    "start_time": "2024-07-17T17:21:36.056Z"
   },
   {
    "duration": 46,
    "start_time": "2024-07-17T17:21:36.070Z"
   },
   {
    "duration": 643,
    "start_time": "2024-07-17T17:21:36.120Z"
   },
   {
    "duration": 338,
    "start_time": "2024-07-17T17:21:36.766Z"
   },
   {
    "duration": 420,
    "start_time": "2024-07-17T17:21:37.110Z"
   },
   {
    "duration": 315,
    "start_time": "2024-07-17T17:21:37.534Z"
   },
   {
    "duration": 177,
    "start_time": "2024-07-17T17:21:37.856Z"
   },
   {
    "duration": 218,
    "start_time": "2024-07-17T17:21:38.036Z"
   },
   {
    "duration": 292,
    "start_time": "2024-07-17T17:21:38.257Z"
   },
   {
    "duration": 455,
    "start_time": "2024-07-17T17:21:38.554Z"
   },
   {
    "duration": 455,
    "start_time": "2024-07-17T17:21:39.012Z"
   },
   {
    "duration": 381,
    "start_time": "2024-07-17T17:21:39.470Z"
   },
   {
    "duration": 28,
    "start_time": "2024-07-17T17:21:39.855Z"
   },
   {
    "duration": 233,
    "start_time": "2024-07-17T17:21:39.886Z"
   },
   {
    "duration": 8,
    "start_time": "2024-07-17T17:21:40.122Z"
   },
   {
    "duration": 105,
    "start_time": "2024-07-17T17:21:40.133Z"
   },
   {
    "duration": 11,
    "start_time": "2024-07-17T17:21:40.241Z"
   },
   {
    "duration": 7,
    "start_time": "2024-07-17T17:21:40.255Z"
   },
   {
    "duration": 45,
    "start_time": "2024-07-17T17:21:40.266Z"
   },
   {
    "duration": 208,
    "start_time": "2024-07-17T17:21:40.314Z"
   },
   {
    "duration": 1283,
    "start_time": "2024-07-17T17:21:40.529Z"
   },
   {
    "duration": 0,
    "start_time": "2024-07-17T17:21:41.815Z"
   },
   {
    "duration": 32,
    "start_time": "2024-07-17T17:22:12.286Z"
   },
   {
    "duration": 1101,
    "start_time": "2024-07-17T19:25:12.723Z"
   },
   {
    "duration": 1639,
    "start_time": "2024-07-17T19:25:24.100Z"
   },
   {
    "duration": 29,
    "start_time": "2024-07-17T19:25:25.743Z"
   },
   {
    "duration": 34,
    "start_time": "2024-07-17T19:25:25.775Z"
   },
   {
    "duration": 12,
    "start_time": "2024-07-17T19:25:25.813Z"
   },
   {
    "duration": 11,
    "start_time": "2024-07-17T19:25:25.828Z"
   },
   {
    "duration": 669,
    "start_time": "2024-07-17T19:25:25.843Z"
   },
   {
    "duration": 323,
    "start_time": "2024-07-17T19:25:26.515Z"
   },
   {
    "duration": 382,
    "start_time": "2024-07-17T19:25:26.841Z"
   },
   {
    "duration": 433,
    "start_time": "2024-07-17T19:25:27.227Z"
   },
   {
    "duration": 174,
    "start_time": "2024-07-17T19:25:27.667Z"
   },
   {
    "duration": 226,
    "start_time": "2024-07-17T19:25:27.844Z"
   },
   {
    "duration": 276,
    "start_time": "2024-07-17T19:25:28.073Z"
   },
   {
    "duration": 480,
    "start_time": "2024-07-17T19:25:28.351Z"
   },
   {
    "duration": 497,
    "start_time": "2024-07-17T19:25:28.834Z"
   },
   {
    "duration": 387,
    "start_time": "2024-07-17T19:25:29.335Z"
   },
   {
    "duration": 29,
    "start_time": "2024-07-17T19:25:29.726Z"
   },
   {
    "duration": 241,
    "start_time": "2024-07-17T19:25:29.758Z"
   },
   {
    "duration": 7,
    "start_time": "2024-07-17T19:25:30.008Z"
   },
   {
    "duration": 105,
    "start_time": "2024-07-17T19:25:30.018Z"
   },
   {
    "duration": 11,
    "start_time": "2024-07-17T19:25:30.127Z"
   },
   {
    "duration": 8,
    "start_time": "2024-07-17T19:25:30.141Z"
   },
   {
    "duration": 19,
    "start_time": "2024-07-17T19:25:30.152Z"
   },
   {
    "duration": 203,
    "start_time": "2024-07-17T19:25:30.210Z"
   },
   {
    "duration": 1694,
    "start_time": "2024-07-17T19:25:30.416Z"
   },
   {
    "duration": 0,
    "start_time": "2024-07-17T19:25:32.113Z"
   },
   {
    "duration": 0,
    "start_time": "2024-07-17T19:25:32.114Z"
   },
   {
    "duration": 0,
    "start_time": "2024-07-17T19:25:32.117Z"
   },
   {
    "duration": 463,
    "start_time": "2024-07-17T19:27:57.735Z"
   },
   {
    "duration": 530,
    "start_time": "2024-07-17T20:02:00.614Z"
   },
   {
    "duration": 591,
    "start_time": "2024-07-17T20:02:39.866Z"
   },
   {
    "duration": 276,
    "start_time": "2024-07-17T20:03:28.709Z"
   },
   {
    "duration": 205,
    "start_time": "2024-07-17T20:03:36.313Z"
   },
   {
    "duration": 300,
    "start_time": "2024-07-17T20:03:41.736Z"
   },
   {
    "duration": 339,
    "start_time": "2024-07-17T20:03:49.813Z"
   },
   {
    "duration": 501,
    "start_time": "2024-07-17T20:04:02.743Z"
   },
   {
    "duration": 419,
    "start_time": "2024-07-17T20:04:11.045Z"
   },
   {
    "duration": 37,
    "start_time": "2024-07-17T20:05:33.206Z"
   },
   {
    "duration": 556,
    "start_time": "2024-07-17T20:06:38.059Z"
   },
   {
    "duration": 1506,
    "start_time": "2024-07-17T20:06:49.455Z"
   },
   {
    "duration": 28,
    "start_time": "2024-07-17T20:06:50.964Z"
   },
   {
    "duration": 26,
    "start_time": "2024-07-17T20:06:50.995Z"
   },
   {
    "duration": 12,
    "start_time": "2024-07-17T20:06:51.025Z"
   },
   {
    "duration": 11,
    "start_time": "2024-07-17T20:06:51.041Z"
   },
   {
    "duration": 692,
    "start_time": "2024-07-17T20:06:51.055Z"
   },
   {
    "duration": 329,
    "start_time": "2024-07-17T20:06:51.750Z"
   },
   {
    "duration": 391,
    "start_time": "2024-07-17T20:06:52.082Z"
   },
   {
    "duration": 332,
    "start_time": "2024-07-17T20:06:52.476Z"
   },
   {
    "duration": 169,
    "start_time": "2024-07-17T20:06:52.814Z"
   },
   {
    "duration": 217,
    "start_time": "2024-07-17T20:06:52.987Z"
   },
   {
    "duration": 275,
    "start_time": "2024-07-17T20:06:53.210Z"
   },
   {
    "duration": 459,
    "start_time": "2024-07-17T20:06:53.488Z"
   },
   {
    "duration": 458,
    "start_time": "2024-07-17T20:06:53.950Z"
   },
   {
    "duration": 383,
    "start_time": "2024-07-17T20:06:54.411Z"
   },
   {
    "duration": 41,
    "start_time": "2024-07-17T20:06:54.797Z"
   },
   {
    "duration": 236,
    "start_time": "2024-07-17T20:06:54.842Z"
   },
   {
    "duration": 7,
    "start_time": "2024-07-17T20:06:55.081Z"
   },
   {
    "duration": 101,
    "start_time": "2024-07-17T20:06:55.091Z"
   },
   {
    "duration": 25,
    "start_time": "2024-07-17T20:06:55.194Z"
   },
   {
    "duration": 8,
    "start_time": "2024-07-17T20:06:55.224Z"
   },
   {
    "duration": 20,
    "start_time": "2024-07-17T20:06:55.235Z"
   },
   {
    "duration": 240,
    "start_time": "2024-07-17T20:06:55.259Z"
   },
   {
    "duration": 1686,
    "start_time": "2024-07-17T20:06:55.502Z"
   },
   {
    "duration": 0,
    "start_time": "2024-07-17T20:06:57.191Z"
   },
   {
    "duration": 0,
    "start_time": "2024-07-17T20:06:57.192Z"
   },
   {
    "duration": 0,
    "start_time": "2024-07-17T20:06:57.194Z"
   },
   {
    "duration": 44,
    "start_time": "2024-07-17T20:09:53.275Z"
   },
   {
    "duration": 1604,
    "start_time": "2024-07-17T20:11:16.305Z"
   },
   {
    "duration": 30,
    "start_time": "2024-07-17T20:11:17.912Z"
   },
   {
    "duration": 17,
    "start_time": "2024-07-17T20:11:17.946Z"
   },
   {
    "duration": 41,
    "start_time": "2024-07-17T20:11:17.967Z"
   },
   {
    "duration": 11,
    "start_time": "2024-07-17T20:11:18.011Z"
   },
   {
    "duration": 646,
    "start_time": "2024-07-17T20:11:18.025Z"
   },
   {
    "duration": 332,
    "start_time": "2024-07-17T20:11:18.674Z"
   },
   {
    "duration": 375,
    "start_time": "2024-07-17T20:11:19.009Z"
   },
   {
    "duration": 335,
    "start_time": "2024-07-17T20:11:19.387Z"
   },
   {
    "duration": 170,
    "start_time": "2024-07-17T20:11:19.730Z"
   },
   {
    "duration": 219,
    "start_time": "2024-07-17T20:11:19.906Z"
   },
   {
    "duration": 283,
    "start_time": "2024-07-17T20:11:20.128Z"
   },
   {
    "duration": 465,
    "start_time": "2024-07-17T20:11:20.414Z"
   },
   {
    "duration": 476,
    "start_time": "2024-07-17T20:11:20.882Z"
   },
   {
    "duration": 367,
    "start_time": "2024-07-17T20:11:21.363Z"
   },
   {
    "duration": 31,
    "start_time": "2024-07-17T20:11:21.734Z"
   },
   {
    "duration": 242,
    "start_time": "2024-07-17T20:11:21.769Z"
   },
   {
    "duration": 8,
    "start_time": "2024-07-17T20:11:22.014Z"
   },
   {
    "duration": 116,
    "start_time": "2024-07-17T20:11:22.026Z"
   },
   {
    "duration": 11,
    "start_time": "2024-07-17T20:11:22.145Z"
   },
   {
    "duration": 8,
    "start_time": "2024-07-17T20:11:22.159Z"
   },
   {
    "duration": 48,
    "start_time": "2024-07-17T20:11:22.170Z"
   },
   {
    "duration": 216,
    "start_time": "2024-07-17T20:11:22.221Z"
   },
   {
    "duration": 30848,
    "start_time": "2024-07-17T20:11:22.440Z"
   },
   {
    "duration": 1212,
    "start_time": "2024-07-17T20:11:53.290Z"
   },
   {
    "duration": 0,
    "start_time": "2024-07-17T20:11:54.505Z"
   },
   {
    "duration": 0,
    "start_time": "2024-07-17T20:11:54.506Z"
   },
   {
    "duration": 1524,
    "start_time": "2024-07-17T20:12:51.980Z"
   },
   {
    "duration": 29,
    "start_time": "2024-07-17T20:12:53.507Z"
   },
   {
    "duration": 16,
    "start_time": "2024-07-17T20:12:53.539Z"
   },
   {
    "duration": 10,
    "start_time": "2024-07-17T20:12:53.562Z"
   },
   {
    "duration": 42,
    "start_time": "2024-07-17T20:12:53.575Z"
   },
   {
    "duration": 634,
    "start_time": "2024-07-17T20:12:53.620Z"
   },
   {
    "duration": 358,
    "start_time": "2024-07-17T20:12:54.258Z"
   },
   {
    "duration": 387,
    "start_time": "2024-07-17T20:12:54.620Z"
   },
   {
    "duration": 319,
    "start_time": "2024-07-17T20:12:55.010Z"
   },
   {
    "duration": 177,
    "start_time": "2024-07-17T20:12:55.337Z"
   },
   {
    "duration": 227,
    "start_time": "2024-07-17T20:12:55.517Z"
   },
   {
    "duration": 284,
    "start_time": "2024-07-17T20:12:55.747Z"
   },
   {
    "duration": 461,
    "start_time": "2024-07-17T20:12:56.035Z"
   },
   {
    "duration": 461,
    "start_time": "2024-07-17T20:12:56.499Z"
   },
   {
    "duration": 357,
    "start_time": "2024-07-17T20:12:56.962Z"
   },
   {
    "duration": 30,
    "start_time": "2024-07-17T20:12:57.323Z"
   },
   {
    "duration": 250,
    "start_time": "2024-07-17T20:12:57.356Z"
   },
   {
    "duration": 7,
    "start_time": "2024-07-17T20:12:57.610Z"
   },
   {
    "duration": 109,
    "start_time": "2024-07-17T20:12:57.620Z"
   },
   {
    "duration": 11,
    "start_time": "2024-07-17T20:12:57.733Z"
   },
   {
    "duration": 8,
    "start_time": "2024-07-17T20:12:57.747Z"
   },
   {
    "duration": 57,
    "start_time": "2024-07-17T20:12:57.758Z"
   },
   {
    "duration": 216,
    "start_time": "2024-07-17T20:12:57.818Z"
   },
   {
    "duration": 31291,
    "start_time": "2024-07-17T20:12:58.037Z"
   },
   {
    "duration": 361,
    "start_time": "2024-07-17T20:13:29.331Z"
   },
   {
    "duration": 582,
    "start_time": "2024-07-17T20:14:09.690Z"
   },
   {
    "duration": 1581,
    "start_time": "2024-07-17T20:14:17.494Z"
   },
   {
    "duration": 37,
    "start_time": "2024-07-17T20:14:19.079Z"
   },
   {
    "duration": 16,
    "start_time": "2024-07-17T20:14:19.121Z"
   },
   {
    "duration": 13,
    "start_time": "2024-07-17T20:14:19.139Z"
   },
   {
    "duration": 10,
    "start_time": "2024-07-17T20:14:19.157Z"
   },
   {
    "duration": 659,
    "start_time": "2024-07-17T20:14:19.170Z"
   },
   {
    "duration": 316,
    "start_time": "2024-07-17T20:14:19.832Z"
   },
   {
    "duration": 399,
    "start_time": "2024-07-17T20:14:20.151Z"
   },
   {
    "duration": 327,
    "start_time": "2024-07-17T20:14:20.553Z"
   },
   {
    "duration": 170,
    "start_time": "2024-07-17T20:14:20.883Z"
   },
   {
    "duration": 225,
    "start_time": "2024-07-17T20:14:21.057Z"
   },
   {
    "duration": 280,
    "start_time": "2024-07-17T20:14:21.285Z"
   },
   {
    "duration": 472,
    "start_time": "2024-07-17T20:14:21.568Z"
   },
   {
    "duration": 498,
    "start_time": "2024-07-17T20:14:22.049Z"
   },
   {
    "duration": 371,
    "start_time": "2024-07-17T20:14:22.550Z"
   },
   {
    "duration": 32,
    "start_time": "2024-07-17T20:14:22.924Z"
   },
   {
    "duration": 231,
    "start_time": "2024-07-17T20:14:22.959Z"
   },
   {
    "duration": 15,
    "start_time": "2024-07-17T20:14:23.193Z"
   },
   {
    "duration": 100,
    "start_time": "2024-07-17T20:14:23.212Z"
   },
   {
    "duration": 11,
    "start_time": "2024-07-17T20:14:23.315Z"
   },
   {
    "duration": 7,
    "start_time": "2024-07-17T20:14:23.328Z"
   },
   {
    "duration": 19,
    "start_time": "2024-07-17T20:14:23.339Z"
   },
   {
    "duration": 236,
    "start_time": "2024-07-17T20:14:23.361Z"
   },
   {
    "duration": 925,
    "start_time": "2024-07-17T20:14:23.600Z"
   },
   {
    "duration": 0,
    "start_time": "2024-07-17T20:14:24.528Z"
   },
   {
    "duration": 31994,
    "start_time": "2024-07-17T20:15:09.070Z"
   },
   {
    "duration": 1584,
    "start_time": "2024-07-17T20:16:21.381Z"
   },
   {
    "duration": 1794,
    "start_time": "2024-07-18T05:09:31.872Z"
   },
   {
    "duration": 39,
    "start_time": "2024-07-18T05:09:33.670Z"
   },
   {
    "duration": 20,
    "start_time": "2024-07-18T05:09:33.712Z"
   },
   {
    "duration": 14,
    "start_time": "2024-07-18T05:09:33.738Z"
   },
   {
    "duration": 55,
    "start_time": "2024-07-18T05:09:33.756Z"
   },
   {
    "duration": 743,
    "start_time": "2024-07-18T05:09:33.815Z"
   },
   {
    "duration": 403,
    "start_time": "2024-07-18T05:09:34.562Z"
   },
   {
    "duration": 463,
    "start_time": "2024-07-18T05:09:34.969Z"
   },
   {
    "duration": 363,
    "start_time": "2024-07-18T05:09:35.435Z"
   },
   {
    "duration": 171,
    "start_time": "2024-07-18T05:09:35.811Z"
   },
   {
    "duration": 284,
    "start_time": "2024-07-18T05:09:35.986Z"
   },
   {
    "duration": 301,
    "start_time": "2024-07-18T05:09:36.274Z"
   },
   {
    "duration": 495,
    "start_time": "2024-07-18T05:09:36.578Z"
   },
   {
    "duration": 600,
    "start_time": "2024-07-18T05:09:37.077Z"
   },
   {
    "duration": 388,
    "start_time": "2024-07-18T05:09:37.681Z"
   },
   {
    "duration": 49,
    "start_time": "2024-07-18T05:09:38.073Z"
   },
   {
    "duration": 238,
    "start_time": "2024-07-18T05:09:38.126Z"
   },
   {
    "duration": 8,
    "start_time": "2024-07-18T05:09:38.368Z"
   },
   {
    "duration": 43,
    "start_time": "2024-07-18T05:09:38.382Z"
   },
   {
    "duration": 95,
    "start_time": "2024-07-18T05:09:52.695Z"
   },
   {
    "duration": 47,
    "start_time": "2024-07-18T05:10:19.703Z"
   },
   {
    "duration": 97,
    "start_time": "2024-07-18T05:10:54.840Z"
   },
   {
    "duration": 32,
    "start_time": "2024-07-18T05:10:57.112Z"
   },
   {
    "duration": 472,
    "start_time": "2024-07-18T05:13:19.712Z"
   },
   {
    "duration": 13,
    "start_time": "2024-07-18T05:13:25.561Z"
   },
   {
    "duration": 8,
    "start_time": "2024-07-18T05:13:25.739Z"
   },
   {
    "duration": 23,
    "start_time": "2024-07-18T05:13:25.900Z"
   },
   {
    "duration": 205,
    "start_time": "2024-07-18T05:13:26.016Z"
   },
   {
    "duration": 33688,
    "start_time": "2024-07-18T05:13:27.371Z"
   },
   {
    "duration": 18,
    "start_time": "2024-07-18T05:14:01.064Z"
   },
   {
    "duration": 34,
    "start_time": "2024-07-18T05:15:18.727Z"
   },
   {
    "duration": 6,
    "start_time": "2024-07-18T05:15:27.786Z"
   },
   {
    "duration": 360,
    "start_time": "2024-07-18T14:10:29.507Z"
   },
   {
    "duration": 5905,
    "start_time": "2024-07-18T14:10:38.610Z"
   },
   {
    "duration": 41,
    "start_time": "2024-07-18T14:10:44.520Z"
   },
   {
    "duration": 49,
    "start_time": "2024-07-18T14:10:44.565Z"
   },
   {
    "duration": 16,
    "start_time": "2024-07-18T14:10:44.618Z"
   },
   {
    "duration": 15,
    "start_time": "2024-07-18T14:10:44.640Z"
   },
   {
    "duration": 804,
    "start_time": "2024-07-18T14:10:44.659Z"
   },
   {
    "duration": 369,
    "start_time": "2024-07-18T14:10:45.466Z"
   },
   {
    "duration": 420,
    "start_time": "2024-07-18T14:10:45.839Z"
   },
   {
    "duration": 369,
    "start_time": "2024-07-18T14:10:46.263Z"
   },
   {
    "duration": 239,
    "start_time": "2024-07-18T14:10:46.636Z"
   },
   {
    "duration": 240,
    "start_time": "2024-07-18T14:10:46.878Z"
   },
   {
    "duration": 362,
    "start_time": "2024-07-18T14:10:47.121Z"
   },
   {
    "duration": 428,
    "start_time": "2024-07-18T14:10:47.488Z"
   },
   {
    "duration": 557,
    "start_time": "2024-07-18T14:10:47.924Z"
   },
   {
    "duration": 492,
    "start_time": "2024-07-18T14:10:48.485Z"
   },
   {
    "duration": 36,
    "start_time": "2024-07-18T14:10:48.981Z"
   },
   {
    "duration": 251,
    "start_time": "2024-07-18T14:10:49.020Z"
   },
   {
    "duration": 8,
    "start_time": "2024-07-18T14:10:49.274Z"
   },
   {
    "duration": 40,
    "start_time": "2024-07-18T14:10:49.285Z"
   },
   {
    "duration": 1048,
    "start_time": "2024-07-18T14:10:49.328Z"
   },
   {
    "duration": 0,
    "start_time": "2024-07-18T14:10:50.381Z"
   },
   {
    "duration": 0,
    "start_time": "2024-07-18T14:10:50.383Z"
   },
   {
    "duration": 0,
    "start_time": "2024-07-18T14:10:50.386Z"
   },
   {
    "duration": 0,
    "start_time": "2024-07-18T14:10:50.389Z"
   },
   {
    "duration": 0,
    "start_time": "2024-07-18T14:10:50.390Z"
   },
   {
    "duration": 1024,
    "start_time": "2024-07-18T14:16:00.859Z"
   },
   {
    "duration": 1694,
    "start_time": "2024-07-18T14:16:10.144Z"
   },
   {
    "duration": 30,
    "start_time": "2024-07-18T14:16:11.842Z"
   },
   {
    "duration": 40,
    "start_time": "2024-07-18T14:16:11.875Z"
   },
   {
    "duration": 15,
    "start_time": "2024-07-18T14:16:11.921Z"
   },
   {
    "duration": 15,
    "start_time": "2024-07-18T14:16:11.940Z"
   },
   {
    "duration": 757,
    "start_time": "2024-07-18T14:16:11.960Z"
   },
   {
    "duration": 390,
    "start_time": "2024-07-18T14:16:12.721Z"
   },
   {
    "duration": 440,
    "start_time": "2024-07-18T14:16:13.115Z"
   },
   {
    "duration": 395,
    "start_time": "2024-07-18T14:16:13.559Z"
   },
   {
    "duration": 188,
    "start_time": "2024-07-18T14:16:13.968Z"
   },
   {
    "duration": 238,
    "start_time": "2024-07-18T14:16:14.159Z"
   },
   {
    "duration": 352,
    "start_time": "2024-07-18T14:16:14.401Z"
   },
   {
    "duration": 524,
    "start_time": "2024-07-18T14:16:14.758Z"
   },
   {
    "duration": 546,
    "start_time": "2024-07-18T14:16:15.285Z"
   },
   {
    "duration": 403,
    "start_time": "2024-07-18T14:16:15.838Z"
   },
   {
    "duration": 36,
    "start_time": "2024-07-18T14:16:16.244Z"
   },
   {
    "duration": 350,
    "start_time": "2024-07-18T14:16:16.284Z"
   },
   {
    "duration": 10,
    "start_time": "2024-07-18T14:16:16.638Z"
   },
   {
    "duration": 25,
    "start_time": "2024-07-18T14:16:16.651Z"
   },
   {
    "duration": 714,
    "start_time": "2024-07-18T14:16:16.711Z"
   },
   {
    "duration": 1328,
    "start_time": "2024-07-18T14:16:17.428Z"
   },
   {
    "duration": 0,
    "start_time": "2024-07-18T14:16:18.759Z"
   },
   {
    "duration": 0,
    "start_time": "2024-07-18T14:16:18.763Z"
   },
   {
    "duration": 0,
    "start_time": "2024-07-18T14:16:18.765Z"
   },
   {
    "duration": 0,
    "start_time": "2024-07-18T14:16:18.768Z"
   },
   {
    "duration": 0,
    "start_time": "2024-07-18T14:16:18.771Z"
   },
   {
    "duration": 331,
    "start_time": "2024-07-18T20:29:29.872Z"
   },
   {
    "duration": 5921,
    "start_time": "2024-07-18T20:29:37.707Z"
   },
   {
    "duration": 31,
    "start_time": "2024-07-18T20:29:43.633Z"
   },
   {
    "duration": 35,
    "start_time": "2024-07-18T20:29:43.668Z"
   },
   {
    "duration": 13,
    "start_time": "2024-07-18T20:29:43.706Z"
   },
   {
    "duration": 11,
    "start_time": "2024-07-18T20:29:43.724Z"
   },
   {
    "duration": 707,
    "start_time": "2024-07-18T20:29:43.739Z"
   },
   {
    "duration": 338,
    "start_time": "2024-07-18T20:29:44.449Z"
   },
   {
    "duration": 396,
    "start_time": "2024-07-18T20:29:44.790Z"
   },
   {
    "duration": 364,
    "start_time": "2024-07-18T20:29:45.190Z"
   },
   {
    "duration": 297,
    "start_time": "2024-07-18T20:29:45.558Z"
   },
   {
    "duration": 409,
    "start_time": "2024-07-18T20:29:45.858Z"
   },
   {
    "duration": 328,
    "start_time": "2024-07-18T20:29:46.274Z"
   },
   {
    "duration": 421,
    "start_time": "2024-07-18T20:29:46.606Z"
   },
   {
    "duration": 517,
    "start_time": "2024-07-18T20:29:47.035Z"
   },
   {
    "duration": 425,
    "start_time": "2024-07-18T20:29:47.555Z"
   },
   {
    "duration": 37,
    "start_time": "2024-07-18T20:29:47.983Z"
   },
   {
    "duration": 244,
    "start_time": "2024-07-18T20:29:48.023Z"
   },
   {
    "duration": 8,
    "start_time": "2024-07-18T20:29:48.270Z"
   },
   {
    "duration": 18,
    "start_time": "2024-07-18T20:29:48.301Z"
   },
   {
    "duration": 1240,
    "start_time": "2024-07-18T20:29:48.322Z"
   },
   {
    "duration": 0,
    "start_time": "2024-07-18T20:29:49.565Z"
   },
   {
    "duration": 0,
    "start_time": "2024-07-18T20:29:49.568Z"
   },
   {
    "duration": 1,
    "start_time": "2024-07-18T20:29:49.570Z"
   },
   {
    "duration": 0,
    "start_time": "2024-07-18T20:29:49.573Z"
   },
   {
    "duration": 0,
    "start_time": "2024-07-18T20:29:49.576Z"
   },
   {
    "duration": 0,
    "start_time": "2024-07-18T20:29:49.603Z"
   },
   {
    "duration": 977,
    "start_time": "2024-07-18T20:30:28.850Z"
   },
   {
    "duration": 1985,
    "start_time": "2024-07-18T20:30:36.474Z"
   },
   {
    "duration": 44,
    "start_time": "2024-07-18T20:30:38.463Z"
   },
   {
    "duration": 25,
    "start_time": "2024-07-18T20:30:38.518Z"
   },
   {
    "duration": 13,
    "start_time": "2024-07-18T20:30:38.547Z"
   },
   {
    "duration": 36,
    "start_time": "2024-07-18T20:30:38.566Z"
   },
   {
    "duration": 729,
    "start_time": "2024-07-18T20:30:38.607Z"
   },
   {
    "duration": 362,
    "start_time": "2024-07-18T20:30:39.340Z"
   },
   {
    "duration": 421,
    "start_time": "2024-07-18T20:30:39.707Z"
   },
   {
    "duration": 370,
    "start_time": "2024-07-18T20:30:40.131Z"
   },
   {
    "duration": 208,
    "start_time": "2024-07-18T20:30:40.506Z"
   },
   {
    "duration": 244,
    "start_time": "2024-07-18T20:30:40.717Z"
   },
   {
    "duration": 314,
    "start_time": "2024-07-18T20:30:40.964Z"
   },
   {
    "duration": 546,
    "start_time": "2024-07-18T20:30:41.281Z"
   },
   {
    "duration": 559,
    "start_time": "2024-07-18T20:30:41.836Z"
   },
   {
    "duration": 460,
    "start_time": "2024-07-18T20:30:42.403Z"
   },
   {
    "duration": 42,
    "start_time": "2024-07-18T20:30:42.867Z"
   },
   {
    "duration": 259,
    "start_time": "2024-07-18T20:30:42.912Z"
   },
   {
    "duration": 6,
    "start_time": "2024-07-18T20:30:43.174Z"
   },
   {
    "duration": 31,
    "start_time": "2024-07-18T20:30:43.206Z"
   },
   {
    "duration": 1605,
    "start_time": "2024-07-18T20:30:43.243Z"
   },
   {
    "duration": 0,
    "start_time": "2024-07-18T20:30:44.851Z"
   },
   {
    "duration": 0,
    "start_time": "2024-07-18T20:30:44.853Z"
   },
   {
    "duration": 0,
    "start_time": "2024-07-18T20:30:44.854Z"
   },
   {
    "duration": 0,
    "start_time": "2024-07-18T20:30:44.856Z"
   },
   {
    "duration": 0,
    "start_time": "2024-07-18T20:30:44.857Z"
   },
   {
    "duration": 0,
    "start_time": "2024-07-18T20:30:44.859Z"
   },
   {
    "duration": 691,
    "start_time": "2024-07-18T20:35:51.386Z"
   },
   {
    "duration": 1715,
    "start_time": "2024-07-18T20:35:57.797Z"
   },
   {
    "duration": 30,
    "start_time": "2024-07-18T20:35:59.516Z"
   },
   {
    "duration": 20,
    "start_time": "2024-07-18T20:35:59.549Z"
   },
   {
    "duration": 15,
    "start_time": "2024-07-18T20:35:59.601Z"
   },
   {
    "duration": 12,
    "start_time": "2024-07-18T20:35:59.621Z"
   },
   {
    "duration": 700,
    "start_time": "2024-07-18T20:35:59.638Z"
   },
   {
    "duration": 333,
    "start_time": "2024-07-18T20:36:00.341Z"
   },
   {
    "duration": 415,
    "start_time": "2024-07-18T20:36:00.678Z"
   },
   {
    "duration": 341,
    "start_time": "2024-07-18T20:36:01.096Z"
   },
   {
    "duration": 170,
    "start_time": "2024-07-18T20:36:01.440Z"
   },
   {
    "duration": 239,
    "start_time": "2024-07-18T20:36:01.614Z"
   },
   {
    "duration": 291,
    "start_time": "2024-07-18T20:36:01.857Z"
   },
   {
    "duration": 477,
    "start_time": "2024-07-18T20:36:02.152Z"
   },
   {
    "duration": 531,
    "start_time": "2024-07-18T20:36:02.636Z"
   },
   {
    "duration": 372,
    "start_time": "2024-07-18T20:36:03.171Z"
   },
   {
    "duration": 29,
    "start_time": "2024-07-18T20:36:03.546Z"
   },
   {
    "duration": 247,
    "start_time": "2024-07-18T20:36:03.578Z"
   },
   {
    "duration": 8,
    "start_time": "2024-07-18T20:36:03.828Z"
   },
   {
    "duration": 18,
    "start_time": "2024-07-18T20:36:03.839Z"
   },
   {
    "duration": 592,
    "start_time": "2024-07-18T20:36:03.860Z"
   },
   {
    "duration": 1284,
    "start_time": "2024-07-18T20:36:04.456Z"
   },
   {
    "duration": 0,
    "start_time": "2024-07-18T20:36:05.743Z"
   },
   {
    "duration": 0,
    "start_time": "2024-07-18T20:36:05.745Z"
   },
   {
    "duration": 0,
    "start_time": "2024-07-18T20:36:05.748Z"
   },
   {
    "duration": 0,
    "start_time": "2024-07-18T20:36:05.750Z"
   },
   {
    "duration": 0,
    "start_time": "2024-07-18T20:36:05.753Z"
   },
   {
    "duration": 469,
    "start_time": "2024-07-18T20:37:43.182Z"
   },
   {
    "duration": 376,
    "start_time": "2024-07-18T20:45:00.007Z"
   },
   {
    "duration": 176,
    "start_time": "2024-07-18T20:45:31.159Z"
   },
   {
    "duration": 1611,
    "start_time": "2024-07-18T20:45:42.010Z"
   },
   {
    "duration": 29,
    "start_time": "2024-07-18T20:45:43.626Z"
   },
   {
    "duration": 18,
    "start_time": "2024-07-18T20:45:43.658Z"
   },
   {
    "duration": 13,
    "start_time": "2024-07-18T20:45:43.703Z"
   },
   {
    "duration": 11,
    "start_time": "2024-07-18T20:45:43.722Z"
   },
   {
    "duration": 695,
    "start_time": "2024-07-18T20:45:43.737Z"
   },
   {
    "duration": 351,
    "start_time": "2024-07-18T20:45:44.436Z"
   },
   {
    "duration": 414,
    "start_time": "2024-07-18T20:45:44.790Z"
   },
   {
    "duration": 337,
    "start_time": "2024-07-18T20:45:45.208Z"
   },
   {
    "duration": 177,
    "start_time": "2024-07-18T20:45:45.548Z"
   },
   {
    "duration": 245,
    "start_time": "2024-07-18T20:45:45.728Z"
   },
   {
    "duration": 313,
    "start_time": "2024-07-18T20:45:45.975Z"
   },
   {
    "duration": 474,
    "start_time": "2024-07-18T20:45:46.291Z"
   },
   {
    "duration": 568,
    "start_time": "2024-07-18T20:45:46.773Z"
   },
   {
    "duration": 380,
    "start_time": "2024-07-18T20:45:47.344Z"
   },
   {
    "duration": 29,
    "start_time": "2024-07-18T20:45:47.728Z"
   },
   {
    "duration": 237,
    "start_time": "2024-07-18T20:45:47.760Z"
   },
   {
    "duration": 8,
    "start_time": "2024-07-18T20:45:48.003Z"
   },
   {
    "duration": 534,
    "start_time": "2024-07-18T20:45:48.014Z"
   },
   {
    "duration": 11,
    "start_time": "2024-07-18T20:45:48.551Z"
   },
   {
    "duration": 36,
    "start_time": "2024-07-18T20:45:48.566Z"
   },
   {
    "duration": 21,
    "start_time": "2024-07-18T20:45:48.605Z"
   },
   {
    "duration": 223,
    "start_time": "2024-07-18T20:45:48.629Z"
   },
   {
    "duration": 31984,
    "start_time": "2024-07-18T20:45:48.855Z"
   },
   {
    "duration": 1307,
    "start_time": "2024-07-18T20:46:54.881Z"
   },
   {
    "duration": 1679,
    "start_time": "2024-07-18T20:47:15.480Z"
   },
   {
    "duration": 30,
    "start_time": "2024-07-18T20:47:17.162Z"
   },
   {
    "duration": 18,
    "start_time": "2024-07-18T20:47:17.203Z"
   },
   {
    "duration": 11,
    "start_time": "2024-07-18T20:47:17.224Z"
   },
   {
    "duration": 11,
    "start_time": "2024-07-18T20:47:17.240Z"
   },
   {
    "duration": 708,
    "start_time": "2024-07-18T20:47:17.255Z"
   },
   {
    "duration": 362,
    "start_time": "2024-07-18T20:47:17.966Z"
   },
   {
    "duration": 430,
    "start_time": "2024-07-18T20:47:18.332Z"
   },
   {
    "duration": 345,
    "start_time": "2024-07-18T20:47:18.765Z"
   },
   {
    "duration": 185,
    "start_time": "2024-07-18T20:47:19.114Z"
   },
   {
    "duration": 238,
    "start_time": "2024-07-18T20:47:19.303Z"
   },
   {
    "duration": 323,
    "start_time": "2024-07-18T20:47:19.545Z"
   },
   {
    "duration": 459,
    "start_time": "2024-07-18T20:47:19.871Z"
   },
   {
    "duration": 504,
    "start_time": "2024-07-18T20:47:20.337Z"
   },
   {
    "duration": 390,
    "start_time": "2024-07-18T20:47:20.846Z"
   },
   {
    "duration": 28,
    "start_time": "2024-07-18T20:47:21.240Z"
   },
   {
    "duration": 242,
    "start_time": "2024-07-18T20:47:21.271Z"
   },
   {
    "duration": 8,
    "start_time": "2024-07-18T20:47:21.516Z"
   },
   {
    "duration": 541,
    "start_time": "2024-07-18T20:47:21.527Z"
   },
   {
    "duration": 13,
    "start_time": "2024-07-18T20:47:22.071Z"
   },
   {
    "duration": 8,
    "start_time": "2024-07-18T20:47:22.104Z"
   },
   {
    "duration": 21,
    "start_time": "2024-07-18T20:47:22.116Z"
   },
   {
    "duration": 245,
    "start_time": "2024-07-18T20:47:22.140Z"
   },
   {
    "duration": 33818,
    "start_time": "2024-07-18T20:47:22.388Z"
   },
   {
    "duration": 33326,
    "start_time": "2024-07-18T20:49:28.823Z"
   },
   {
    "duration": 1714,
    "start_time": "2024-07-20T04:20:45.962Z"
   },
   {
    "duration": 37,
    "start_time": "2024-07-20T04:20:47.680Z"
   },
   {
    "duration": 18,
    "start_time": "2024-07-20T04:20:47.721Z"
   },
   {
    "duration": 11,
    "start_time": "2024-07-20T04:20:47.742Z"
   },
   {
    "duration": 10,
    "start_time": "2024-07-20T04:20:47.759Z"
   },
   {
    "duration": 654,
    "start_time": "2024-07-20T04:20:47.803Z"
   },
   {
    "duration": 341,
    "start_time": "2024-07-20T04:20:48.460Z"
   },
   {
    "duration": 386,
    "start_time": "2024-07-20T04:20:48.805Z"
   },
   {
    "duration": 320,
    "start_time": "2024-07-20T04:20:49.195Z"
   },
   {
    "duration": 174,
    "start_time": "2024-07-20T04:20:49.518Z"
   },
   {
    "duration": 216,
    "start_time": "2024-07-20T04:20:49.696Z"
   },
   {
    "duration": 279,
    "start_time": "2024-07-20T04:20:49.915Z"
   },
   {
    "duration": 467,
    "start_time": "2024-07-20T04:20:50.201Z"
   },
   {
    "duration": 529,
    "start_time": "2024-07-20T04:20:50.676Z"
   },
   {
    "duration": 383,
    "start_time": "2024-07-20T04:20:51.208Z"
   },
   {
    "duration": 28,
    "start_time": "2024-07-20T04:20:51.601Z"
   },
   {
    "duration": 310,
    "start_time": "2024-07-20T04:20:51.632Z"
   },
   {
    "duration": 7,
    "start_time": "2024-07-20T04:20:51.945Z"
   },
   {
    "duration": 698,
    "start_time": "2024-07-20T04:20:51.956Z"
   },
   {
    "duration": 12,
    "start_time": "2024-07-20T04:20:52.657Z"
   },
   {
    "duration": 9,
    "start_time": "2024-07-20T04:20:52.672Z"
   },
   {
    "duration": 29,
    "start_time": "2024-07-20T04:20:52.683Z"
   },
   {
    "duration": 221,
    "start_time": "2024-07-20T04:20:52.715Z"
   },
   {
    "duration": 31922,
    "start_time": "2024-07-20T05:08:46.338Z"
   },
   {
    "duration": 5713,
    "start_time": "2024-07-20T05:15:24.485Z"
   },
   {
    "duration": 406,
    "start_time": "2024-07-20T06:05:57.261Z"
   },
   {
    "duration": 6539,
    "start_time": "2024-07-20T06:06:02.767Z"
   },
   {
    "duration": 37,
    "start_time": "2024-07-20T06:06:09.317Z"
   },
   {
    "duration": 21,
    "start_time": "2024-07-20T06:06:09.357Z"
   },
   {
    "duration": 18,
    "start_time": "2024-07-20T06:06:09.383Z"
   },
   {
    "duration": 29,
    "start_time": "2024-07-20T06:06:09.407Z"
   },
   {
    "duration": 822,
    "start_time": "2024-07-20T06:06:09.439Z"
   },
   {
    "duration": 480,
    "start_time": "2024-07-20T06:06:10.264Z"
   },
   {
    "duration": 525,
    "start_time": "2024-07-20T06:06:10.749Z"
   },
   {
    "duration": 393,
    "start_time": "2024-07-20T06:06:11.284Z"
   },
   {
    "duration": 212,
    "start_time": "2024-07-20T06:06:11.690Z"
   },
   {
    "duration": 297,
    "start_time": "2024-07-20T06:06:11.912Z"
   },
   {
    "duration": 419,
    "start_time": "2024-07-20T06:06:12.214Z"
   },
   {
    "duration": 597,
    "start_time": "2024-07-20T06:06:12.637Z"
   },
   {
    "duration": 723,
    "start_time": "2024-07-20T06:06:13.237Z"
   },
   {
    "duration": 406,
    "start_time": "2024-07-20T06:06:13.965Z"
   },
   {
    "duration": 31,
    "start_time": "2024-07-20T06:06:14.375Z"
   },
   {
    "duration": 276,
    "start_time": "2024-07-20T06:06:14.410Z"
   },
   {
    "duration": 9,
    "start_time": "2024-07-20T06:06:14.690Z"
   },
   {
    "duration": 484,
    "start_time": "2024-07-20T06:06:14.703Z"
   },
   {
    "duration": 14,
    "start_time": "2024-07-20T06:06:15.191Z"
   },
   {
    "duration": 24,
    "start_time": "2024-07-20T06:06:15.210Z"
   },
   {
    "duration": 23,
    "start_time": "2024-07-20T06:06:15.238Z"
   },
   {
    "duration": 239,
    "start_time": "2024-07-20T06:06:15.265Z"
   },
   {
    "duration": 6574,
    "start_time": "2024-07-20T06:06:15.508Z"
   },
   {
    "duration": 314,
    "start_time": "2024-07-23T02:10:02.658Z"
   },
   {
    "duration": 5223,
    "start_time": "2024-07-23T02:10:11.676Z"
   },
   {
    "duration": 28,
    "start_time": "2024-07-23T02:10:16.902Z"
   },
   {
    "duration": 17,
    "start_time": "2024-07-23T02:10:16.933Z"
   },
   {
    "duration": 11,
    "start_time": "2024-07-23T02:10:16.953Z"
   },
   {
    "duration": 11,
    "start_time": "2024-07-23T02:10:16.969Z"
   },
   {
    "duration": 613,
    "start_time": "2024-07-23T02:10:17.022Z"
   },
   {
    "duration": 322,
    "start_time": "2024-07-23T02:10:17.638Z"
   },
   {
    "duration": 427,
    "start_time": "2024-07-23T02:10:17.963Z"
   },
   {
    "duration": 321,
    "start_time": "2024-07-23T02:10:18.394Z"
   },
   {
    "duration": 163,
    "start_time": "2024-07-23T02:10:18.722Z"
   },
   {
    "duration": 224,
    "start_time": "2024-07-23T02:10:18.888Z"
   },
   {
    "duration": 274,
    "start_time": "2024-07-23T02:10:19.116Z"
   },
   {
    "duration": 427,
    "start_time": "2024-07-23T02:10:19.392Z"
   },
   {
    "duration": 525,
    "start_time": "2024-07-23T02:10:19.825Z"
   },
   {
    "duration": 359,
    "start_time": "2024-07-23T02:10:20.354Z"
   },
   {
    "duration": 29,
    "start_time": "2024-07-23T02:10:20.723Z"
   },
   {
    "duration": 231,
    "start_time": "2024-07-23T02:10:20.755Z"
   },
   {
    "duration": 8,
    "start_time": "2024-07-23T02:10:20.990Z"
   },
   {
    "duration": 441,
    "start_time": "2024-07-23T02:10:21.001Z"
   },
   {
    "duration": 10,
    "start_time": "2024-07-23T02:10:21.446Z"
   },
   {
    "duration": 7,
    "start_time": "2024-07-23T02:10:21.460Z"
   },
   {
    "duration": 58,
    "start_time": "2024-07-23T02:10:21.471Z"
   },
   {
    "duration": 206,
    "start_time": "2024-07-23T02:10:21.533Z"
   },
   {
    "duration": 5417,
    "start_time": "2024-07-23T02:10:21.742Z"
   },
   {
    "duration": 39,
    "start_time": "2024-07-23T02:10:27.162Z"
   },
   {
    "duration": 80,
    "start_time": "2024-07-23T02:12:01.514Z"
   },
   {
    "duration": 149,
    "start_time": "2024-07-23T02:13:54.979Z"
   },
   {
    "duration": 246,
    "start_time": "2024-07-23T02:14:11.007Z"
   },
   {
    "duration": 1335,
    "start_time": "2024-07-23T02:16:12.697Z"
   },
   {
    "duration": 1501,
    "start_time": "2024-07-23T02:16:31.291Z"
   },
   {
    "duration": 34,
    "start_time": "2024-07-23T02:16:32.796Z"
   },
   {
    "duration": 16,
    "start_time": "2024-07-23T02:16:32.834Z"
   },
   {
    "duration": 11,
    "start_time": "2024-07-23T02:16:32.855Z"
   },
   {
    "duration": 10,
    "start_time": "2024-07-23T02:16:32.869Z"
   },
   {
    "duration": 655,
    "start_time": "2024-07-23T02:16:32.882Z"
   },
   {
    "duration": 336,
    "start_time": "2024-07-23T02:16:33.540Z"
   },
   {
    "duration": 377,
    "start_time": "2024-07-23T02:16:33.879Z"
   },
   {
    "duration": 321,
    "start_time": "2024-07-23T02:16:34.260Z"
   },
   {
    "duration": 163,
    "start_time": "2024-07-23T02:16:34.587Z"
   },
   {
    "duration": 234,
    "start_time": "2024-07-23T02:16:34.753Z"
   },
   {
    "duration": 279,
    "start_time": "2024-07-23T02:16:34.989Z"
   },
   {
    "duration": 454,
    "start_time": "2024-07-23T02:16:35.272Z"
   },
   {
    "duration": 456,
    "start_time": "2024-07-23T02:16:35.729Z"
   },
   {
    "duration": 363,
    "start_time": "2024-07-23T02:16:36.189Z"
   },
   {
    "duration": 26,
    "start_time": "2024-07-23T02:16:36.556Z"
   },
   {
    "duration": 224,
    "start_time": "2024-07-23T02:16:36.585Z"
   },
   {
    "duration": 16,
    "start_time": "2024-07-23T02:16:36.811Z"
   },
   {
    "duration": 498,
    "start_time": "2024-07-23T02:16:36.831Z"
   },
   {
    "duration": 14,
    "start_time": "2024-07-23T02:16:37.332Z"
   },
   {
    "duration": 8,
    "start_time": "2024-07-23T02:16:37.349Z"
   },
   {
    "duration": 63,
    "start_time": "2024-07-23T02:16:37.360Z"
   },
   {
    "duration": 204,
    "start_time": "2024-07-23T02:16:37.426Z"
   },
   {
    "duration": 5468,
    "start_time": "2024-07-23T02:16:37.635Z"
   },
   {
    "duration": 1413,
    "start_time": "2024-07-23T02:16:43.106Z"
   },
   {
    "duration": 183,
    "start_time": "2024-07-23T02:17:19.307Z"
   },
   {
    "duration": 191,
    "start_time": "2024-07-23T02:22:00.257Z"
   },
   {
    "duration": 195,
    "start_time": "2024-07-23T02:22:15.798Z"
   },
   {
    "duration": 197,
    "start_time": "2024-07-23T02:22:23.027Z"
   },
   {
    "duration": 231,
    "start_time": "2024-07-23T02:22:31.144Z"
   },
   {
    "duration": 318,
    "start_time": "2024-07-23T02:22:49.227Z"
   },
   {
    "duration": 21,
    "start_time": "2024-07-23T02:23:00.018Z"
   },
   {
    "duration": 15,
    "start_time": "2024-07-23T02:23:10.129Z"
   },
   {
    "duration": 9,
    "start_time": "2024-07-23T02:47:57.750Z"
   },
   {
    "duration": 90,
    "start_time": "2024-07-23T02:48:03.008Z"
   },
   {
    "duration": 8,
    "start_time": "2024-07-23T02:48:13.853Z"
   },
   {
    "duration": 8,
    "start_time": "2024-07-23T02:48:21.452Z"
   },
   {
    "duration": 7,
    "start_time": "2024-07-23T02:48:27.548Z"
   },
   {
    "duration": 74,
    "start_time": "2024-07-23T02:49:02.736Z"
   },
   {
    "duration": 8,
    "start_time": "2024-07-23T02:49:16.940Z"
   },
   {
    "duration": 9,
    "start_time": "2024-07-23T02:49:20.729Z"
   },
   {
    "duration": 16,
    "start_time": "2024-07-23T02:49:35.840Z"
   },
   {
    "duration": 283,
    "start_time": "2024-07-23T02:51:00.595Z"
   },
   {
    "duration": 1575,
    "start_time": "2024-07-23T02:51:10.298Z"
   },
   {
    "duration": 28,
    "start_time": "2024-07-23T02:51:11.877Z"
   },
   {
    "duration": 28,
    "start_time": "2024-07-23T02:51:11.908Z"
   },
   {
    "duration": 11,
    "start_time": "2024-07-23T02:51:11.940Z"
   },
   {
    "duration": 10,
    "start_time": "2024-07-23T02:51:11.954Z"
   },
   {
    "duration": 645,
    "start_time": "2024-07-23T02:51:11.968Z"
   },
   {
    "duration": 319,
    "start_time": "2024-07-23T02:51:12.622Z"
   },
   {
    "duration": 376,
    "start_time": "2024-07-23T02:51:12.943Z"
   },
   {
    "duration": 318,
    "start_time": "2024-07-23T02:51:13.321Z"
   },
   {
    "duration": 171,
    "start_time": "2024-07-23T02:51:13.645Z"
   },
   {
    "duration": 219,
    "start_time": "2024-07-23T02:51:13.824Z"
   },
   {
    "duration": 278,
    "start_time": "2024-07-23T02:51:14.047Z"
   },
   {
    "duration": 454,
    "start_time": "2024-07-23T02:51:14.329Z"
   },
   {
    "duration": 503,
    "start_time": "2024-07-23T02:51:14.786Z"
   },
   {
    "duration": 373,
    "start_time": "2024-07-23T02:51:15.292Z"
   },
   {
    "duration": 29,
    "start_time": "2024-07-23T02:51:15.669Z"
   },
   {
    "duration": 264,
    "start_time": "2024-07-23T02:51:15.701Z"
   },
   {
    "duration": 8,
    "start_time": "2024-07-23T02:51:15.968Z"
   },
   {
    "duration": 522,
    "start_time": "2024-07-23T02:51:15.979Z"
   },
   {
    "duration": 19,
    "start_time": "2024-07-23T02:51:16.505Z"
   },
   {
    "duration": 9,
    "start_time": "2024-07-23T02:51:16.528Z"
   },
   {
    "duration": 24,
    "start_time": "2024-07-23T02:51:16.541Z"
   },
   {
    "duration": 298,
    "start_time": "2024-07-23T02:51:16.569Z"
   },
   {
    "duration": 5677,
    "start_time": "2024-07-23T02:51:16.870Z"
   },
   {
    "duration": 1503,
    "start_time": "2024-07-23T02:51:22.550Z"
   },
   {
    "duration": 1,
    "start_time": "2024-07-23T02:51:24.056Z"
   },
   {
    "duration": 0,
    "start_time": "2024-07-23T02:51:24.059Z"
   },
   {
    "duration": 31842,
    "start_time": "2024-07-23T02:53:22.167Z"
   },
   {
    "duration": 32034,
    "start_time": "2024-07-23T02:54:39.842Z"
   },
   {
    "duration": 1575,
    "start_time": "2024-07-23T02:56:56.011Z"
   },
   {
    "duration": 28,
    "start_time": "2024-07-23T02:56:57.589Z"
   },
   {
    "duration": 15,
    "start_time": "2024-07-23T02:56:57.622Z"
   },
   {
    "duration": 11,
    "start_time": "2024-07-23T02:56:57.641Z"
   },
   {
    "duration": 12,
    "start_time": "2024-07-23T02:56:57.655Z"
   },
   {
    "duration": 653,
    "start_time": "2024-07-23T02:56:57.670Z"
   },
   {
    "duration": 327,
    "start_time": "2024-07-23T02:56:58.326Z"
   },
   {
    "duration": 375,
    "start_time": "2024-07-23T02:56:58.657Z"
   },
   {
    "duration": 311,
    "start_time": "2024-07-23T02:56:59.036Z"
   },
   {
    "duration": 170,
    "start_time": "2024-07-23T02:56:59.353Z"
   },
   {
    "duration": 234,
    "start_time": "2024-07-23T02:56:59.526Z"
   },
   {
    "duration": 298,
    "start_time": "2024-07-23T02:56:59.763Z"
   },
   {
    "duration": 460,
    "start_time": "2024-07-23T02:57:00.065Z"
   },
   {
    "duration": 469,
    "start_time": "2024-07-23T02:57:00.531Z"
   },
   {
    "duration": 374,
    "start_time": "2024-07-23T02:57:01.004Z"
   },
   {
    "duration": 28,
    "start_time": "2024-07-23T02:57:01.380Z"
   },
   {
    "duration": 227,
    "start_time": "2024-07-23T02:57:01.424Z"
   },
   {
    "duration": 9,
    "start_time": "2024-07-23T02:57:01.656Z"
   },
   {
    "duration": 502,
    "start_time": "2024-07-23T02:57:01.667Z"
   },
   {
    "duration": 10,
    "start_time": "2024-07-23T02:57:02.173Z"
   },
   {
    "duration": 9,
    "start_time": "2024-07-23T02:57:02.186Z"
   },
   {
    "duration": 19,
    "start_time": "2024-07-23T02:57:02.224Z"
   },
   {
    "duration": 217,
    "start_time": "2024-07-23T02:57:02.246Z"
   },
   {
    "duration": 5390,
    "start_time": "2024-07-23T02:57:02.466Z"
   },
   {
    "duration": 31949,
    "start_time": "2024-07-23T02:57:07.860Z"
   },
   {
    "duration": 0,
    "start_time": "2024-07-23T02:57:39.814Z"
   },
   {
    "duration": 0,
    "start_time": "2024-07-23T02:57:39.823Z"
   },
   {
    "duration": 32758,
    "start_time": "2024-07-23T02:58:28.266Z"
   },
   {
    "duration": 1543,
    "start_time": "2024-07-23T02:59:11.002Z"
   },
   {
    "duration": 30,
    "start_time": "2024-07-23T02:59:12.549Z"
   },
   {
    "duration": 17,
    "start_time": "2024-07-23T02:59:12.582Z"
   },
   {
    "duration": 11,
    "start_time": "2024-07-23T02:59:12.625Z"
   },
   {
    "duration": 11,
    "start_time": "2024-07-23T02:59:12.639Z"
   },
   {
    "duration": 644,
    "start_time": "2024-07-23T02:59:12.654Z"
   },
   {
    "duration": 361,
    "start_time": "2024-07-23T02:59:13.301Z"
   },
   {
    "duration": 398,
    "start_time": "2024-07-23T02:59:13.665Z"
   },
   {
    "duration": 320,
    "start_time": "2024-07-23T02:59:14.066Z"
   },
   {
    "duration": 175,
    "start_time": "2024-07-23T02:59:14.392Z"
   },
   {
    "duration": 243,
    "start_time": "2024-07-23T02:59:14.570Z"
   },
   {
    "duration": 280,
    "start_time": "2024-07-23T02:59:14.822Z"
   },
   {
    "duration": 495,
    "start_time": "2024-07-23T02:59:15.105Z"
   },
   {
    "duration": 461,
    "start_time": "2024-07-23T02:59:15.605Z"
   },
   {
    "duration": 356,
    "start_time": "2024-07-23T02:59:16.069Z"
   },
   {
    "duration": 26,
    "start_time": "2024-07-23T02:59:16.430Z"
   },
   {
    "duration": 248,
    "start_time": "2024-07-23T02:59:16.460Z"
   },
   {
    "duration": 15,
    "start_time": "2024-07-23T02:59:16.712Z"
   },
   {
    "duration": 493,
    "start_time": "2024-07-23T02:59:16.730Z"
   },
   {
    "duration": 12,
    "start_time": "2024-07-23T02:59:17.227Z"
   },
   {
    "duration": 8,
    "start_time": "2024-07-23T02:59:17.242Z"
   },
   {
    "duration": 20,
    "start_time": "2024-07-23T02:59:17.253Z"
   },
   {
    "duration": 249,
    "start_time": "2024-07-23T02:59:17.276Z"
   },
   {
    "duration": 5490,
    "start_time": "2024-07-23T02:59:17.528Z"
   },
   {
    "duration": 32445,
    "start_time": "2024-07-23T02:59:23.024Z"
   },
   {
    "duration": 155,
    "start_time": "2024-07-23T03:01:44.861Z"
   },
   {
    "duration": 195,
    "start_time": "2024-07-23T03:04:53.171Z"
   },
   {
    "duration": 265,
    "start_time": "2024-07-23T03:05:01.586Z"
   },
   {
    "duration": 293,
    "start_time": "2024-07-23T03:05:19.321Z"
   },
   {
    "duration": 385,
    "start_time": "2024-07-23T03:05:34.757Z"
   },
   {
    "duration": 465,
    "start_time": "2024-07-23T03:07:20.816Z"
   },
   {
    "duration": 436,
    "start_time": "2024-07-23T03:08:31.373Z"
   },
   {
    "duration": 1601,
    "start_time": "2024-07-23T03:08:40.125Z"
   },
   {
    "duration": 32,
    "start_time": "2024-07-23T03:08:41.731Z"
   },
   {
    "duration": 19,
    "start_time": "2024-07-23T03:08:41.766Z"
   },
   {
    "duration": 37,
    "start_time": "2024-07-23T03:08:41.790Z"
   },
   {
    "duration": 12,
    "start_time": "2024-07-23T03:08:41.830Z"
   },
   {
    "duration": 658,
    "start_time": "2024-07-23T03:08:41.848Z"
   },
   {
    "duration": 341,
    "start_time": "2024-07-23T03:08:42.509Z"
   },
   {
    "duration": 391,
    "start_time": "2024-07-23T03:08:42.853Z"
   },
   {
    "duration": 338,
    "start_time": "2024-07-23T03:08:43.247Z"
   },
   {
    "duration": 172,
    "start_time": "2024-07-23T03:08:43.591Z"
   },
   {
    "duration": 230,
    "start_time": "2024-07-23T03:08:43.766Z"
   },
   {
    "duration": 308,
    "start_time": "2024-07-23T03:08:43.999Z"
   },
   {
    "duration": 457,
    "start_time": "2024-07-23T03:08:44.310Z"
   },
   {
    "duration": 464,
    "start_time": "2024-07-23T03:08:44.771Z"
   },
   {
    "duration": 393,
    "start_time": "2024-07-23T03:08:45.238Z"
   },
   {
    "duration": 30,
    "start_time": "2024-07-23T03:08:45.636Z"
   },
   {
    "duration": 239,
    "start_time": "2024-07-23T03:08:45.669Z"
   },
   {
    "duration": 16,
    "start_time": "2024-07-23T03:08:45.911Z"
   },
   {
    "duration": 519,
    "start_time": "2024-07-23T03:08:45.931Z"
   },
   {
    "duration": 12,
    "start_time": "2024-07-23T03:08:46.453Z"
   },
   {
    "duration": 7,
    "start_time": "2024-07-23T03:08:46.468Z"
   },
   {
    "duration": 54,
    "start_time": "2024-07-23T03:08:46.479Z"
   },
   {
    "duration": 240,
    "start_time": "2024-07-23T03:08:46.535Z"
   },
   {
    "duration": 5681,
    "start_time": "2024-07-23T03:08:46.778Z"
   },
   {
    "duration": 343,
    "start_time": "2024-07-23T03:08:52.463Z"
   },
   {
    "duration": 1586,
    "start_time": "2024-07-23T03:09:20.336Z"
   },
   {
    "duration": 2016,
    "start_time": "2024-07-23T03:09:26.919Z"
   },
   {
    "duration": 34,
    "start_time": "2024-07-23T03:09:28.938Z"
   },
   {
    "duration": 20,
    "start_time": "2024-07-23T03:09:28.975Z"
   },
   {
    "duration": 13,
    "start_time": "2024-07-23T03:09:29.023Z"
   },
   {
    "duration": 14,
    "start_time": "2024-07-23T03:09:29.040Z"
   },
   {
    "duration": 792,
    "start_time": "2024-07-23T03:09:29.058Z"
   },
   {
    "duration": 401,
    "start_time": "2024-07-23T03:09:29.857Z"
   },
   {
    "duration": 500,
    "start_time": "2024-07-23T03:09:30.262Z"
   },
   {
    "duration": 431,
    "start_time": "2024-07-23T03:09:30.765Z"
   },
   {
    "duration": 182,
    "start_time": "2024-07-23T03:09:31.205Z"
   },
   {
    "duration": 262,
    "start_time": "2024-07-23T03:09:31.391Z"
   },
   {
    "duration": 356,
    "start_time": "2024-07-23T03:09:31.657Z"
   },
   {
    "duration": 498,
    "start_time": "2024-07-23T03:09:32.016Z"
   },
   {
    "duration": 605,
    "start_time": "2024-07-23T03:09:32.517Z"
   },
   {
    "duration": 492,
    "start_time": "2024-07-23T03:09:33.125Z"
   },
   {
    "duration": 41,
    "start_time": "2024-07-23T03:09:33.624Z"
   },
   {
    "duration": 274,
    "start_time": "2024-07-23T03:09:33.668Z"
   },
   {
    "duration": 7,
    "start_time": "2024-07-23T03:09:33.946Z"
   },
   {
    "duration": 572,
    "start_time": "2024-07-23T03:09:33.957Z"
   },
   {
    "duration": 16,
    "start_time": "2024-07-23T03:09:34.532Z"
   },
   {
    "duration": 8,
    "start_time": "2024-07-23T03:09:34.553Z"
   },
   {
    "duration": 63,
    "start_time": "2024-07-23T03:09:34.565Z"
   },
   {
    "duration": 247,
    "start_time": "2024-07-23T03:09:34.632Z"
   },
   {
    "duration": 5677,
    "start_time": "2024-07-23T03:09:34.882Z"
   },
   {
    "duration": 416,
    "start_time": "2024-07-23T03:09:40.561Z"
   },
   {
    "duration": 1515,
    "start_time": "2024-07-23T03:10:17.924Z"
   },
   {
    "duration": 1861,
    "start_time": "2024-07-23T03:10:26.088Z"
   },
   {
    "duration": 36,
    "start_time": "2024-07-23T03:10:27.954Z"
   },
   {
    "duration": 36,
    "start_time": "2024-07-23T03:10:27.993Z"
   },
   {
    "duration": 17,
    "start_time": "2024-07-23T03:10:28.034Z"
   },
   {
    "duration": 13,
    "start_time": "2024-07-23T03:10:28.055Z"
   },
   {
    "duration": 828,
    "start_time": "2024-07-23T03:10:28.072Z"
   },
   {
    "duration": 330,
    "start_time": "2024-07-23T03:10:28.903Z"
   },
   {
    "duration": 428,
    "start_time": "2024-07-23T03:10:29.236Z"
   },
   {
    "duration": 515,
    "start_time": "2024-07-23T03:10:29.673Z"
   },
   {
    "duration": 216,
    "start_time": "2024-07-23T03:10:30.196Z"
   },
   {
    "duration": 248,
    "start_time": "2024-07-23T03:10:30.415Z"
   },
   {
    "duration": 295,
    "start_time": "2024-07-23T03:10:30.667Z"
   },
   {
    "duration": 477,
    "start_time": "2024-07-23T03:10:30.966Z"
   },
   {
    "duration": 487,
    "start_time": "2024-07-23T03:10:31.448Z"
   },
   {
    "duration": 363,
    "start_time": "2024-07-23T03:10:31.938Z"
   },
   {
    "duration": 39,
    "start_time": "2024-07-23T03:10:32.304Z"
   },
   {
    "duration": 231,
    "start_time": "2024-07-23T03:10:32.346Z"
   },
   {
    "duration": 9,
    "start_time": "2024-07-23T03:10:32.580Z"
   },
   {
    "duration": 510,
    "start_time": "2024-07-23T03:10:32.593Z"
   },
   {
    "duration": 20,
    "start_time": "2024-07-23T03:10:33.106Z"
   },
   {
    "duration": 9,
    "start_time": "2024-07-23T03:10:33.129Z"
   },
   {
    "duration": 21,
    "start_time": "2024-07-23T03:10:33.141Z"
   },
   {
    "duration": 237,
    "start_time": "2024-07-23T03:10:33.165Z"
   },
   {
    "duration": 5753,
    "start_time": "2024-07-23T03:10:33.405Z"
   },
   {
    "duration": 446,
    "start_time": "2024-07-23T03:10:39.162Z"
   },
   {
    "duration": 1611,
    "start_time": "2024-07-23T03:10:58.359Z"
   },
   {
    "duration": 1554,
    "start_time": "2024-07-23T03:11:03.369Z"
   },
   {
    "duration": 30,
    "start_time": "2024-07-23T03:11:04.927Z"
   },
   {
    "duration": 17,
    "start_time": "2024-07-23T03:11:04.960Z"
   },
   {
    "duration": 12,
    "start_time": "2024-07-23T03:11:04.980Z"
   },
   {
    "duration": 36,
    "start_time": "2024-07-23T03:11:04.996Z"
   },
   {
    "duration": 668,
    "start_time": "2024-07-23T03:11:05.036Z"
   },
   {
    "duration": 335,
    "start_time": "2024-07-23T03:11:05.710Z"
   },
   {
    "duration": 392,
    "start_time": "2024-07-23T03:11:06.048Z"
   },
   {
    "duration": 328,
    "start_time": "2024-07-23T03:11:06.446Z"
   },
   {
    "duration": 169,
    "start_time": "2024-07-23T03:11:06.778Z"
   },
   {
    "duration": 226,
    "start_time": "2024-07-23T03:11:06.950Z"
   },
   {
    "duration": 295,
    "start_time": "2024-07-23T03:11:07.179Z"
   },
   {
    "duration": 475,
    "start_time": "2024-07-23T03:11:07.478Z"
   },
   {
    "duration": 480,
    "start_time": "2024-07-23T03:11:07.959Z"
   },
   {
    "duration": 376,
    "start_time": "2024-07-23T03:11:08.442Z"
   },
   {
    "duration": 31,
    "start_time": "2024-07-23T03:11:08.823Z"
   },
   {
    "duration": 242,
    "start_time": "2024-07-23T03:11:08.858Z"
   },
   {
    "duration": 22,
    "start_time": "2024-07-23T03:11:09.103Z"
   },
   {
    "duration": 497,
    "start_time": "2024-07-23T03:11:09.128Z"
   },
   {
    "duration": 14,
    "start_time": "2024-07-23T03:11:09.628Z"
   },
   {
    "duration": 13,
    "start_time": "2024-07-23T03:11:09.645Z"
   },
   {
    "duration": 33,
    "start_time": "2024-07-23T03:11:09.661Z"
   },
   {
    "duration": 261,
    "start_time": "2024-07-23T03:11:09.697Z"
   },
   {
    "duration": 5671,
    "start_time": "2024-07-23T03:11:09.961Z"
   },
   {
    "duration": 446,
    "start_time": "2024-07-23T03:11:15.636Z"
   },
   {
    "duration": 1886,
    "start_time": "2024-07-23T03:11:37.490Z"
   },
   {
    "duration": 1580,
    "start_time": "2024-07-23T03:11:43.431Z"
   },
   {
    "duration": 31,
    "start_time": "2024-07-23T03:11:45.014Z"
   },
   {
    "duration": 18,
    "start_time": "2024-07-23T03:11:45.048Z"
   },
   {
    "duration": 12,
    "start_time": "2024-07-23T03:11:45.070Z"
   },
   {
    "duration": 48,
    "start_time": "2024-07-23T03:11:45.085Z"
   },
   {
    "duration": 648,
    "start_time": "2024-07-23T03:11:45.136Z"
   },
   {
    "duration": 337,
    "start_time": "2024-07-23T03:11:45.788Z"
   },
   {
    "duration": 382,
    "start_time": "2024-07-23T03:11:46.128Z"
   },
   {
    "duration": 332,
    "start_time": "2024-07-23T03:11:46.522Z"
   },
   {
    "duration": 169,
    "start_time": "2024-07-23T03:11:46.861Z"
   },
   {
    "duration": 233,
    "start_time": "2024-07-23T03:11:47.034Z"
   },
   {
    "duration": 291,
    "start_time": "2024-07-23T03:11:47.270Z"
   },
   {
    "duration": 461,
    "start_time": "2024-07-23T03:11:47.565Z"
   },
   {
    "duration": 480,
    "start_time": "2024-07-23T03:11:48.029Z"
   },
   {
    "duration": 370,
    "start_time": "2024-07-23T03:11:48.522Z"
   },
   {
    "duration": 41,
    "start_time": "2024-07-23T03:11:48.895Z"
   },
   {
    "duration": 244,
    "start_time": "2024-07-23T03:11:48.939Z"
   },
   {
    "duration": 8,
    "start_time": "2024-07-23T03:11:49.185Z"
   },
   {
    "duration": 512,
    "start_time": "2024-07-23T03:11:49.196Z"
   },
   {
    "duration": 20,
    "start_time": "2024-07-23T03:11:49.713Z"
   },
   {
    "duration": 15,
    "start_time": "2024-07-23T03:11:49.737Z"
   },
   {
    "duration": 19,
    "start_time": "2024-07-23T03:11:49.756Z"
   },
   {
    "duration": 253,
    "start_time": "2024-07-23T03:11:49.778Z"
   },
   {
    "duration": 5489,
    "start_time": "2024-07-23T03:11:50.034Z"
   },
   {
    "duration": 478,
    "start_time": "2024-07-23T03:11:55.526Z"
   },
   {
    "duration": 1530,
    "start_time": "2024-07-23T03:12:06.552Z"
   },
   {
    "duration": 1585,
    "start_time": "2024-07-23T03:12:37.396Z"
   },
   {
    "duration": 47,
    "start_time": "2024-07-23T03:12:38.985Z"
   },
   {
    "duration": 22,
    "start_time": "2024-07-23T03:12:39.035Z"
   },
   {
    "duration": 14,
    "start_time": "2024-07-23T03:12:39.060Z"
   },
   {
    "duration": 11,
    "start_time": "2024-07-23T03:12:39.080Z"
   },
   {
    "duration": 652,
    "start_time": "2024-07-23T03:12:39.124Z"
   },
   {
    "duration": 348,
    "start_time": "2024-07-23T03:12:39.779Z"
   },
   {
    "duration": 401,
    "start_time": "2024-07-23T03:12:40.131Z"
   },
   {
    "duration": 334,
    "start_time": "2024-07-23T03:12:40.536Z"
   },
   {
    "duration": 169,
    "start_time": "2024-07-23T03:12:40.875Z"
   },
   {
    "duration": 255,
    "start_time": "2024-07-23T03:12:41.048Z"
   },
   {
    "duration": 289,
    "start_time": "2024-07-23T03:12:41.306Z"
   },
   {
    "duration": 465,
    "start_time": "2024-07-23T03:12:41.598Z"
   },
   {
    "duration": 476,
    "start_time": "2024-07-23T03:12:42.071Z"
   },
   {
    "duration": 368,
    "start_time": "2024-07-23T03:12:42.551Z"
   },
   {
    "duration": 28,
    "start_time": "2024-07-23T03:12:42.924Z"
   },
   {
    "duration": 252,
    "start_time": "2024-07-23T03:12:42.955Z"
   },
   {
    "duration": 13,
    "start_time": "2024-07-23T03:12:43.210Z"
   },
   {
    "duration": 506,
    "start_time": "2024-07-23T03:12:43.228Z"
   },
   {
    "duration": 11,
    "start_time": "2024-07-23T03:12:43.737Z"
   },
   {
    "duration": 8,
    "start_time": "2024-07-23T03:12:43.752Z"
   },
   {
    "duration": 20,
    "start_time": "2024-07-23T03:12:43.763Z"
   },
   {
    "duration": 208,
    "start_time": "2024-07-23T03:12:43.822Z"
   },
   {
    "duration": 5581,
    "start_time": "2024-07-23T03:12:44.032Z"
   },
   {
    "duration": 524,
    "start_time": "2024-07-23T03:12:49.616Z"
   },
   {
    "duration": 1534,
    "start_time": "2024-07-23T03:14:34.850Z"
   },
   {
    "duration": 1534,
    "start_time": "2024-07-23T03:14:42.180Z"
   },
   {
    "duration": 35,
    "start_time": "2024-07-23T03:14:43.717Z"
   },
   {
    "duration": 17,
    "start_time": "2024-07-23T03:14:43.755Z"
   },
   {
    "duration": 12,
    "start_time": "2024-07-23T03:14:43.776Z"
   },
   {
    "duration": 11,
    "start_time": "2024-07-23T03:14:43.824Z"
   },
   {
    "duration": 651,
    "start_time": "2024-07-23T03:14:43.839Z"
   },
   {
    "duration": 323,
    "start_time": "2024-07-23T03:14:44.493Z"
   },
   {
    "duration": 387,
    "start_time": "2024-07-23T03:14:44.818Z"
   },
   {
    "duration": 323,
    "start_time": "2024-07-23T03:14:45.211Z"
   },
   {
    "duration": 171,
    "start_time": "2024-07-23T03:14:45.539Z"
   },
   {
    "duration": 222,
    "start_time": "2024-07-23T03:14:45.713Z"
   },
   {
    "duration": 287,
    "start_time": "2024-07-23T03:14:45.938Z"
   },
   {
    "duration": 499,
    "start_time": "2024-07-23T03:14:46.228Z"
   },
   {
    "duration": 456,
    "start_time": "2024-07-23T03:14:46.730Z"
   },
   {
    "duration": 391,
    "start_time": "2024-07-23T03:14:47.189Z"
   },
   {
    "duration": 41,
    "start_time": "2024-07-23T03:14:47.583Z"
   },
   {
    "duration": 221,
    "start_time": "2024-07-23T03:14:47.628Z"
   },
   {
    "duration": 10,
    "start_time": "2024-07-23T03:14:47.852Z"
   },
   {
    "duration": 507,
    "start_time": "2024-07-23T03:14:47.865Z"
   },
   {
    "duration": 12,
    "start_time": "2024-07-23T03:14:48.374Z"
   },
   {
    "duration": 35,
    "start_time": "2024-07-23T03:14:48.389Z"
   },
   {
    "duration": 20,
    "start_time": "2024-07-23T03:14:48.427Z"
   },
   {
    "duration": 232,
    "start_time": "2024-07-23T03:14:48.450Z"
   },
   {
    "duration": 5452,
    "start_time": "2024-07-23T03:14:48.687Z"
   },
   {
    "duration": 522,
    "start_time": "2024-07-23T03:14:54.142Z"
   },
   {
    "duration": 2190,
    "start_time": "2024-07-23T03:15:38.484Z"
   },
   {
    "duration": 1679,
    "start_time": "2024-07-23T03:15:46.062Z"
   },
   {
    "duration": 31,
    "start_time": "2024-07-23T03:15:47.745Z"
   },
   {
    "duration": 16,
    "start_time": "2024-07-23T03:15:47.780Z"
   },
   {
    "duration": 35,
    "start_time": "2024-07-23T03:15:47.800Z"
   },
   {
    "duration": 12,
    "start_time": "2024-07-23T03:15:47.838Z"
   },
   {
    "duration": 671,
    "start_time": "2024-07-23T03:15:47.853Z"
   },
   {
    "duration": 335,
    "start_time": "2024-07-23T03:15:48.528Z"
   },
   {
    "duration": 392,
    "start_time": "2024-07-23T03:15:48.866Z"
   },
   {
    "duration": 338,
    "start_time": "2024-07-23T03:15:49.261Z"
   },
   {
    "duration": 197,
    "start_time": "2024-07-23T03:15:49.607Z"
   },
   {
    "duration": 252,
    "start_time": "2024-07-23T03:15:49.807Z"
   },
   {
    "duration": 387,
    "start_time": "2024-07-23T03:15:50.062Z"
   },
   {
    "duration": 493,
    "start_time": "2024-07-23T03:15:50.452Z"
   },
   {
    "duration": 481,
    "start_time": "2024-07-23T03:15:50.949Z"
   },
   {
    "duration": 378,
    "start_time": "2024-07-23T03:15:51.433Z"
   },
   {
    "duration": 33,
    "start_time": "2024-07-23T03:15:51.814Z"
   },
   {
    "duration": 246,
    "start_time": "2024-07-23T03:15:51.850Z"
   },
   {
    "duration": 23,
    "start_time": "2024-07-23T03:15:52.100Z"
   },
   {
    "duration": 499,
    "start_time": "2024-07-23T03:15:52.126Z"
   },
   {
    "duration": 13,
    "start_time": "2024-07-23T03:15:52.627Z"
   },
   {
    "duration": 9,
    "start_time": "2024-07-23T03:15:52.643Z"
   },
   {
    "duration": 67,
    "start_time": "2024-07-23T03:15:52.655Z"
   },
   {
    "duration": 202,
    "start_time": "2024-07-23T03:15:52.725Z"
   },
   {
    "duration": 5901,
    "start_time": "2024-07-23T03:15:52.930Z"
   },
   {
    "duration": 862,
    "start_time": "2024-07-23T03:15:58.837Z"
   },
   {
    "duration": 5554,
    "start_time": "2024-07-25T21:16:12.504Z"
   },
   {
    "duration": 31,
    "start_time": "2024-07-25T21:16:18.062Z"
   },
   {
    "duration": 16,
    "start_time": "2024-07-25T21:16:18.101Z"
   },
   {
    "duration": 12,
    "start_time": "2024-07-25T21:16:18.121Z"
   },
   {
    "duration": 16,
    "start_time": "2024-07-25T21:16:18.139Z"
   },
   {
    "duration": 716,
    "start_time": "2024-07-25T21:16:18.158Z"
   },
   {
    "duration": 339,
    "start_time": "2024-07-25T21:16:18.877Z"
   },
   {
    "duration": 464,
    "start_time": "2024-07-25T21:16:19.219Z"
   },
   {
    "duration": 342,
    "start_time": "2024-07-25T21:16:19.687Z"
   },
   {
    "duration": 177,
    "start_time": "2024-07-25T21:16:20.032Z"
   },
   {
    "duration": 229,
    "start_time": "2024-07-25T21:16:20.213Z"
   },
   {
    "duration": 296,
    "start_time": "2024-07-25T21:16:20.446Z"
   },
   {
    "duration": 413,
    "start_time": "2024-07-25T21:16:20.746Z"
   },
   {
    "duration": 563,
    "start_time": "2024-07-25T21:16:21.165Z"
   },
   {
    "duration": 373,
    "start_time": "2024-07-25T21:16:21.734Z"
   },
   {
    "duration": 28,
    "start_time": "2024-07-25T21:16:22.110Z"
   },
   {
    "duration": 245,
    "start_time": "2024-07-25T21:16:22.141Z"
   },
   {
    "duration": 17,
    "start_time": "2024-07-25T21:16:22.389Z"
   },
   {
    "duration": 455,
    "start_time": "2024-07-25T21:16:22.410Z"
   },
   {
    "duration": 12,
    "start_time": "2024-07-25T21:16:22.869Z"
   },
   {
    "duration": 7,
    "start_time": "2024-07-25T21:16:22.903Z"
   },
   {
    "duration": 22,
    "start_time": "2024-07-25T21:16:22.914Z"
   },
   {
    "duration": 233,
    "start_time": "2024-07-25T21:16:22.939Z"
   },
   {
    "duration": 5765,
    "start_time": "2024-07-25T21:16:23.175Z"
   },
   {
    "duration": 281,
    "start_time": "2024-07-25T21:16:34.186Z"
   },
   {
    "duration": 32,
    "start_time": "2024-07-25T21:16:52.768Z"
   },
   {
    "duration": 1475,
    "start_time": "2024-07-25T21:17:00.656Z"
   },
   {
    "duration": 1669,
    "start_time": "2024-07-25T21:17:15.488Z"
   },
   {
    "duration": 28,
    "start_time": "2024-07-25T21:17:17.161Z"
   },
   {
    "duration": 18,
    "start_time": "2024-07-25T21:17:17.202Z"
   },
   {
    "duration": 12,
    "start_time": "2024-07-25T21:17:17.225Z"
   },
   {
    "duration": 12,
    "start_time": "2024-07-25T21:17:17.241Z"
   },
   {
    "duration": 704,
    "start_time": "2024-07-25T21:17:17.256Z"
   },
   {
    "duration": 354,
    "start_time": "2024-07-25T21:17:17.963Z"
   },
   {
    "duration": 411,
    "start_time": "2024-07-25T21:17:18.320Z"
   },
   {
    "duration": 343,
    "start_time": "2024-07-25T21:17:18.735Z"
   },
   {
    "duration": 175,
    "start_time": "2024-07-25T21:17:19.084Z"
   },
   {
    "duration": 238,
    "start_time": "2024-07-25T21:17:19.263Z"
   },
   {
    "duration": 302,
    "start_time": "2024-07-25T21:17:19.505Z"
   },
   {
    "duration": 575,
    "start_time": "2024-07-25T21:17:19.811Z"
   },
   {
    "duration": 521,
    "start_time": "2024-07-25T21:17:20.390Z"
   },
   {
    "duration": 364,
    "start_time": "2024-07-25T21:17:20.914Z"
   },
   {
    "duration": 40,
    "start_time": "2024-07-25T21:17:21.281Z"
   },
   {
    "duration": 231,
    "start_time": "2024-07-25T21:17:21.324Z"
   },
   {
    "duration": 7,
    "start_time": "2024-07-25T21:17:21.558Z"
   },
   {
    "duration": 575,
    "start_time": "2024-07-25T21:17:21.568Z"
   },
   {
    "duration": 11,
    "start_time": "2024-07-25T21:17:22.146Z"
   },
   {
    "duration": 7,
    "start_time": "2024-07-25T21:17:22.160Z"
   },
   {
    "duration": 43,
    "start_time": "2024-07-25T21:17:22.171Z"
   },
   {
    "duration": 217,
    "start_time": "2024-07-25T21:17:22.218Z"
   },
   {
    "duration": 5753,
    "start_time": "2024-07-25T21:17:22.438Z"
   },
   {
    "duration": 654,
    "start_time": "2024-07-25T21:17:47.992Z"
   },
   {
    "duration": 1704,
    "start_time": "2024-07-25T21:18:36.352Z"
   },
   {
    "duration": 109,
    "start_time": "2024-07-25T21:18:52.704Z"
   },
   {
    "duration": 289,
    "start_time": "2024-07-25T21:18:54.815Z"
   },
   {
    "duration": 90,
    "start_time": "2024-07-25T21:18:56.024Z"
   },
   {
    "duration": 346,
    "start_time": "2024-07-25T21:19:30.561Z"
   },
   {
    "duration": 524,
    "start_time": "2024-07-25T21:19:47.647Z"
   }
  ],
  "kernelspec": {
   "display_name": "Python 3 (ipykernel)",
   "language": "python",
   "name": "python3"
  },
  "language_info": {
   "codemirror_mode": {
    "name": "ipython",
    "version": 3
   },
   "file_extension": ".py",
   "mimetype": "text/x-python",
   "name": "python",
   "nbconvert_exporter": "python",
   "pygments_lexer": "ipython3",
   "version": "3.9.19"
  },
  "toc": {
   "base_numbering": 1,
   "nav_menu": {},
   "number_sections": true,
   "sideBar": true,
   "skip_h1_title": true,
   "title_cell": "Table of Contents",
   "title_sidebar": "Contents",
   "toc_cell": false,
   "toc_position": {},
   "toc_section_display": true,
   "toc_window_display": false
  }
 },
 "nbformat": 4,
 "nbformat_minor": 2
}
